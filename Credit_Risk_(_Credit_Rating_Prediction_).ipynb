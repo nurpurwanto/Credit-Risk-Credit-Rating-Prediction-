{
  "cells": [
    {
      "cell_type": "markdown",
      "id": "99597ca5-47d9-4f63-bed9-b3d873f16841",
      "metadata": {
        "id": "99597ca5-47d9-4f63-bed9-b3d873f16841"
      },
      "source": [
        "# LIBRARIES"
      ]
    },
    {
      "cell_type": "code",
      "execution_count": null,
      "id": "66707289-c198-4047-ac46-0de7a73a533c",
      "metadata": {
        "id": "66707289-c198-4047-ac46-0de7a73a533c"
      },
      "outputs": [],
      "source": [
        "import numpy as np \n",
        "\n",
        "import pandas as pd \n",
        "pd.set_option('display.max_columns', None)\n",
        "pd.set_option('display.max_rows', 99)\n",
        "\n",
        "import matplotlib as mpl\n",
        "import matplotlib.pyplot as plt \n",
        "import plotly.express as px\n",
        "import seaborn as sns \n",
        "sns.set()\n",
        "\n",
        "# #creating deepcopy of model instances\n",
        "# from copy import deepcopy\n",
        "\n",
        "# #selected plotting functions\n",
        "# from statsmodels.graphics.tsaplots import plot_acf,plot_pacf\n",
        "\n",
        "#classes for grid search and cross-validation, function for splitting data and evaluating models\n",
        "from sklearn.model_selection import GridSearchCV,RandomizedSearchCV,train_test_split\n",
        "from sklearn.metrics import accuracy_score,f1_score,roc_auc_score,confusion_matrix,roc_curve\n",
        "\n",
        "#Python standard libraries\n",
        "import time\n",
        "import warnings\n",
        "\n",
        "#setting default resolution of figures\n",
        "# mpl.rcParams['figure.dpi'] = 200"
      ]
    },
    {
      "cell_type": "markdown",
      "id": "e39d1c0c-0778-4f15-bacb-6ec77b9259d5",
      "metadata": {
        "tags": [],
        "id": "e39d1c0c-0778-4f15-bacb-6ec77b9259d5"
      },
      "source": [
        "# IMPORTING DATA "
      ]
    },
    {
      "cell_type": "markdown",
      "source": [
        "dataset from [kaggle](https://www.kaggle.com/datasets/devanshi23/loan-data-2007-2014)"
      ],
      "metadata": {
        "id": "QG-hdd6zy9t-"
      },
      "id": "QG-hdd6zy9t-"
    },
    {
      "cell_type": "code",
      "execution_count": null,
      "metadata": {
        "colab": {
          "base_uri": "https://localhost:8080/"
        },
        "id": "H2A2T08s-eGT",
        "outputId": "4fcb993f-35c9-472e-b61a-1dba77de0780"
      },
      "outputs": [
        {
          "output_type": "stream",
          "name": "stdout",
          "text": [
            "Mounted at /content/gdrive\n"
          ]
        }
      ],
      "source": [
        "from google.colab import drive\n",
        "drive.mount('/content/gdrive')"
      ],
      "id": "H2A2T08s-eGT"
    },
    {
      "cell_type": "code",
      "execution_count": null,
      "metadata": {
        "colab": {
          "base_uri": "https://localhost:8080/"
        },
        "id": "SgqHNpHU-ev7",
        "outputId": "042f282a-f3d5-444d-ff7e-892fad486d73"
      },
      "outputs": [
        {
          "output_type": "stream",
          "name": "stdout",
          "text": [
            "/content/gdrive/My Drive/Colab Notebooks/Dataset\n"
          ]
        }
      ],
      "source": [
        "%cd /content/gdrive/My Drive/Colab Notebooks/Dataset/"
      ],
      "id": "SgqHNpHU-ev7"
    },
    {
      "cell_type": "code",
      "execution_count": null,
      "id": "a52599e9-619e-4263-b5a5-d14dbea62c44",
      "metadata": {
        "colab": {
          "base_uri": "https://localhost:8080/"
        },
        "id": "a52599e9-619e-4263-b5a5-d14dbea62c44",
        "outputId": "64832954-705b-450e-93f5-be6495032e76"
      },
      "outputs": [
        {
          "output_type": "stream",
          "name": "stderr",
          "text": [
            "/usr/local/lib/python3.7/dist-packages/IPython/core/interactiveshell.py:2882: DtypeWarning: Columns (20) have mixed types.Specify dtype option on import or set low_memory=False.\n",
            "  exec(code_obj, self.user_global_ns, self.user_ns)\n"
          ]
        }
      ],
      "source": [
        "data_raw = pd.read_csv('LoanData2007_2014.csv', index_col=0)"
      ]
    },
    {
      "cell_type": "markdown",
      "id": "e8ea4fa6-0ae4-4435-adab-641d2f3a26b9",
      "metadata": {
        "id": "e8ea4fa6-0ae4-4435-adab-641d2f3a26b9"
      },
      "source": [
        "# EXPLORING DATA "
      ]
    },
    {
      "cell_type": "code",
      "execution_count": null,
      "id": "d14e5613-33db-4928-b4f0-13c2c957aaeb",
      "metadata": {
        "colab": {
          "base_uri": "https://localhost:8080/"
        },
        "id": "d14e5613-33db-4928-b4f0-13c2c957aaeb",
        "outputId": "b690c25a-bc64-426e-bbd5-ee0c9e8f7105"
      },
      "outputs": [
        {
          "output_type": "execute_result",
          "data": {
            "text/plain": [
              "(466285, 74)"
            ]
          },
          "metadata": {},
          "execution_count": 6
        }
      ],
      "source": [
        "data_raw.shape"
      ]
    },
    {
      "cell_type": "code",
      "execution_count": null,
      "id": "14f2a434-98e4-426d-8914-5b56dba4f1c3",
      "metadata": {
        "scrolled": true,
        "tags": [],
        "colab": {
          "base_uri": "https://localhost:8080/"
        },
        "id": "14f2a434-98e4-426d-8914-5b56dba4f1c3",
        "outputId": "fafc88f6-d544-4fed-8e90-2747a7704484"
      },
      "outputs": [
        {
          "output_type": "stream",
          "name": "stdout",
          "text": [
            "<class 'pandas.core.frame.DataFrame'>\n",
            "Int64Index: 466285 entries, 0 to 466284\n",
            "Data columns (total 74 columns):\n",
            " #   Column                       Non-Null Count   Dtype  \n",
            "---  ------                       --------------   -----  \n",
            " 0   id                           466285 non-null  int64  \n",
            " 1   member_id                    466285 non-null  int64  \n",
            " 2   loan_amnt                    466285 non-null  int64  \n",
            " 3   funded_amnt                  466285 non-null  int64  \n",
            " 4   funded_amnt_inv              466285 non-null  float64\n",
            " 5   term                         466285 non-null  object \n",
            " 6   int_rate                     466285 non-null  float64\n",
            " 7   installment                  466285 non-null  float64\n",
            " 8   grade                        466285 non-null  object \n",
            " 9   sub_grade                    466285 non-null  object \n",
            " 10  emp_title                    438697 non-null  object \n",
            " 11  emp_length                   445277 non-null  object \n",
            " 12  home_ownership               466285 non-null  object \n",
            " 13  annual_inc                   466281 non-null  float64\n",
            " 14  verification_status          466285 non-null  object \n",
            " 15  issue_d                      466285 non-null  object \n",
            " 16  loan_status                  466285 non-null  object \n",
            " 17  pymnt_plan                   466285 non-null  object \n",
            " 18  url                          466285 non-null  object \n",
            " 19  desc                         125983 non-null  object \n",
            " 20  purpose                      466285 non-null  object \n",
            " 21  title                        466265 non-null  object \n",
            " 22  zip_code                     466285 non-null  object \n",
            " 23  addr_state                   466285 non-null  object \n",
            " 24  dti                          466285 non-null  float64\n",
            " 25  delinq_2yrs                  466256 non-null  float64\n",
            " 26  earliest_cr_line             466256 non-null  object \n",
            " 27  inq_last_6mths               466256 non-null  float64\n",
            " 28  mths_since_last_delinq       215934 non-null  float64\n",
            " 29  mths_since_last_record       62638 non-null   float64\n",
            " 30  open_acc                     466256 non-null  float64\n",
            " 31  pub_rec                      466256 non-null  float64\n",
            " 32  revol_bal                    466285 non-null  int64  \n",
            " 33  revol_util                   465945 non-null  float64\n",
            " 34  total_acc                    466256 non-null  float64\n",
            " 35  initial_list_status          466285 non-null  object \n",
            " 36  out_prncp                    466285 non-null  float64\n",
            " 37  out_prncp_inv                466285 non-null  float64\n",
            " 38  total_pymnt                  466285 non-null  float64\n",
            " 39  total_pymnt_inv              466285 non-null  float64\n",
            " 40  total_rec_prncp              466285 non-null  float64\n",
            " 41  total_rec_int                466285 non-null  float64\n",
            " 42  total_rec_late_fee           466285 non-null  float64\n",
            " 43  recoveries                   466285 non-null  float64\n",
            " 44  collection_recovery_fee      466285 non-null  float64\n",
            " 45  last_pymnt_d                 465909 non-null  object \n",
            " 46  last_pymnt_amnt              466285 non-null  float64\n",
            " 47  next_pymnt_d                 239071 non-null  object \n",
            " 48  last_credit_pull_d           466243 non-null  object \n",
            " 49  collections_12_mths_ex_med   466140 non-null  float64\n",
            " 50  mths_since_last_major_derog  98974 non-null   float64\n",
            " 51  policy_code                  466285 non-null  int64  \n",
            " 52  application_type             466285 non-null  object \n",
            " 53  annual_inc_joint             0 non-null       float64\n",
            " 54  dti_joint                    0 non-null       float64\n",
            " 55  verification_status_joint    0 non-null       float64\n",
            " 56  acc_now_delinq               466256 non-null  float64\n",
            " 57  tot_coll_amt                 396009 non-null  float64\n",
            " 58  tot_cur_bal                  396009 non-null  float64\n",
            " 59  open_acc_6m                  0 non-null       float64\n",
            " 60  open_il_6m                   0 non-null       float64\n",
            " 61  open_il_12m                  0 non-null       float64\n",
            " 62  open_il_24m                  0 non-null       float64\n",
            " 63  mths_since_rcnt_il           0 non-null       float64\n",
            " 64  total_bal_il                 0 non-null       float64\n",
            " 65  il_util                      0 non-null       float64\n",
            " 66  open_rv_12m                  0 non-null       float64\n",
            " 67  open_rv_24m                  0 non-null       float64\n",
            " 68  max_bal_bc                   0 non-null       float64\n",
            " 69  all_util                     0 non-null       float64\n",
            " 70  total_rev_hi_lim             396009 non-null  float64\n",
            " 71  inq_fi                       0 non-null       float64\n",
            " 72  total_cu_tl                  0 non-null       float64\n",
            " 73  inq_last_12m                 0 non-null       float64\n",
            "dtypes: float64(46), int64(6), object(22)\n",
            "memory usage: 266.8+ MB\n"
          ]
        }
      ],
      "source": [
        "data_raw.info()"
      ]
    },
    {
      "cell_type": "code",
      "execution_count": null,
      "id": "ae2de89b-b107-4aed-a27a-d3e459dad9a7",
      "metadata": {
        "id": "ae2de89b-b107-4aed-a27a-d3e459dad9a7",
        "outputId": "bf5d13d8-904f-444b-c1a0-9046a90146ea",
        "colab": {
          "base_uri": "https://localhost:8080/",
          "height": 162
        }
      },
      "outputs": [
        {
          "output_type": "execute_result",
          "data": {
            "text/plain": [
              "             id  member_id  loan_amnt  funded_amnt  funded_amnt_inv  \\\n",
              "125099  5799161    7230980      15000        15000          15000.0   \n",
              "\n",
              "              term  int_rate  installment grade sub_grade emp_title  \\\n",
              "125099   36 months     10.16       485.14     B        B1  Doka USA   \n",
              "\n",
              "       emp_length home_ownership  annual_inc verification_status issue_d  \\\n",
              "125099    3 years       MORTGAGE     68000.0     Source Verified  Jul-13   \n",
              "\n",
              "       loan_status pymnt_plan  \\\n",
              "125099  Fully Paid          n   \n",
              "\n",
              "                                                      url desc  \\\n",
              "125099  https://www.lendingclub.com/browse/loanDetail....  NaN   \n",
              "\n",
              "                   purpose               title zip_code addr_state    dti  \\\n",
              "125099  debt_consolidation  Debt consolidation    773xx         TX  14.91   \n",
              "\n",
              "        delinq_2yrs earliest_cr_line  inq_last_6mths  mths_since_last_delinq  \\\n",
              "125099          0.0           Sep-96             1.0                     NaN   \n",
              "\n",
              "        mths_since_last_record  open_acc  pub_rec  revol_bal  revol_util  \\\n",
              "125099                    96.0       9.0      1.0      10523        63.0   \n",
              "\n",
              "        total_acc initial_list_status  out_prncp  out_prncp_inv  total_pymnt  \\\n",
              "125099       19.0                   f        0.0            0.0  17184.73962   \n",
              "\n",
              "        total_pymnt_inv  total_rec_prncp  total_rec_int  total_rec_late_fee  \\\n",
              "125099         17184.74          15000.0        2184.74                 0.0   \n",
              "\n",
              "        recoveries  collection_recovery_fee last_pymnt_d  last_pymnt_amnt  \\\n",
              "125099         0.0                      0.0       Jul-15          6033.03   \n",
              "\n",
              "       next_pymnt_d last_credit_pull_d  collections_12_mths_ex_med  \\\n",
              "125099          NaN             Jan-16                         0.0   \n",
              "\n",
              "        mths_since_last_major_derog  policy_code application_type  \\\n",
              "125099                          NaN            1       INDIVIDUAL   \n",
              "\n",
              "        annual_inc_joint  dti_joint  verification_status_joint  \\\n",
              "125099               NaN        NaN                        NaN   \n",
              "\n",
              "        acc_now_delinq  tot_coll_amt  tot_cur_bal  open_acc_6m  open_il_6m  \\\n",
              "125099             0.0           0.0     173057.0          NaN         NaN   \n",
              "\n",
              "        open_il_12m  open_il_24m  mths_since_rcnt_il  total_bal_il  il_util  \\\n",
              "125099          NaN          NaN                 NaN           NaN      NaN   \n",
              "\n",
              "        open_rv_12m  open_rv_24m  max_bal_bc  all_util  total_rev_hi_lim  \\\n",
              "125099          NaN          NaN         NaN       NaN           16700.0   \n",
              "\n",
              "        inq_fi  total_cu_tl  inq_last_12m  \n",
              "125099     NaN          NaN           NaN  "
            ],
            "text/html": [
              "\n",
              "  <div id=\"df-a21eb09f-b78e-41d6-a029-cd771b2e9194\">\n",
              "    <div class=\"colab-df-container\">\n",
              "      <div>\n",
              "<style scoped>\n",
              "    .dataframe tbody tr th:only-of-type {\n",
              "        vertical-align: middle;\n",
              "    }\n",
              "\n",
              "    .dataframe tbody tr th {\n",
              "        vertical-align: top;\n",
              "    }\n",
              "\n",
              "    .dataframe thead th {\n",
              "        text-align: right;\n",
              "    }\n",
              "</style>\n",
              "<table border=\"1\" class=\"dataframe\">\n",
              "  <thead>\n",
              "    <tr style=\"text-align: right;\">\n",
              "      <th></th>\n",
              "      <th>id</th>\n",
              "      <th>member_id</th>\n",
              "      <th>loan_amnt</th>\n",
              "      <th>funded_amnt</th>\n",
              "      <th>funded_amnt_inv</th>\n",
              "      <th>term</th>\n",
              "      <th>int_rate</th>\n",
              "      <th>installment</th>\n",
              "      <th>grade</th>\n",
              "      <th>sub_grade</th>\n",
              "      <th>emp_title</th>\n",
              "      <th>emp_length</th>\n",
              "      <th>home_ownership</th>\n",
              "      <th>annual_inc</th>\n",
              "      <th>verification_status</th>\n",
              "      <th>issue_d</th>\n",
              "      <th>loan_status</th>\n",
              "      <th>pymnt_plan</th>\n",
              "      <th>url</th>\n",
              "      <th>desc</th>\n",
              "      <th>purpose</th>\n",
              "      <th>title</th>\n",
              "      <th>zip_code</th>\n",
              "      <th>addr_state</th>\n",
              "      <th>dti</th>\n",
              "      <th>delinq_2yrs</th>\n",
              "      <th>earliest_cr_line</th>\n",
              "      <th>inq_last_6mths</th>\n",
              "      <th>mths_since_last_delinq</th>\n",
              "      <th>mths_since_last_record</th>\n",
              "      <th>open_acc</th>\n",
              "      <th>pub_rec</th>\n",
              "      <th>revol_bal</th>\n",
              "      <th>revol_util</th>\n",
              "      <th>total_acc</th>\n",
              "      <th>initial_list_status</th>\n",
              "      <th>out_prncp</th>\n",
              "      <th>out_prncp_inv</th>\n",
              "      <th>total_pymnt</th>\n",
              "      <th>total_pymnt_inv</th>\n",
              "      <th>total_rec_prncp</th>\n",
              "      <th>total_rec_int</th>\n",
              "      <th>total_rec_late_fee</th>\n",
              "      <th>recoveries</th>\n",
              "      <th>collection_recovery_fee</th>\n",
              "      <th>last_pymnt_d</th>\n",
              "      <th>last_pymnt_amnt</th>\n",
              "      <th>next_pymnt_d</th>\n",
              "      <th>last_credit_pull_d</th>\n",
              "      <th>collections_12_mths_ex_med</th>\n",
              "      <th>mths_since_last_major_derog</th>\n",
              "      <th>policy_code</th>\n",
              "      <th>application_type</th>\n",
              "      <th>annual_inc_joint</th>\n",
              "      <th>dti_joint</th>\n",
              "      <th>verification_status_joint</th>\n",
              "      <th>acc_now_delinq</th>\n",
              "      <th>tot_coll_amt</th>\n",
              "      <th>tot_cur_bal</th>\n",
              "      <th>open_acc_6m</th>\n",
              "      <th>open_il_6m</th>\n",
              "      <th>open_il_12m</th>\n",
              "      <th>open_il_24m</th>\n",
              "      <th>mths_since_rcnt_il</th>\n",
              "      <th>total_bal_il</th>\n",
              "      <th>il_util</th>\n",
              "      <th>open_rv_12m</th>\n",
              "      <th>open_rv_24m</th>\n",
              "      <th>max_bal_bc</th>\n",
              "      <th>all_util</th>\n",
              "      <th>total_rev_hi_lim</th>\n",
              "      <th>inq_fi</th>\n",
              "      <th>total_cu_tl</th>\n",
              "      <th>inq_last_12m</th>\n",
              "    </tr>\n",
              "  </thead>\n",
              "  <tbody>\n",
              "    <tr>\n",
              "      <th>125099</th>\n",
              "      <td>5799161</td>\n",
              "      <td>7230980</td>\n",
              "      <td>15000</td>\n",
              "      <td>15000</td>\n",
              "      <td>15000.0</td>\n",
              "      <td>36 months</td>\n",
              "      <td>10.16</td>\n",
              "      <td>485.14</td>\n",
              "      <td>B</td>\n",
              "      <td>B1</td>\n",
              "      <td>Doka USA</td>\n",
              "      <td>3 years</td>\n",
              "      <td>MORTGAGE</td>\n",
              "      <td>68000.0</td>\n",
              "      <td>Source Verified</td>\n",
              "      <td>Jul-13</td>\n",
              "      <td>Fully Paid</td>\n",
              "      <td>n</td>\n",
              "      <td>https://www.lendingclub.com/browse/loanDetail....</td>\n",
              "      <td>NaN</td>\n",
              "      <td>debt_consolidation</td>\n",
              "      <td>Debt consolidation</td>\n",
              "      <td>773xx</td>\n",
              "      <td>TX</td>\n",
              "      <td>14.91</td>\n",
              "      <td>0.0</td>\n",
              "      <td>Sep-96</td>\n",
              "      <td>1.0</td>\n",
              "      <td>NaN</td>\n",
              "      <td>96.0</td>\n",
              "      <td>9.0</td>\n",
              "      <td>1.0</td>\n",
              "      <td>10523</td>\n",
              "      <td>63.0</td>\n",
              "      <td>19.0</td>\n",
              "      <td>f</td>\n",
              "      <td>0.0</td>\n",
              "      <td>0.0</td>\n",
              "      <td>17184.73962</td>\n",
              "      <td>17184.74</td>\n",
              "      <td>15000.0</td>\n",
              "      <td>2184.74</td>\n",
              "      <td>0.0</td>\n",
              "      <td>0.0</td>\n",
              "      <td>0.0</td>\n",
              "      <td>Jul-15</td>\n",
              "      <td>6033.03</td>\n",
              "      <td>NaN</td>\n",
              "      <td>Jan-16</td>\n",
              "      <td>0.0</td>\n",
              "      <td>NaN</td>\n",
              "      <td>1</td>\n",
              "      <td>INDIVIDUAL</td>\n",
              "      <td>NaN</td>\n",
              "      <td>NaN</td>\n",
              "      <td>NaN</td>\n",
              "      <td>0.0</td>\n",
              "      <td>0.0</td>\n",
              "      <td>173057.0</td>\n",
              "      <td>NaN</td>\n",
              "      <td>NaN</td>\n",
              "      <td>NaN</td>\n",
              "      <td>NaN</td>\n",
              "      <td>NaN</td>\n",
              "      <td>NaN</td>\n",
              "      <td>NaN</td>\n",
              "      <td>NaN</td>\n",
              "      <td>NaN</td>\n",
              "      <td>NaN</td>\n",
              "      <td>NaN</td>\n",
              "      <td>16700.0</td>\n",
              "      <td>NaN</td>\n",
              "      <td>NaN</td>\n",
              "      <td>NaN</td>\n",
              "    </tr>\n",
              "  </tbody>\n",
              "</table>\n",
              "</div>\n",
              "      <button class=\"colab-df-convert\" onclick=\"convertToInteractive('df-a21eb09f-b78e-41d6-a029-cd771b2e9194')\"\n",
              "              title=\"Convert this dataframe to an interactive table.\"\n",
              "              style=\"display:none;\">\n",
              "        \n",
              "  <svg xmlns=\"http://www.w3.org/2000/svg\" height=\"24px\"viewBox=\"0 0 24 24\"\n",
              "       width=\"24px\">\n",
              "    <path d=\"M0 0h24v24H0V0z\" fill=\"none\"/>\n",
              "    <path d=\"M18.56 5.44l.94 2.06.94-2.06 2.06-.94-2.06-.94-.94-2.06-.94 2.06-2.06.94zm-11 1L8.5 8.5l.94-2.06 2.06-.94-2.06-.94L8.5 2.5l-.94 2.06-2.06.94zm10 10l.94 2.06.94-2.06 2.06-.94-2.06-.94-.94-2.06-.94 2.06-2.06.94z\"/><path d=\"M17.41 7.96l-1.37-1.37c-.4-.4-.92-.59-1.43-.59-.52 0-1.04.2-1.43.59L10.3 9.45l-7.72 7.72c-.78.78-.78 2.05 0 2.83L4 21.41c.39.39.9.59 1.41.59.51 0 1.02-.2 1.41-.59l7.78-7.78 2.81-2.81c.8-.78.8-2.07 0-2.86zM5.41 20L4 18.59l7.72-7.72 1.47 1.35L5.41 20z\"/>\n",
              "  </svg>\n",
              "      </button>\n",
              "      \n",
              "  <style>\n",
              "    .colab-df-container {\n",
              "      display:flex;\n",
              "      flex-wrap:wrap;\n",
              "      gap: 12px;\n",
              "    }\n",
              "\n",
              "    .colab-df-convert {\n",
              "      background-color: #E8F0FE;\n",
              "      border: none;\n",
              "      border-radius: 50%;\n",
              "      cursor: pointer;\n",
              "      display: none;\n",
              "      fill: #1967D2;\n",
              "      height: 32px;\n",
              "      padding: 0 0 0 0;\n",
              "      width: 32px;\n",
              "    }\n",
              "\n",
              "    .colab-df-convert:hover {\n",
              "      background-color: #E2EBFA;\n",
              "      box-shadow: 0px 1px 2px rgba(60, 64, 67, 0.3), 0px 1px 3px 1px rgba(60, 64, 67, 0.15);\n",
              "      fill: #174EA6;\n",
              "    }\n",
              "\n",
              "    [theme=dark] .colab-df-convert {\n",
              "      background-color: #3B4455;\n",
              "      fill: #D2E3FC;\n",
              "    }\n",
              "\n",
              "    [theme=dark] .colab-df-convert:hover {\n",
              "      background-color: #434B5C;\n",
              "      box-shadow: 0px 1px 3px 1px rgba(0, 0, 0, 0.15);\n",
              "      filter: drop-shadow(0px 1px 2px rgba(0, 0, 0, 0.3));\n",
              "      fill: #FFFFFF;\n",
              "    }\n",
              "  </style>\n",
              "\n",
              "      <script>\n",
              "        const buttonEl =\n",
              "          document.querySelector('#df-a21eb09f-b78e-41d6-a029-cd771b2e9194 button.colab-df-convert');\n",
              "        buttonEl.style.display =\n",
              "          google.colab.kernel.accessAllowed ? 'block' : 'none';\n",
              "\n",
              "        async function convertToInteractive(key) {\n",
              "          const element = document.querySelector('#df-a21eb09f-b78e-41d6-a029-cd771b2e9194');\n",
              "          const dataTable =\n",
              "            await google.colab.kernel.invokeFunction('convertToInteractive',\n",
              "                                                     [key], {});\n",
              "          if (!dataTable) return;\n",
              "\n",
              "          const docLinkHtml = 'Like what you see? Visit the ' +\n",
              "            '<a target=\"_blank\" href=https://colab.research.google.com/notebooks/data_table.ipynb>data table notebook</a>'\n",
              "            + ' to learn more about interactive tables.';\n",
              "          element.innerHTML = '';\n",
              "          dataTable['output_type'] = 'display_data';\n",
              "          await google.colab.output.renderOutput(dataTable, element);\n",
              "          const docLink = document.createElement('div');\n",
              "          docLink.innerHTML = docLinkHtml;\n",
              "          element.appendChild(docLink);\n",
              "        }\n",
              "      </script>\n",
              "    </div>\n",
              "  </div>\n",
              "  "
            ]
          },
          "metadata": {},
          "execution_count": 8
        }
      ],
      "source": [
        "data_raw.sample()"
      ]
    },
    {
      "cell_type": "code",
      "execution_count": null,
      "id": "b72e82ae-d940-42c7-afd7-c0b1355aee20",
      "metadata": {
        "colab": {
          "base_uri": "https://localhost:8080/"
        },
        "id": "b72e82ae-d940-42c7-afd7-c0b1355aee20",
        "outputId": "fbf2265e-2844-43d7-ec22-0bcabf4eeece"
      },
      "outputs": [
        {
          "output_type": "execute_result",
          "data": {
            "text/plain": [
              "466285"
            ]
          },
          "metadata": {},
          "execution_count": 9
        }
      ],
      "source": [
        "data_raw.id.nunique()"
      ]
    },
    {
      "cell_type": "code",
      "execution_count": null,
      "id": "dc5c9660-f592-49a0-86ea-6117fcb1b177",
      "metadata": {
        "colab": {
          "base_uri": "https://localhost:8080/"
        },
        "id": "dc5c9660-f592-49a0-86ea-6117fcb1b177",
        "outputId": "8f013da0-5930-4b0a-ad56-53aace160b29"
      },
      "outputs": [
        {
          "output_type": "execute_result",
          "data": {
            "text/plain": [
              "466285"
            ]
          },
          "metadata": {},
          "execution_count": 10
        }
      ],
      "source": [
        "data_raw.member_id.nunique()"
      ]
    },
    {
      "cell_type": "markdown",
      "id": "2a432ed8-4223-4a72-a272-a3ec9e088dec",
      "metadata": {
        "jp-MarkdownHeadingCollapsed": true,
        "tags": [],
        "id": "2a432ed8-4223-4a72-a272-a3ec9e088dec"
      },
      "source": [
        "Terlihat bahwa tidak ada `id` atau `member_id` yang duplikat, artinya setiap baris sudah mewakili satu individu."
      ]
    },
    {
      "cell_type": "markdown",
      "id": "96d47ff1-4569-4a19-8236-51efda3c4e45",
      "metadata": {
        "id": "96d47ff1-4569-4a19-8236-51efda3c4e45"
      },
      "source": [
        "Selanjutnya, pembuangan fitur-fitur yang tidak berguna dilakukan. Contohnya seperti fitur yang merupakan id unik, berupa free text, nilainya kosong semua (NULL), dsb."
      ]
    },
    {
      "cell_type": "code",
      "execution_count": null,
      "id": "9b836e49-0716-47c6-b5e8-657156bc41ed",
      "metadata": {
        "id": "9b836e49-0716-47c6-b5e8-657156bc41ed"
      },
      "outputs": [],
      "source": [
        "cols_to_drop = [\n",
        "    # unique id\n",
        "    'id'\n",
        "    , 'member_id'\n",
        "    \n",
        "    # free text\n",
        "    , 'url'\n",
        "    , 'desc'\n",
        "    \n",
        "    # all null / constant / others\n",
        "    , 'zip_code' \n",
        "    , 'annual_inc_joint'\n",
        "    , 'dti_joint'\n",
        "    , 'verification_status_joint'\n",
        "    , 'open_acc_6m'\n",
        "    , 'open_il_6m'\n",
        "    , 'open_il_12m'\n",
        "    , 'open_il_24m'\n",
        "    , 'mths_since_rcnt_il'\n",
        "    , 'total_bal_il'\n",
        "    , 'il_util'\n",
        "    , 'open_rv_12m'\n",
        "    , 'open_rv_24m'\n",
        "    , 'max_bal_bc'\n",
        "    , 'all_util'\n",
        "    , 'inq_fi'\n",
        "    , 'total_cu_tl'\n",
        "    , 'inq_last_12m'\n",
        "    \n",
        "    # expert judgment\n",
        "    , 'sub_grade'\n",
        "]"
      ]
    },
    {
      "cell_type": "code",
      "execution_count": null,
      "id": "ad25b882-2dad-4f6a-a4b1-4d8560b18143",
      "metadata": {
        "id": "ad25b882-2dad-4f6a-a4b1-4d8560b18143"
      },
      "outputs": [],
      "source": [
        "data = data_raw.drop(cols_to_drop, axis=1)"
      ]
    },
    {
      "cell_type": "code",
      "execution_count": null,
      "id": "816f0626-4128-4070-a773-89032db86642",
      "metadata": {
        "colab": {
          "base_uri": "https://localhost:8080/",
          "height": 392
        },
        "id": "816f0626-4128-4070-a773-89032db86642",
        "outputId": "d0fd73ce-d2a7-4249-9641-c866aeea4e57"
      },
      "outputs": [
        {
          "output_type": "execute_result",
          "data": {
            "text/plain": [
              "        loan_amnt  funded_amnt  funded_amnt_inv        term  int_rate  \\\n",
              "97738       10000        10000          10000.0   36 months     13.05   \n",
              "380039      35000        35000          35000.0   36 months     13.35   \n",
              "170874      16000        16000          15975.0   36 months     10.16   \n",
              "299933      30000        30000          29975.0   60 months     19.52   \n",
              "76631       12500        12500          12500.0   36 months     19.52   \n",
              "\n",
              "        installment grade                               emp_title emp_length  \\\n",
              "97738        337.19     B                     borrego pass school  10+ years   \n",
              "380039      1185.20     C                          vice president  10+ years   \n",
              "170874       517.48     B                                     NaN        NaN   \n",
              "299933       786.83     E                      nurse practitioner  10+ years   \n",
              "76631        461.50     D  Training and Development Specialist II  10+ years   \n",
              "\n",
              "       home_ownership  annual_inc verification_status issue_d  loan_status  \\\n",
              "97738             OWN     49000.0        Not Verified  Sep-13  Charged Off   \n",
              "380039            OWN    200000.0            Verified  May-14  Charged Off   \n",
              "170874       MORTGAGE     51000.0            Verified  Feb-13      Current   \n",
              "299933            OWN    119000.0     Source Verified  Oct-14   Fully Paid   \n",
              "76631            RENT     60000.0            Verified  Oct-13   Fully Paid   \n",
              "\n",
              "       pymnt_plan             purpose                         title  \\\n",
              "97738           n    home_improvement  renovation of existing home.   \n",
              "380039          n         credit_card       Credit card refinancing   \n",
              "170874          n         credit_card       Credit card refinancing   \n",
              "299933          n  debt_consolidation            Debt consolidation   \n",
              "76631           n  debt_consolidation            Debt Consolidation   \n",
              "\n",
              "       addr_state    dti  delinq_2yrs earliest_cr_line  inq_last_6mths  \\\n",
              "97738          NM  29.12          2.0           Oct-78             0.0   \n",
              "380039         FL  11.25          3.0           May-96             0.0   \n",
              "170874         PA  28.88          0.0           May-70             0.0   \n",
              "299933         MI  21.65          1.0           Oct-95             1.0   \n",
              "76631          CA  19.64          0.0           Aug-02             2.0   \n",
              "\n",
              "        mths_since_last_delinq  mths_since_last_record  open_acc  pub_rec  \\\n",
              "97738                     10.0                     NaN      11.0      0.0   \n",
              "380039                    13.0                     NaN       6.0      0.0   \n",
              "170874                     NaN                     NaN      15.0      0.0   \n",
              "299933                     6.0                     NaN      14.0      0.0   \n",
              "76631                     33.0                     NaN       9.0      0.0   \n",
              "\n",
              "        revol_bal  revol_util  total_acc initial_list_status  out_prncp  \\\n",
              "97738        5439        52.8       34.0                   f       0.00   \n",
              "380039      27955        89.3       19.0                   f       0.00   \n",
              "170874      28390        59.3       37.0                   w     532.91   \n",
              "299933      11330        81.5       37.0                   f       0.00   \n",
              "76631       15224        95.7       29.0                   f       0.00   \n",
              "\n",
              "        out_prncp_inv  total_pymnt  total_pymnt_inv  total_rec_prncp  \\\n",
              "97738            0.00      3827.36          3827.36          1897.40   \n",
              "380039           0.00     15407.60         15407.60         11065.27   \n",
              "170874         532.03     18086.12         18057.92         15467.09   \n",
              "299933           0.00     32250.18         32223.30         30000.00   \n",
              "76631            0.00     12703.40         12703.40         12500.00   \n",
              "\n",
              "        total_rec_int  total_rec_late_fee  recoveries  \\\n",
              "97738          798.38                 0.0     1131.58   \n",
              "380039        4342.33                 0.0        0.00   \n",
              "170874        2619.03                 0.0        0.00   \n",
              "299933        2250.18                 0.0        0.00   \n",
              "76631          203.40                 0.0        0.00   \n",
              "\n",
              "        collection_recovery_fee last_pymnt_d  last_pymnt_amnt next_pymnt_d  \\\n",
              "97738                   11.3158       Apr-14           337.19          NaN   \n",
              "380039                   0.0000       Jul-15          1185.20          NaN   \n",
              "170874                   0.0000       Jan-16           517.48       Feb-16   \n",
              "299933                   0.0000       Feb-15         29889.69          NaN   \n",
              "76631                    0.0000       Nov-13         12703.49          NaN   \n",
              "\n",
              "       last_credit_pull_d  collections_12_mths_ex_med  \\\n",
              "97738              Sep-14                         0.0   \n",
              "380039             Jan-16                         0.0   \n",
              "170874             Jan-16                         0.0   \n",
              "299933             Feb-15                         0.0   \n",
              "76631              Jan-16                         0.0   \n",
              "\n",
              "        mths_since_last_major_derog  policy_code application_type  \\\n",
              "97738                          23.0            1       INDIVIDUAL   \n",
              "380039                         62.0            1       INDIVIDUAL   \n",
              "170874                          NaN            1       INDIVIDUAL   \n",
              "299933                         67.0            1       INDIVIDUAL   \n",
              "76631                          33.0            1       INDIVIDUAL   \n",
              "\n",
              "        acc_now_delinq  tot_coll_amt  tot_cur_bal  total_rev_hi_lim  \n",
              "97738              0.0           0.0      36814.0           10300.0  \n",
              "380039             0.0       38968.0      38645.0           31300.0  \n",
              "170874             0.0           0.0     129887.0           47900.0  \n",
              "299933             0.0           0.0     191143.0           13900.0  \n",
              "76631              0.0           0.0      62906.0           15900.0  "
            ],
            "text/html": [
              "\n",
              "  <div id=\"df-e6e08d26-9a08-43bd-859f-6341014f7958\">\n",
              "    <div class=\"colab-df-container\">\n",
              "      <div>\n",
              "<style scoped>\n",
              "    .dataframe tbody tr th:only-of-type {\n",
              "        vertical-align: middle;\n",
              "    }\n",
              "\n",
              "    .dataframe tbody tr th {\n",
              "        vertical-align: top;\n",
              "    }\n",
              "\n",
              "    .dataframe thead th {\n",
              "        text-align: right;\n",
              "    }\n",
              "</style>\n",
              "<table border=\"1\" class=\"dataframe\">\n",
              "  <thead>\n",
              "    <tr style=\"text-align: right;\">\n",
              "      <th></th>\n",
              "      <th>loan_amnt</th>\n",
              "      <th>funded_amnt</th>\n",
              "      <th>funded_amnt_inv</th>\n",
              "      <th>term</th>\n",
              "      <th>int_rate</th>\n",
              "      <th>installment</th>\n",
              "      <th>grade</th>\n",
              "      <th>emp_title</th>\n",
              "      <th>emp_length</th>\n",
              "      <th>home_ownership</th>\n",
              "      <th>annual_inc</th>\n",
              "      <th>verification_status</th>\n",
              "      <th>issue_d</th>\n",
              "      <th>loan_status</th>\n",
              "      <th>pymnt_plan</th>\n",
              "      <th>purpose</th>\n",
              "      <th>title</th>\n",
              "      <th>addr_state</th>\n",
              "      <th>dti</th>\n",
              "      <th>delinq_2yrs</th>\n",
              "      <th>earliest_cr_line</th>\n",
              "      <th>inq_last_6mths</th>\n",
              "      <th>mths_since_last_delinq</th>\n",
              "      <th>mths_since_last_record</th>\n",
              "      <th>open_acc</th>\n",
              "      <th>pub_rec</th>\n",
              "      <th>revol_bal</th>\n",
              "      <th>revol_util</th>\n",
              "      <th>total_acc</th>\n",
              "      <th>initial_list_status</th>\n",
              "      <th>out_prncp</th>\n",
              "      <th>out_prncp_inv</th>\n",
              "      <th>total_pymnt</th>\n",
              "      <th>total_pymnt_inv</th>\n",
              "      <th>total_rec_prncp</th>\n",
              "      <th>total_rec_int</th>\n",
              "      <th>total_rec_late_fee</th>\n",
              "      <th>recoveries</th>\n",
              "      <th>collection_recovery_fee</th>\n",
              "      <th>last_pymnt_d</th>\n",
              "      <th>last_pymnt_amnt</th>\n",
              "      <th>next_pymnt_d</th>\n",
              "      <th>last_credit_pull_d</th>\n",
              "      <th>collections_12_mths_ex_med</th>\n",
              "      <th>mths_since_last_major_derog</th>\n",
              "      <th>policy_code</th>\n",
              "      <th>application_type</th>\n",
              "      <th>acc_now_delinq</th>\n",
              "      <th>tot_coll_amt</th>\n",
              "      <th>tot_cur_bal</th>\n",
              "      <th>total_rev_hi_lim</th>\n",
              "    </tr>\n",
              "  </thead>\n",
              "  <tbody>\n",
              "    <tr>\n",
              "      <th>97738</th>\n",
              "      <td>10000</td>\n",
              "      <td>10000</td>\n",
              "      <td>10000.0</td>\n",
              "      <td>36 months</td>\n",
              "      <td>13.05</td>\n",
              "      <td>337.19</td>\n",
              "      <td>B</td>\n",
              "      <td>borrego pass school</td>\n",
              "      <td>10+ years</td>\n",
              "      <td>OWN</td>\n",
              "      <td>49000.0</td>\n",
              "      <td>Not Verified</td>\n",
              "      <td>Sep-13</td>\n",
              "      <td>Charged Off</td>\n",
              "      <td>n</td>\n",
              "      <td>home_improvement</td>\n",
              "      <td>renovation of existing home.</td>\n",
              "      <td>NM</td>\n",
              "      <td>29.12</td>\n",
              "      <td>2.0</td>\n",
              "      <td>Oct-78</td>\n",
              "      <td>0.0</td>\n",
              "      <td>10.0</td>\n",
              "      <td>NaN</td>\n",
              "      <td>11.0</td>\n",
              "      <td>0.0</td>\n",
              "      <td>5439</td>\n",
              "      <td>52.8</td>\n",
              "      <td>34.0</td>\n",
              "      <td>f</td>\n",
              "      <td>0.00</td>\n",
              "      <td>0.00</td>\n",
              "      <td>3827.36</td>\n",
              "      <td>3827.36</td>\n",
              "      <td>1897.40</td>\n",
              "      <td>798.38</td>\n",
              "      <td>0.0</td>\n",
              "      <td>1131.58</td>\n",
              "      <td>11.3158</td>\n",
              "      <td>Apr-14</td>\n",
              "      <td>337.19</td>\n",
              "      <td>NaN</td>\n",
              "      <td>Sep-14</td>\n",
              "      <td>0.0</td>\n",
              "      <td>23.0</td>\n",
              "      <td>1</td>\n",
              "      <td>INDIVIDUAL</td>\n",
              "      <td>0.0</td>\n",
              "      <td>0.0</td>\n",
              "      <td>36814.0</td>\n",
              "      <td>10300.0</td>\n",
              "    </tr>\n",
              "    <tr>\n",
              "      <th>380039</th>\n",
              "      <td>35000</td>\n",
              "      <td>35000</td>\n",
              "      <td>35000.0</td>\n",
              "      <td>36 months</td>\n",
              "      <td>13.35</td>\n",
              "      <td>1185.20</td>\n",
              "      <td>C</td>\n",
              "      <td>vice president</td>\n",
              "      <td>10+ years</td>\n",
              "      <td>OWN</td>\n",
              "      <td>200000.0</td>\n",
              "      <td>Verified</td>\n",
              "      <td>May-14</td>\n",
              "      <td>Charged Off</td>\n",
              "      <td>n</td>\n",
              "      <td>credit_card</td>\n",
              "      <td>Credit card refinancing</td>\n",
              "      <td>FL</td>\n",
              "      <td>11.25</td>\n",
              "      <td>3.0</td>\n",
              "      <td>May-96</td>\n",
              "      <td>0.0</td>\n",
              "      <td>13.0</td>\n",
              "      <td>NaN</td>\n",
              "      <td>6.0</td>\n",
              "      <td>0.0</td>\n",
              "      <td>27955</td>\n",
              "      <td>89.3</td>\n",
              "      <td>19.0</td>\n",
              "      <td>f</td>\n",
              "      <td>0.00</td>\n",
              "      <td>0.00</td>\n",
              "      <td>15407.60</td>\n",
              "      <td>15407.60</td>\n",
              "      <td>11065.27</td>\n",
              "      <td>4342.33</td>\n",
              "      <td>0.0</td>\n",
              "      <td>0.00</td>\n",
              "      <td>0.0000</td>\n",
              "      <td>Jul-15</td>\n",
              "      <td>1185.20</td>\n",
              "      <td>NaN</td>\n",
              "      <td>Jan-16</td>\n",
              "      <td>0.0</td>\n",
              "      <td>62.0</td>\n",
              "      <td>1</td>\n",
              "      <td>INDIVIDUAL</td>\n",
              "      <td>0.0</td>\n",
              "      <td>38968.0</td>\n",
              "      <td>38645.0</td>\n",
              "      <td>31300.0</td>\n",
              "    </tr>\n",
              "    <tr>\n",
              "      <th>170874</th>\n",
              "      <td>16000</td>\n",
              "      <td>16000</td>\n",
              "      <td>15975.0</td>\n",
              "      <td>36 months</td>\n",
              "      <td>10.16</td>\n",
              "      <td>517.48</td>\n",
              "      <td>B</td>\n",
              "      <td>NaN</td>\n",
              "      <td>NaN</td>\n",
              "      <td>MORTGAGE</td>\n",
              "      <td>51000.0</td>\n",
              "      <td>Verified</td>\n",
              "      <td>Feb-13</td>\n",
              "      <td>Current</td>\n",
              "      <td>n</td>\n",
              "      <td>credit_card</td>\n",
              "      <td>Credit card refinancing</td>\n",
              "      <td>PA</td>\n",
              "      <td>28.88</td>\n",
              "      <td>0.0</td>\n",
              "      <td>May-70</td>\n",
              "      <td>0.0</td>\n",
              "      <td>NaN</td>\n",
              "      <td>NaN</td>\n",
              "      <td>15.0</td>\n",
              "      <td>0.0</td>\n",
              "      <td>28390</td>\n",
              "      <td>59.3</td>\n",
              "      <td>37.0</td>\n",
              "      <td>w</td>\n",
              "      <td>532.91</td>\n",
              "      <td>532.03</td>\n",
              "      <td>18086.12</td>\n",
              "      <td>18057.92</td>\n",
              "      <td>15467.09</td>\n",
              "      <td>2619.03</td>\n",
              "      <td>0.0</td>\n",
              "      <td>0.00</td>\n",
              "      <td>0.0000</td>\n",
              "      <td>Jan-16</td>\n",
              "      <td>517.48</td>\n",
              "      <td>Feb-16</td>\n",
              "      <td>Jan-16</td>\n",
              "      <td>0.0</td>\n",
              "      <td>NaN</td>\n",
              "      <td>1</td>\n",
              "      <td>INDIVIDUAL</td>\n",
              "      <td>0.0</td>\n",
              "      <td>0.0</td>\n",
              "      <td>129887.0</td>\n",
              "      <td>47900.0</td>\n",
              "    </tr>\n",
              "    <tr>\n",
              "      <th>299933</th>\n",
              "      <td>30000</td>\n",
              "      <td>30000</td>\n",
              "      <td>29975.0</td>\n",
              "      <td>60 months</td>\n",
              "      <td>19.52</td>\n",
              "      <td>786.83</td>\n",
              "      <td>E</td>\n",
              "      <td>nurse practitioner</td>\n",
              "      <td>10+ years</td>\n",
              "      <td>OWN</td>\n",
              "      <td>119000.0</td>\n",
              "      <td>Source Verified</td>\n",
              "      <td>Oct-14</td>\n",
              "      <td>Fully Paid</td>\n",
              "      <td>n</td>\n",
              "      <td>debt_consolidation</td>\n",
              "      <td>Debt consolidation</td>\n",
              "      <td>MI</td>\n",
              "      <td>21.65</td>\n",
              "      <td>1.0</td>\n",
              "      <td>Oct-95</td>\n",
              "      <td>1.0</td>\n",
              "      <td>6.0</td>\n",
              "      <td>NaN</td>\n",
              "      <td>14.0</td>\n",
              "      <td>0.0</td>\n",
              "      <td>11330</td>\n",
              "      <td>81.5</td>\n",
              "      <td>37.0</td>\n",
              "      <td>f</td>\n",
              "      <td>0.00</td>\n",
              "      <td>0.00</td>\n",
              "      <td>32250.18</td>\n",
              "      <td>32223.30</td>\n",
              "      <td>30000.00</td>\n",
              "      <td>2250.18</td>\n",
              "      <td>0.0</td>\n",
              "      <td>0.00</td>\n",
              "      <td>0.0000</td>\n",
              "      <td>Feb-15</td>\n",
              "      <td>29889.69</td>\n",
              "      <td>NaN</td>\n",
              "      <td>Feb-15</td>\n",
              "      <td>0.0</td>\n",
              "      <td>67.0</td>\n",
              "      <td>1</td>\n",
              "      <td>INDIVIDUAL</td>\n",
              "      <td>0.0</td>\n",
              "      <td>0.0</td>\n",
              "      <td>191143.0</td>\n",
              "      <td>13900.0</td>\n",
              "    </tr>\n",
              "    <tr>\n",
              "      <th>76631</th>\n",
              "      <td>12500</td>\n",
              "      <td>12500</td>\n",
              "      <td>12500.0</td>\n",
              "      <td>36 months</td>\n",
              "      <td>19.52</td>\n",
              "      <td>461.50</td>\n",
              "      <td>D</td>\n",
              "      <td>Training and Development Specialist II</td>\n",
              "      <td>10+ years</td>\n",
              "      <td>RENT</td>\n",
              "      <td>60000.0</td>\n",
              "      <td>Verified</td>\n",
              "      <td>Oct-13</td>\n",
              "      <td>Fully Paid</td>\n",
              "      <td>n</td>\n",
              "      <td>debt_consolidation</td>\n",
              "      <td>Debt Consolidation</td>\n",
              "      <td>CA</td>\n",
              "      <td>19.64</td>\n",
              "      <td>0.0</td>\n",
              "      <td>Aug-02</td>\n",
              "      <td>2.0</td>\n",
              "      <td>33.0</td>\n",
              "      <td>NaN</td>\n",
              "      <td>9.0</td>\n",
              "      <td>0.0</td>\n",
              "      <td>15224</td>\n",
              "      <td>95.7</td>\n",
              "      <td>29.0</td>\n",
              "      <td>f</td>\n",
              "      <td>0.00</td>\n",
              "      <td>0.00</td>\n",
              "      <td>12703.40</td>\n",
              "      <td>12703.40</td>\n",
              "      <td>12500.00</td>\n",
              "      <td>203.40</td>\n",
              "      <td>0.0</td>\n",
              "      <td>0.00</td>\n",
              "      <td>0.0000</td>\n",
              "      <td>Nov-13</td>\n",
              "      <td>12703.49</td>\n",
              "      <td>NaN</td>\n",
              "      <td>Jan-16</td>\n",
              "      <td>0.0</td>\n",
              "      <td>33.0</td>\n",
              "      <td>1</td>\n",
              "      <td>INDIVIDUAL</td>\n",
              "      <td>0.0</td>\n",
              "      <td>0.0</td>\n",
              "      <td>62906.0</td>\n",
              "      <td>15900.0</td>\n",
              "    </tr>\n",
              "  </tbody>\n",
              "</table>\n",
              "</div>\n",
              "      <button class=\"colab-df-convert\" onclick=\"convertToInteractive('df-e6e08d26-9a08-43bd-859f-6341014f7958')\"\n",
              "              title=\"Convert this dataframe to an interactive table.\"\n",
              "              style=\"display:none;\">\n",
              "        \n",
              "  <svg xmlns=\"http://www.w3.org/2000/svg\" height=\"24px\"viewBox=\"0 0 24 24\"\n",
              "       width=\"24px\">\n",
              "    <path d=\"M0 0h24v24H0V0z\" fill=\"none\"/>\n",
              "    <path d=\"M18.56 5.44l.94 2.06.94-2.06 2.06-.94-2.06-.94-.94-2.06-.94 2.06-2.06.94zm-11 1L8.5 8.5l.94-2.06 2.06-.94-2.06-.94L8.5 2.5l-.94 2.06-2.06.94zm10 10l.94 2.06.94-2.06 2.06-.94-2.06-.94-.94-2.06-.94 2.06-2.06.94z\"/><path d=\"M17.41 7.96l-1.37-1.37c-.4-.4-.92-.59-1.43-.59-.52 0-1.04.2-1.43.59L10.3 9.45l-7.72 7.72c-.78.78-.78 2.05 0 2.83L4 21.41c.39.39.9.59 1.41.59.51 0 1.02-.2 1.41-.59l7.78-7.78 2.81-2.81c.8-.78.8-2.07 0-2.86zM5.41 20L4 18.59l7.72-7.72 1.47 1.35L5.41 20z\"/>\n",
              "  </svg>\n",
              "      </button>\n",
              "      \n",
              "  <style>\n",
              "    .colab-df-container {\n",
              "      display:flex;\n",
              "      flex-wrap:wrap;\n",
              "      gap: 12px;\n",
              "    }\n",
              "\n",
              "    .colab-df-convert {\n",
              "      background-color: #E8F0FE;\n",
              "      border: none;\n",
              "      border-radius: 50%;\n",
              "      cursor: pointer;\n",
              "      display: none;\n",
              "      fill: #1967D2;\n",
              "      height: 32px;\n",
              "      padding: 0 0 0 0;\n",
              "      width: 32px;\n",
              "    }\n",
              "\n",
              "    .colab-df-convert:hover {\n",
              "      background-color: #E2EBFA;\n",
              "      box-shadow: 0px 1px 2px rgba(60, 64, 67, 0.3), 0px 1px 3px 1px rgba(60, 64, 67, 0.15);\n",
              "      fill: #174EA6;\n",
              "    }\n",
              "\n",
              "    [theme=dark] .colab-df-convert {\n",
              "      background-color: #3B4455;\n",
              "      fill: #D2E3FC;\n",
              "    }\n",
              "\n",
              "    [theme=dark] .colab-df-convert:hover {\n",
              "      background-color: #434B5C;\n",
              "      box-shadow: 0px 1px 3px 1px rgba(0, 0, 0, 0.15);\n",
              "      filter: drop-shadow(0px 1px 2px rgba(0, 0, 0, 0.3));\n",
              "      fill: #FFFFFF;\n",
              "    }\n",
              "  </style>\n",
              "\n",
              "      <script>\n",
              "        const buttonEl =\n",
              "          document.querySelector('#df-e6e08d26-9a08-43bd-859f-6341014f7958 button.colab-df-convert');\n",
              "        buttonEl.style.display =\n",
              "          google.colab.kernel.accessAllowed ? 'block' : 'none';\n",
              "\n",
              "        async function convertToInteractive(key) {\n",
              "          const element = document.querySelector('#df-e6e08d26-9a08-43bd-859f-6341014f7958');\n",
              "          const dataTable =\n",
              "            await google.colab.kernel.invokeFunction('convertToInteractive',\n",
              "                                                     [key], {});\n",
              "          if (!dataTable) return;\n",
              "\n",
              "          const docLinkHtml = 'Like what you see? Visit the ' +\n",
              "            '<a target=\"_blank\" href=https://colab.research.google.com/notebooks/data_table.ipynb>data table notebook</a>'\n",
              "            + ' to learn more about interactive tables.';\n",
              "          element.innerHTML = '';\n",
              "          dataTable['output_type'] = 'display_data';\n",
              "          await google.colab.output.renderOutput(dataTable, element);\n",
              "          const docLink = document.createElement('div');\n",
              "          docLink.innerHTML = docLinkHtml;\n",
              "          element.appendChild(docLink);\n",
              "        }\n",
              "      </script>\n",
              "    </div>\n",
              "  </div>\n",
              "  "
            ]
          },
          "metadata": {},
          "execution_count": 13
        }
      ],
      "source": [
        "data.sample(5)"
      ]
    },
    {
      "cell_type": "markdown",
      "id": "da3e1988-70da-4958-85ec-c8866cebd7fd",
      "metadata": {
        "tags": [],
        "id": "da3e1988-70da-4958-85ec-c8866cebd7fd"
      },
      "source": [
        "# DEFINE TARGET VARIABLE / LABELING"
      ]
    },
    {
      "cell_type": "markdown",
      "id": "44602917-ef8a-46c6-9331-9272c123e0e5",
      "metadata": {
        "id": "44602917-ef8a-46c6-9331-9272c123e0e5"
      },
      "source": [
        "Dalam project credit risk modeling, tujuan utama adalah untuk melakukan prediksi terhadap suatu individu akan kemampuan mereka untuk melakukan pembayaran terhadap pinjaman/kredit yang diberikan. Oleh karena itu, variabel target yang digunakan harus mencerminkan kemampuan individu dalam hal tersebut. "
      ]
    },
    {
      "cell_type": "markdown",
      "id": "5e4fcac9-6eb4-4890-9eb5-538f21f0983c",
      "metadata": {
        "id": "5e4fcac9-6eb4-4890-9eb5-538f21f0983c"
      },
      "source": [
        "Dalam dataset ini, variabel `loan_status` adalah variabel yang dapat dijadikan variabel target karena mencerminkan performa masing-masing individu dalam melakukan pembayaran terhadap pinjaman/kredit selama ini."
      ]
    },
    {
      "cell_type": "code",
      "execution_count": null,
      "id": "44f62c30-218b-421a-a0ae-435b0a10fad1",
      "metadata": {
        "colab": {
          "base_uri": "https://localhost:8080/"
        },
        "id": "44f62c30-218b-421a-a0ae-435b0a10fad1",
        "outputId": "9896a716-35f8-4097-d869-b25f462a6f5a"
      },
      "outputs": [
        {
          "output_type": "execute_result",
          "data": {
            "text/plain": [
              "Current                                                48.087757\n",
              "Fully Paid                                             39.619332\n",
              "Charged Off                                             9.109236\n",
              "Late (31-120 days)                                      1.479782\n",
              "In Grace Period                                         0.674695\n",
              "Does not meet the credit policy. Status:Fully Paid      0.426349\n",
              "Late (16-30 days)                                       0.261214\n",
              "Default                                                 0.178432\n",
              "Does not meet the credit policy. Status:Charged Off     0.163205\n",
              "Name: loan_status, dtype: float64"
            ]
          },
          "metadata": {},
          "execution_count": 14
        }
      ],
      "source": [
        "data.loan_status.value_counts(normalize=True)*100"
      ]
    },
    {
      "cell_type": "markdown",
      "id": "a2eae777-8b21-41be-b3e6-6f94e7da71b1",
      "metadata": {
        "id": "a2eae777-8b21-41be-b3e6-6f94e7da71b1"
      },
      "source": [
        "Dapat dilihat bahwa variabel `loan_status` memiliki beberapa nilai:"
      ]
    },
    {
      "cell_type": "markdown",
      "id": "aa95e9b6-184e-4f39-876a-0b10d02572e7",
      "metadata": {
        "id": "aa95e9b6-184e-4f39-876a-0b10d02572e7"
      },
      "source": [
        "`Current` artinya pembayaran lancar; `Charged Off` artinya pembayaran macet sehingga dihapusbukukan; `Late` artinya pembayaran telat dilakukan; `In Grace Period` artinya dalam masa tenggang; `Fully Paid` artinya pembayaran lunas; `Default` artinya pembayaran macet"
      ]
    },
    {
      "cell_type": "markdown",
      "id": "cef1c933-a27a-4f31-b8f5-6396b4230a71",
      "metadata": {
        "id": "cef1c933-a27a-4f31-b8f5-6396b4230a71"
      },
      "source": [
        "Dari definisi-definisi tersebut, masing-masing individu dapat ditandai apakah mereka merupakan `bad loan` (peminjam yang buruk) atau `good loan` (peminjam yang baik)"
      ]
    },
    {
      "cell_type": "markdown",
      "id": "ae1c5e10-21cc-46f5-9afe-9eb15e1cb08e",
      "metadata": {
        "id": "ae1c5e10-21cc-46f5-9afe-9eb15e1cb08e"
      },
      "source": [
        "Definisi bad dan good loan terkadang bisa berbeda tergantung dari kebutuhan bisnis. Pada contoh ini, saya menggunakan keterlambatan pembayaran di atas 30 hari dan yang lebih buruk dari itu sebagai penanda bad loan."
      ]
    },
    {
      "cell_type": "code",
      "execution_count": null,
      "id": "40095b4b-0181-432d-af07-fc25e5c6b8fe",
      "metadata": {
        "id": "40095b4b-0181-432d-af07-fc25e5c6b8fe"
      },
      "outputs": [],
      "source": [
        "bad_status = [\n",
        "    'Charged Off' \n",
        "    , 'Default' \n",
        "    , 'Does not meet the credit policy. Status:Charged Off'\n",
        "    , 'Late (31-120 days)'\n",
        "]\n",
        "\n",
        "data['bad_flag'] = np.where(data['loan_status'].isin(bad_status), 1, 0)"
      ]
    },
    {
      "cell_type": "code",
      "execution_count": null,
      "id": "d2e90734-c995-4dca-af6c-7db90b3beb79",
      "metadata": {
        "colab": {
          "base_uri": "https://localhost:8080/"
        },
        "id": "d2e90734-c995-4dca-af6c-7db90b3beb79",
        "outputId": "f1eae63e-79de-438c-d18e-0719c3850397"
      },
      "outputs": [
        {
          "output_type": "execute_result",
          "data": {
            "text/plain": [
              "0    89.069346\n",
              "1    10.930654\n",
              "Name: bad_flag, dtype: float64"
            ]
          },
          "metadata": {},
          "execution_count": 16
        }
      ],
      "source": [
        "data['bad_flag'].value_counts(normalize=True)*100"
      ]
    },
    {
      "cell_type": "markdown",
      "id": "934107d7-9757-42d4-9333-c234430c0648",
      "metadata": {
        "id": "934107d7-9757-42d4-9333-c234430c0648"
      },
      "source": [
        "Setelah melakukan flagging terhadap bad/good loan, dapat dilihat bahwa jumlah individu yang ditandai sebagai bad loan jauh lebih sedikit daripada good loan. Hal ini menyebabkan problem ini menjadi problem imbalanced dataset."
      ]
    },
    {
      "cell_type": "markdown",
      "id": "175024c9-9686-4a2f-8c9c-f4b2f74edb29",
      "metadata": {
        "id": "175024c9-9686-4a2f-8c9c-f4b2f74edb29"
      },
      "source": [
        "Jangan lupa untuk membuang kolom asal `loan_status` "
      ]
    },
    {
      "cell_type": "code",
      "execution_count": null,
      "id": "64ca6b3f-d165-4e53-9368-b890335c0f04",
      "metadata": {
        "id": "64ca6b3f-d165-4e53-9368-b890335c0f04"
      },
      "outputs": [],
      "source": [
        "data.drop('loan_status', axis=1, inplace=True)"
      ]
    },
    {
      "cell_type": "markdown",
      "id": "55a4d30b-deea-4d22-b082-9e47fff922d5",
      "metadata": {
        "tags": [],
        "id": "55a4d30b-deea-4d22-b082-9e47fff922d5"
      },
      "source": [
        "# CLEANING, PREPROCESSING, FEATURE ENGINEERING"
      ]
    },
    {
      "cell_type": "markdown",
      "id": "36ea8436-a032-4c92-b267-d6c600b8f51a",
      "metadata": {
        "id": "36ea8436-a032-4c92-b267-d6c600b8f51a"
      },
      "source": [
        "Pada step ini, dilakukan pembersihan/modifikasi beberapa fitur ke dalam format yang dapat digunakan untuk modeling."
      ]
    },
    {
      "cell_type": "markdown",
      "id": "07f366c4-907d-4ab9-84bb-49ba304baae7",
      "metadata": {
        "id": "07f366c4-907d-4ab9-84bb-49ba304baae7"
      },
      "source": [
        "### emp_length"
      ]
    },
    {
      "cell_type": "markdown",
      "id": "8b0089ae-9856-4295-8f13-259ffa53541e",
      "metadata": {
        "id": "8b0089ae-9856-4295-8f13-259ffa53541e"
      },
      "source": [
        "Memodifikasi `emp_length`. Contoh: 4 years -> 4"
      ]
    },
    {
      "cell_type": "code",
      "execution_count": null,
      "id": "f3a36a04-a5dc-4e16-8930-176c03442155",
      "metadata": {
        "colab": {
          "base_uri": "https://localhost:8080/"
        },
        "id": "f3a36a04-a5dc-4e16-8930-176c03442155",
        "outputId": "b6835f85-fef2-42e6-e876-dbd7add3163b"
      },
      "outputs": [
        {
          "output_type": "execute_result",
          "data": {
            "text/plain": [
              "array(['10+ years', '< 1 year', '1 year', '3 years', '8 years', '9 years',\n",
              "       '4 years', '5 years', '6 years', '2 years', '7 years', nan],\n",
              "      dtype=object)"
            ]
          },
          "metadata": {},
          "execution_count": 18
        }
      ],
      "source": [
        "data['emp_length'].unique()"
      ]
    },
    {
      "cell_type": "code",
      "execution_count": null,
      "id": "e39a05a9-b651-413a-8e12-9890f68923b5",
      "metadata": {
        "colab": {
          "base_uri": "https://localhost:8080/"
        },
        "id": "e39a05a9-b651-413a-8e12-9890f68923b5",
        "outputId": "88c46179-5b79-4fc6-b55c-576ea649f1a2"
      },
      "outputs": [
        {
          "output_type": "stream",
          "name": "stderr",
          "text": [
            "/usr/local/lib/python3.7/dist-packages/ipykernel_launcher.py:1: FutureWarning: The default value of regex will change from True to False in a future version.\n",
            "  \"\"\"Entry point for launching an IPython kernel.\n"
          ]
        }
      ],
      "source": [
        "data['emp_length_int'] = data['emp_length'].str.replace('\\+ years', '')\n",
        "data['emp_length_int'] = data['emp_length_int'].str.replace('< 1 year', str(0))\n",
        "data['emp_length_int'] = data['emp_length_int'].str.replace(' years', '')\n",
        "data['emp_length_int'] = data['emp_length_int'].str.replace(' year', '')"
      ]
    },
    {
      "cell_type": "code",
      "execution_count": null,
      "id": "da25ef25-1c61-45a4-bd2d-0b7b44ac19cd",
      "metadata": {
        "id": "da25ef25-1c61-45a4-bd2d-0b7b44ac19cd"
      },
      "outputs": [],
      "source": [
        "data['emp_length_int'] = data['emp_length_int'].astype(float)"
      ]
    },
    {
      "cell_type": "code",
      "execution_count": null,
      "id": "882c194d-9e31-4b64-b333-c653466db304",
      "metadata": {
        "id": "882c194d-9e31-4b64-b333-c653466db304"
      },
      "outputs": [],
      "source": [
        "data.drop('emp_length', axis=1, inplace=True)"
      ]
    },
    {
      "cell_type": "markdown",
      "id": "752b77e6-0b41-4126-bf8f-48267cbadce7",
      "metadata": {
        "id": "752b77e6-0b41-4126-bf8f-48267cbadce7"
      },
      "source": [
        "### term"
      ]
    },
    {
      "cell_type": "markdown",
      "id": "d5887e83-7874-4f46-978e-c760f872da6e",
      "metadata": {
        "id": "d5887e83-7874-4f46-978e-c760f872da6e"
      },
      "source": [
        "Memodifikasi `term`. Contoh: 36 months -> 36"
      ]
    },
    {
      "cell_type": "code",
      "execution_count": null,
      "id": "a2fe1bd1-ee4e-4d24-a7da-48915f7994ac",
      "metadata": {
        "colab": {
          "base_uri": "https://localhost:8080/"
        },
        "id": "a2fe1bd1-ee4e-4d24-a7da-48915f7994ac",
        "outputId": "9fbf65f2-dc00-490d-fd49-318f2b739773"
      },
      "outputs": [
        {
          "output_type": "execute_result",
          "data": {
            "text/plain": [
              "array([' 36 months', ' 60 months'], dtype=object)"
            ]
          },
          "metadata": {},
          "execution_count": 22
        }
      ],
      "source": [
        "data['term'].unique()"
      ]
    },
    {
      "cell_type": "code",
      "execution_count": null,
      "id": "fcb118cf-b5e6-4e4d-a599-2cbd467c93f9",
      "metadata": {
        "id": "fcb118cf-b5e6-4e4d-a599-2cbd467c93f9"
      },
      "outputs": [],
      "source": [
        "data['term_int'] = data['term'].str.replace(' months', '')\n",
        "data['term_int'] = data['term_int'].astype(float)"
      ]
    },
    {
      "cell_type": "code",
      "execution_count": null,
      "id": "612fb81d-be67-498c-9b66-ec318aa91147",
      "metadata": {
        "id": "612fb81d-be67-498c-9b66-ec318aa91147"
      },
      "outputs": [],
      "source": [
        "data.drop('term', axis=1, inplace=True)"
      ]
    },
    {
      "cell_type": "markdown",
      "id": "29f06348-36b5-4dcb-8bf0-ba9ce8fe5926",
      "metadata": {
        "id": "29f06348-36b5-4dcb-8bf0-ba9ce8fe5926"
      },
      "source": [
        "### earliest_cr_line"
      ]
    },
    {
      "cell_type": "markdown",
      "id": "ee00acc9-5100-45d8-bd2e-f60897611c81",
      "metadata": {
        "id": "ee00acc9-5100-45d8-bd2e-f60897611c81"
      },
      "source": [
        "Memodifikasi `earliest_cr_line` dari format bulan-tahun menjadi perhitungan berapa lama waktu berlalu sejak waktu tersebut. Untuk melakukan hal ini, umumnya digunakan reference date = hari ini. Namun, karena dataset ini merupakan dataset tahun 2007-2014, maka akan lebih relevan jika menggunakan reference date di sekitar tahun 2017. Dalam contoh ini, saya menggunakan tanggal 2017-12-01 sebagai reference date."
      ]
    },
    {
      "cell_type": "code",
      "execution_count": null,
      "id": "61a11bc8-67bc-4049-85e2-49d14e0a7595",
      "metadata": {
        "colab": {
          "base_uri": "https://localhost:8080/"
        },
        "id": "61a11bc8-67bc-4049-85e2-49d14e0a7595",
        "outputId": "f0cdfa0b-ace8-48d2-9bb7-6ec855c62a01"
      },
      "outputs": [
        {
          "output_type": "execute_result",
          "data": {
            "text/plain": [
              "0    Jan-85\n",
              "1    Apr-99\n",
              "2    Nov-01\n",
              "Name: earliest_cr_line, dtype: object"
            ]
          },
          "metadata": {},
          "execution_count": 25
        }
      ],
      "source": [
        "data['earliest_cr_line'].head(3)"
      ]
    },
    {
      "cell_type": "code",
      "execution_count": null,
      "id": "ef6a827e-9b23-4c6d-b6ea-35f18466278f",
      "metadata": {
        "colab": {
          "base_uri": "https://localhost:8080/"
        },
        "id": "ef6a827e-9b23-4c6d-b6ea-35f18466278f",
        "outputId": "6f714ed1-27ef-4f60-bee0-1a44d710476b"
      },
      "outputs": [
        {
          "output_type": "execute_result",
          "data": {
            "text/plain": [
              "0   1985-01-01\n",
              "1   1999-04-01\n",
              "2   2001-11-01\n",
              "Name: earliest_cr_line_date, dtype: datetime64[ns]"
            ]
          },
          "metadata": {},
          "execution_count": 26
        }
      ],
      "source": [
        "data['earliest_cr_line_date'] = pd.to_datetime(data['earliest_cr_line'], format='%b-%y')\n",
        "data['earliest_cr_line_date'].head(3)"
      ]
    },
    {
      "cell_type": "code",
      "execution_count": null,
      "id": "927e5fa7-f538-42c4-a41d-2d1e675e34a0",
      "metadata": {
        "colab": {
          "base_uri": "https://localhost:8080/"
        },
        "id": "927e5fa7-f538-42c4-a41d-2d1e675e34a0",
        "outputId": "f215966c-bbec-4dfe-c327-14e84f580729"
      },
      "outputs": [
        {
          "output_type": "execute_result",
          "data": {
            "text/plain": [
              "0    395.0\n",
              "1    224.0\n",
              "2    193.0\n",
              "Name: mths_since_earliest_cr_line, dtype: float64"
            ]
          },
          "metadata": {},
          "execution_count": 27
        }
      ],
      "source": [
        "data['mths_since_earliest_cr_line'] = round(pd.to_numeric((pd.to_datetime('2017-12-01') - data['earliest_cr_line_date']) / np.timedelta64(1, 'M')))\n",
        "data['mths_since_earliest_cr_line'].head(3)"
      ]
    },
    {
      "cell_type": "code",
      "execution_count": null,
      "id": "734bde13-2bf2-4672-907a-4e684c2f3701",
      "metadata": {
        "colab": {
          "base_uri": "https://localhost:8080/"
        },
        "id": "734bde13-2bf2-4672-907a-4e684c2f3701",
        "outputId": "903c5a95-f78a-448a-a8c5-8d07579afe39"
      },
      "outputs": [
        {
          "output_type": "execute_result",
          "data": {
            "text/plain": [
              "count    466256.000000\n",
              "mean        239.482430\n",
              "std          93.974829\n",
              "min        -612.000000\n",
              "25%         183.000000\n",
              "50%         225.000000\n",
              "75%         285.000000\n",
              "max         587.000000\n",
              "Name: mths_since_earliest_cr_line, dtype: float64"
            ]
          },
          "metadata": {},
          "execution_count": 28
        }
      ],
      "source": [
        "data['mths_since_earliest_cr_line'].describe()"
      ]
    },
    {
      "cell_type": "markdown",
      "id": "17cc3cf6-d3f3-4673-97cb-53394a43ec3b",
      "metadata": {
        "id": "17cc3cf6-d3f3-4673-97cb-53394a43ec3b"
      },
      "source": [
        "Terlihat ada nilai yang aneh, yaitu negatif."
      ]
    },
    {
      "cell_type": "code",
      "execution_count": null,
      "id": "d84de89b-00ab-40d5-8690-a78d9ef0c98d",
      "metadata": {
        "colab": {
          "base_uri": "https://localhost:8080/"
        },
        "id": "d84de89b-00ab-40d5-8690-a78d9ef0c98d",
        "outputId": "f314d455-9147-47ef-d072-60eb75467a70"
      },
      "outputs": [
        {
          "output_type": "execute_result",
          "data": {
            "text/plain": [
              "     earliest_cr_line earliest_cr_line_date  mths_since_earliest_cr_line\n",
              "1580           Sep-62            2062-09-01                       -537.0\n",
              "1770           Sep-68            2068-09-01                       -609.0\n",
              "2799           Sep-64            2064-09-01                       -561.0"
            ],
            "text/html": [
              "\n",
              "  <div id=\"df-4746fa7f-8c1c-433d-b616-35af5cf23cb2\">\n",
              "    <div class=\"colab-df-container\">\n",
              "      <div>\n",
              "<style scoped>\n",
              "    .dataframe tbody tr th:only-of-type {\n",
              "        vertical-align: middle;\n",
              "    }\n",
              "\n",
              "    .dataframe tbody tr th {\n",
              "        vertical-align: top;\n",
              "    }\n",
              "\n",
              "    .dataframe thead th {\n",
              "        text-align: right;\n",
              "    }\n",
              "</style>\n",
              "<table border=\"1\" class=\"dataframe\">\n",
              "  <thead>\n",
              "    <tr style=\"text-align: right;\">\n",
              "      <th></th>\n",
              "      <th>earliest_cr_line</th>\n",
              "      <th>earliest_cr_line_date</th>\n",
              "      <th>mths_since_earliest_cr_line</th>\n",
              "    </tr>\n",
              "  </thead>\n",
              "  <tbody>\n",
              "    <tr>\n",
              "      <th>1580</th>\n",
              "      <td>Sep-62</td>\n",
              "      <td>2062-09-01</td>\n",
              "      <td>-537.0</td>\n",
              "    </tr>\n",
              "    <tr>\n",
              "      <th>1770</th>\n",
              "      <td>Sep-68</td>\n",
              "      <td>2068-09-01</td>\n",
              "      <td>-609.0</td>\n",
              "    </tr>\n",
              "    <tr>\n",
              "      <th>2799</th>\n",
              "      <td>Sep-64</td>\n",
              "      <td>2064-09-01</td>\n",
              "      <td>-561.0</td>\n",
              "    </tr>\n",
              "  </tbody>\n",
              "</table>\n",
              "</div>\n",
              "      <button class=\"colab-df-convert\" onclick=\"convertToInteractive('df-4746fa7f-8c1c-433d-b616-35af5cf23cb2')\"\n",
              "              title=\"Convert this dataframe to an interactive table.\"\n",
              "              style=\"display:none;\">\n",
              "        \n",
              "  <svg xmlns=\"http://www.w3.org/2000/svg\" height=\"24px\"viewBox=\"0 0 24 24\"\n",
              "       width=\"24px\">\n",
              "    <path d=\"M0 0h24v24H0V0z\" fill=\"none\"/>\n",
              "    <path d=\"M18.56 5.44l.94 2.06.94-2.06 2.06-.94-2.06-.94-.94-2.06-.94 2.06-2.06.94zm-11 1L8.5 8.5l.94-2.06 2.06-.94-2.06-.94L8.5 2.5l-.94 2.06-2.06.94zm10 10l.94 2.06.94-2.06 2.06-.94-2.06-.94-.94-2.06-.94 2.06-2.06.94z\"/><path d=\"M17.41 7.96l-1.37-1.37c-.4-.4-.92-.59-1.43-.59-.52 0-1.04.2-1.43.59L10.3 9.45l-7.72 7.72c-.78.78-.78 2.05 0 2.83L4 21.41c.39.39.9.59 1.41.59.51 0 1.02-.2 1.41-.59l7.78-7.78 2.81-2.81c.8-.78.8-2.07 0-2.86zM5.41 20L4 18.59l7.72-7.72 1.47 1.35L5.41 20z\"/>\n",
              "  </svg>\n",
              "      </button>\n",
              "      \n",
              "  <style>\n",
              "    .colab-df-container {\n",
              "      display:flex;\n",
              "      flex-wrap:wrap;\n",
              "      gap: 12px;\n",
              "    }\n",
              "\n",
              "    .colab-df-convert {\n",
              "      background-color: #E8F0FE;\n",
              "      border: none;\n",
              "      border-radius: 50%;\n",
              "      cursor: pointer;\n",
              "      display: none;\n",
              "      fill: #1967D2;\n",
              "      height: 32px;\n",
              "      padding: 0 0 0 0;\n",
              "      width: 32px;\n",
              "    }\n",
              "\n",
              "    .colab-df-convert:hover {\n",
              "      background-color: #E2EBFA;\n",
              "      box-shadow: 0px 1px 2px rgba(60, 64, 67, 0.3), 0px 1px 3px 1px rgba(60, 64, 67, 0.15);\n",
              "      fill: #174EA6;\n",
              "    }\n",
              "\n",
              "    [theme=dark] .colab-df-convert {\n",
              "      background-color: #3B4455;\n",
              "      fill: #D2E3FC;\n",
              "    }\n",
              "\n",
              "    [theme=dark] .colab-df-convert:hover {\n",
              "      background-color: #434B5C;\n",
              "      box-shadow: 0px 1px 3px 1px rgba(0, 0, 0, 0.15);\n",
              "      filter: drop-shadow(0px 1px 2px rgba(0, 0, 0, 0.3));\n",
              "      fill: #FFFFFF;\n",
              "    }\n",
              "  </style>\n",
              "\n",
              "      <script>\n",
              "        const buttonEl =\n",
              "          document.querySelector('#df-4746fa7f-8c1c-433d-b616-35af5cf23cb2 button.colab-df-convert');\n",
              "        buttonEl.style.display =\n",
              "          google.colab.kernel.accessAllowed ? 'block' : 'none';\n",
              "\n",
              "        async function convertToInteractive(key) {\n",
              "          const element = document.querySelector('#df-4746fa7f-8c1c-433d-b616-35af5cf23cb2');\n",
              "          const dataTable =\n",
              "            await google.colab.kernel.invokeFunction('convertToInteractive',\n",
              "                                                     [key], {});\n",
              "          if (!dataTable) return;\n",
              "\n",
              "          const docLinkHtml = 'Like what you see? Visit the ' +\n",
              "            '<a target=\"_blank\" href=https://colab.research.google.com/notebooks/data_table.ipynb>data table notebook</a>'\n",
              "            + ' to learn more about interactive tables.';\n",
              "          element.innerHTML = '';\n",
              "          dataTable['output_type'] = 'display_data';\n",
              "          await google.colab.output.renderOutput(dataTable, element);\n",
              "          const docLink = document.createElement('div');\n",
              "          docLink.innerHTML = docLinkHtml;\n",
              "          element.appendChild(docLink);\n",
              "        }\n",
              "      </script>\n",
              "    </div>\n",
              "  </div>\n",
              "  "
            ]
          },
          "metadata": {},
          "execution_count": 29
        }
      ],
      "source": [
        "data[data['mths_since_earliest_cr_line']<0][['earliest_cr_line', 'earliest_cr_line_date', 'mths_since_earliest_cr_line']].head(3)"
      ]
    },
    {
      "cell_type": "markdown",
      "id": "6a0374c3-77fa-46e3-8075-5ff6cedb7de7",
      "metadata": {
        "id": "6a0374c3-77fa-46e3-8075-5ff6cedb7de7"
      },
      "source": [
        "Ternyata nilai negatif muncul karena fungsi Python salah menginterpretasikan tahun 62 menjadi tahun 2062, padahal seharusnya merupakan tahun 1962."
      ]
    },
    {
      "cell_type": "markdown",
      "id": "3d909118-1988-4bfc-8795-f6a44809b3c7",
      "metadata": {
        "id": "3d909118-1988-4bfc-8795-f6a44809b3c7"
      },
      "source": [
        "Untuk mengatasi hal ini, dapat dilakukan preprocessing lebih jauh jika ingin membenarkan tahun 2062 menjadi 1962. Namun, kali ini saya hanya mengubah nilai yang negatif menjadi nilai maximum dari fitur tersebut. Karena di sini saya mengetahui bahwa nilai-nilai yang negatif artinya adalah data yang sudah tua (tahun 1900an), maka masih masuk akal jika saya mengganti nilai-nilai tersebut menjadi nilai terbesar."
      ]
    },
    {
      "cell_type": "code",
      "execution_count": null,
      "id": "3eece212-c803-4298-91db-f8f645ca5e22",
      "metadata": {
        "id": "3eece212-c803-4298-91db-f8f645ca5e22"
      },
      "outputs": [],
      "source": [
        "data.loc[data['mths_since_earliest_cr_line']<0, 'mths_since_earliest_cr_line'] = data['mths_since_earliest_cr_line'].max()"
      ]
    },
    {
      "cell_type": "code",
      "execution_count": null,
      "id": "c834fa5d-7f28-4a3e-afa7-11bd919973c3",
      "metadata": {
        "id": "c834fa5d-7f28-4a3e-afa7-11bd919973c3"
      },
      "outputs": [],
      "source": [
        "data.drop(['earliest_cr_line', 'earliest_cr_line_date'], axis=1, inplace=True)"
      ]
    },
    {
      "cell_type": "markdown",
      "id": "f37a5e3b-480f-4c63-8e95-bb4852654c6c",
      "metadata": {
        "tags": [],
        "id": "f37a5e3b-480f-4c63-8e95-bb4852654c6c"
      },
      "source": [
        "### issue_d"
      ]
    },
    {
      "cell_type": "markdown",
      "id": "715e5c98-bf11-46e8-902f-601d8e2eee3f",
      "metadata": {
        "id": "715e5c98-bf11-46e8-902f-601d8e2eee3f"
      },
      "source": [
        "Konsep preprocessing yang dilakukan sama dengan yang dilakukan terhadap variabel `earliest_cr_line`"
      ]
    },
    {
      "cell_type": "code",
      "execution_count": null,
      "id": "aa592e64-24ea-475e-b7ff-df599dc07943",
      "metadata": {
        "id": "aa592e64-24ea-475e-b7ff-df599dc07943"
      },
      "outputs": [],
      "source": [
        "data['issue_d_date'] = pd.to_datetime(data['issue_d'], format='%b-%y')\n",
        "data['mths_since_issue_d'] = round(pd.to_numeric((pd.to_datetime('2017-12-01') - data['issue_d_date']) / np.timedelta64(1, 'M')))"
      ]
    },
    {
      "cell_type": "code",
      "execution_count": null,
      "id": "c39bc522-0586-4952-9de8-d60d4b5a605d",
      "metadata": {
        "colab": {
          "base_uri": "https://localhost:8080/"
        },
        "id": "c39bc522-0586-4952-9de8-d60d4b5a605d",
        "outputId": "1f6717b0-5033-4499-c0a1-e69f892fd93f"
      },
      "outputs": [
        {
          "output_type": "execute_result",
          "data": {
            "text/plain": [
              "count    466285.000000\n",
              "mean         51.255187\n",
              "std          14.340154\n",
              "min          36.000000\n",
              "25%          41.000000\n",
              "50%          47.000000\n",
              "75%          57.000000\n",
              "max         126.000000\n",
              "Name: mths_since_issue_d, dtype: float64"
            ]
          },
          "metadata": {},
          "execution_count": 33
        }
      ],
      "source": [
        "data['mths_since_issue_d'].describe()"
      ]
    },
    {
      "cell_type": "code",
      "execution_count": null,
      "id": "2ac3f14a-0234-40e4-a069-86ce36cf6c48",
      "metadata": {
        "id": "2ac3f14a-0234-40e4-a069-86ce36cf6c48"
      },
      "outputs": [],
      "source": [
        "data.drop(['issue_d', 'issue_d_date'], axis=1, inplace=True)"
      ]
    },
    {
      "cell_type": "markdown",
      "id": "20cb8392-d204-4b9c-a7b2-ca6e69ce3b7e",
      "metadata": {
        "tags": [],
        "id": "20cb8392-d204-4b9c-a7b2-ca6e69ce3b7e"
      },
      "source": [
        "### last_pymnt_d"
      ]
    },
    {
      "cell_type": "markdown",
      "id": "f7cdd097-6263-45da-8bf6-dc3d2a15c2c3",
      "metadata": {
        "id": "f7cdd097-6263-45da-8bf6-dc3d2a15c2c3"
      },
      "source": [
        "Konsep preprocessing yang dilakukan sama dengan yang dilakukan terhadap variabel `earliest_cr_line`"
      ]
    },
    {
      "cell_type": "code",
      "execution_count": null,
      "id": "ee5adad6-8ab8-43df-8a34-21b21effe274",
      "metadata": {
        "id": "ee5adad6-8ab8-43df-8a34-21b21effe274"
      },
      "outputs": [],
      "source": [
        "data['last_pymnt_d_date'] = pd.to_datetime(data['last_pymnt_d'], format='%b-%y')\n",
        "data['mths_since_last_pymnt_d'] = round(pd.to_numeric((pd.to_datetime('2017-12-01') - data['last_pymnt_d_date']) / np.timedelta64(1, 'M')))"
      ]
    },
    {
      "cell_type": "code",
      "execution_count": null,
      "id": "6ef28e75-4263-48bc-a2f2-56d05236afd4",
      "metadata": {
        "colab": {
          "base_uri": "https://localhost:8080/"
        },
        "id": "6ef28e75-4263-48bc-a2f2-56d05236afd4",
        "outputId": "58c4b051-b4a2-4642-ad69-a3d31da4bd83"
      },
      "outputs": [
        {
          "output_type": "execute_result",
          "data": {
            "text/plain": [
              "count    465909.000000\n",
              "mean         31.294369\n",
              "std          12.809898\n",
              "min          23.000000\n",
              "25%          23.000000\n",
              "50%          24.000000\n",
              "75%          35.000000\n",
              "max         120.000000\n",
              "Name: mths_since_last_pymnt_d, dtype: float64"
            ]
          },
          "metadata": {},
          "execution_count": 36
        }
      ],
      "source": [
        "data['mths_since_last_pymnt_d'].describe()"
      ]
    },
    {
      "cell_type": "code",
      "execution_count": null,
      "id": "0a6c53d6-0659-4e2b-b643-6ae7531f87e6",
      "metadata": {
        "id": "0a6c53d6-0659-4e2b-b643-6ae7531f87e6"
      },
      "outputs": [],
      "source": [
        "data.drop(['last_pymnt_d', 'last_pymnt_d_date'], axis=1, inplace=True)"
      ]
    },
    {
      "cell_type": "markdown",
      "id": "f79cfb76-cf00-4c9a-9516-f27f6a2886bf",
      "metadata": {
        "tags": [],
        "id": "f79cfb76-cf00-4c9a-9516-f27f6a2886bf"
      },
      "source": [
        "### next_pymnt_d"
      ]
    },
    {
      "cell_type": "markdown",
      "id": "b9590ea1-c59c-4c9e-a7b6-842cd7746bbe",
      "metadata": {
        "id": "b9590ea1-c59c-4c9e-a7b6-842cd7746bbe"
      },
      "source": [
        "Konsep preprocessing yang dilakukan sama dengan yang dilakukan terhadap variabel `earliest_cr_line`"
      ]
    },
    {
      "cell_type": "code",
      "execution_count": null,
      "id": "e6cf8d29-edc9-42af-b837-6fa1d4eb5519",
      "metadata": {
        "id": "e6cf8d29-edc9-42af-b837-6fa1d4eb5519"
      },
      "outputs": [],
      "source": [
        "data['next_pymnt_d_date'] = pd.to_datetime(data['next_pymnt_d'], format='%b-%y')\n",
        "data['mths_since_next_pymnt_d'] = round(pd.to_numeric((pd.to_datetime('2017-12-01') - data['next_pymnt_d_date']) / np.timedelta64(1, 'M')))"
      ]
    },
    {
      "cell_type": "code",
      "execution_count": null,
      "id": "78b1654d-25b1-4d84-9fbb-4ba6ee77f9e9",
      "metadata": {
        "colab": {
          "base_uri": "https://localhost:8080/"
        },
        "id": "78b1654d-25b1-4d84-9fbb-4ba6ee77f9e9",
        "outputId": "982d5b08-cbde-4fdf-84db-9805464c884e"
      },
      "outputs": [
        {
          "output_type": "execute_result",
          "data": {
            "text/plain": [
              "count    239071.000000\n",
              "mean         22.738136\n",
              "std           6.082298\n",
              "min          21.000000\n",
              "25%          22.000000\n",
              "50%          22.000000\n",
              "75%          22.000000\n",
              "max         120.000000\n",
              "Name: mths_since_next_pymnt_d, dtype: float64"
            ]
          },
          "metadata": {},
          "execution_count": 39
        }
      ],
      "source": [
        "data['mths_since_next_pymnt_d'].describe()"
      ]
    },
    {
      "cell_type": "code",
      "execution_count": null,
      "id": "43b09dc7-2c7f-499d-8c9c-499252754bd4",
      "metadata": {
        "id": "43b09dc7-2c7f-499d-8c9c-499252754bd4"
      },
      "outputs": [],
      "source": [
        "data.drop(['next_pymnt_d', 'next_pymnt_d_date'], axis=1, inplace=True)"
      ]
    },
    {
      "cell_type": "markdown",
      "id": "a1af0a43-71e2-4b08-9ad3-7f8cf394b1d0",
      "metadata": {
        "tags": [],
        "id": "a1af0a43-71e2-4b08-9ad3-7f8cf394b1d0"
      },
      "source": [
        "### last_credit_pull_d"
      ]
    },
    {
      "cell_type": "markdown",
      "id": "b20d2cb6-570a-4055-9c0d-5c8313f3289b",
      "metadata": {
        "id": "b20d2cb6-570a-4055-9c0d-5c8313f3289b"
      },
      "source": [
        "Konsep preprocessing yang dilakukan sama dengan yang dilakukan terhadap variabel `earliest_cr_line`"
      ]
    },
    {
      "cell_type": "code",
      "execution_count": null,
      "id": "19581450-4d1a-4ca6-9c5b-08cd3b730b84",
      "metadata": {
        "id": "19581450-4d1a-4ca6-9c5b-08cd3b730b84"
      },
      "outputs": [],
      "source": [
        "data['last_credit_pull_d_date'] = pd.to_datetime(data['last_credit_pull_d'], format='%b-%y')\n",
        "data['mths_since_last_credit_pull_d'] = round(pd.to_numeric((pd.to_datetime('2017-12-01') - data['last_credit_pull_d_date']) / np.timedelta64(1, 'M')))"
      ]
    },
    {
      "cell_type": "code",
      "execution_count": null,
      "id": "cb959846-54bf-4ec3-8160-b6b35b6bc093",
      "metadata": {
        "colab": {
          "base_uri": "https://localhost:8080/"
        },
        "id": "cb959846-54bf-4ec3-8160-b6b35b6bc093",
        "outputId": "f73c0da9-bf7b-441f-f77c-f511c343d789"
      },
      "outputs": [
        {
          "output_type": "execute_result",
          "data": {
            "text/plain": [
              "count    466243.000000\n",
              "mean         27.045588\n",
              "std           9.636423\n",
              "min          23.000000\n",
              "25%          23.000000\n",
              "50%          23.000000\n",
              "75%          25.000000\n",
              "max         127.000000\n",
              "Name: mths_since_last_credit_pull_d, dtype: float64"
            ]
          },
          "metadata": {},
          "execution_count": 42
        }
      ],
      "source": [
        "data['mths_since_last_credit_pull_d'].describe()"
      ]
    },
    {
      "cell_type": "code",
      "execution_count": null,
      "id": "58a28346-0b6d-4b5f-acc6-3f8bf8ca3395",
      "metadata": {
        "id": "58a28346-0b6d-4b5f-acc6-3f8bf8ca3395"
      },
      "outputs": [],
      "source": [
        "data.drop(['last_credit_pull_d', 'last_credit_pull_d_date'], axis=1, inplace=True)"
      ]
    },
    {
      "cell_type": "markdown",
      "id": "202362f6-3d5f-4e72-a795-b3d145416277",
      "metadata": {
        "tags": [],
        "id": "202362f6-3d5f-4e72-a795-b3d145416277"
      },
      "source": [
        "# EXPLORATORY DATA ANALYSIS"
      ]
    },
    {
      "cell_type": "code",
      "execution_count": null,
      "metadata": {
        "colab": {
          "base_uri": "https://localhost:8080/",
          "height": 542
        },
        "id": "7wbJEo0gr-Us",
        "outputId": "487d3948-8927-442a-a80d-6448e539d226"
      },
      "outputs": [
        {
          "output_type": "display_data",
          "data": {
            "text/html": [
              "<html>\n",
              "<head><meta charset=\"utf-8\" /></head>\n",
              "<body>\n",
              "    <div>            <script src=\"https://cdnjs.cloudflare.com/ajax/libs/mathjax/2.7.5/MathJax.js?config=TeX-AMS-MML_SVG\"></script><script type=\"text/javascript\">if (window.MathJax) {MathJax.Hub.Config({SVG: {font: \"STIX-Web\"}});}</script>                <script type=\"text/javascript\">window.PlotlyConfig = {MathJaxConfig: 'local'};</script>\n",
              "        <script src=\"https://cdn.plot.ly/plotly-2.8.3.min.js\"></script>                <div id=\"11f70767-486d-4143-a39e-345f9e5d098e\" class=\"plotly-graph-div\" style=\"height:525px; width:100%;\"></div>            <script type=\"text/javascript\">                                    window.PLOTLYENV=window.PLOTLYENV || {};                                    if (document.getElementById(\"11f70767-486d-4143-a39e-345f9e5d098e\")) {                    Plotly.newPlot(                        \"11f70767-486d-4143-a39e-345f9e5d098e\",                        [{\"alignmentgroup\":\"True\",\"hovertemplate\":\"index=%{x}<br>bad_flag=%{y}<extra></extra>\",\"legendgroup\":\"\",\"marker\":{\"color\":\"#636efa\",\"pattern\":{\"shape\":\"\"}},\"name\":\"\",\"offsetgroup\":\"\",\"orientation\":\"v\",\"showlegend\":false,\"textposition\":\"auto\",\"x\":[0,1],\"xaxis\":\"x\",\"y\":[415317,50968],\"yaxis\":\"y\",\"type\":\"bar\"}],                        {\"template\":{\"data\":{\"bar\":[{\"error_x\":{\"color\":\"#2a3f5f\"},\"error_y\":{\"color\":\"#2a3f5f\"},\"marker\":{\"line\":{\"color\":\"#E5ECF6\",\"width\":0.5},\"pattern\":{\"fillmode\":\"overlay\",\"size\":10,\"solidity\":0.2}},\"type\":\"bar\"}],\"barpolar\":[{\"marker\":{\"line\":{\"color\":\"#E5ECF6\",\"width\":0.5},\"pattern\":{\"fillmode\":\"overlay\",\"size\":10,\"solidity\":0.2}},\"type\":\"barpolar\"}],\"carpet\":[{\"aaxis\":{\"endlinecolor\":\"#2a3f5f\",\"gridcolor\":\"white\",\"linecolor\":\"white\",\"minorgridcolor\":\"white\",\"startlinecolor\":\"#2a3f5f\"},\"baxis\":{\"endlinecolor\":\"#2a3f5f\",\"gridcolor\":\"white\",\"linecolor\":\"white\",\"minorgridcolor\":\"white\",\"startlinecolor\":\"#2a3f5f\"},\"type\":\"carpet\"}],\"choropleth\":[{\"colorbar\":{\"outlinewidth\":0,\"ticks\":\"\"},\"type\":\"choropleth\"}],\"contour\":[{\"colorbar\":{\"outlinewidth\":0,\"ticks\":\"\"},\"colorscale\":[[0.0,\"#0d0887\"],[0.1111111111111111,\"#46039f\"],[0.2222222222222222,\"#7201a8\"],[0.3333333333333333,\"#9c179e\"],[0.4444444444444444,\"#bd3786\"],[0.5555555555555556,\"#d8576b\"],[0.6666666666666666,\"#ed7953\"],[0.7777777777777778,\"#fb9f3a\"],[0.8888888888888888,\"#fdca26\"],[1.0,\"#f0f921\"]],\"type\":\"contour\"}],\"contourcarpet\":[{\"colorbar\":{\"outlinewidth\":0,\"ticks\":\"\"},\"type\":\"contourcarpet\"}],\"heatmap\":[{\"colorbar\":{\"outlinewidth\":0,\"ticks\":\"\"},\"colorscale\":[[0.0,\"#0d0887\"],[0.1111111111111111,\"#46039f\"],[0.2222222222222222,\"#7201a8\"],[0.3333333333333333,\"#9c179e\"],[0.4444444444444444,\"#bd3786\"],[0.5555555555555556,\"#d8576b\"],[0.6666666666666666,\"#ed7953\"],[0.7777777777777778,\"#fb9f3a\"],[0.8888888888888888,\"#fdca26\"],[1.0,\"#f0f921\"]],\"type\":\"heatmap\"}],\"heatmapgl\":[{\"colorbar\":{\"outlinewidth\":0,\"ticks\":\"\"},\"colorscale\":[[0.0,\"#0d0887\"],[0.1111111111111111,\"#46039f\"],[0.2222222222222222,\"#7201a8\"],[0.3333333333333333,\"#9c179e\"],[0.4444444444444444,\"#bd3786\"],[0.5555555555555556,\"#d8576b\"],[0.6666666666666666,\"#ed7953\"],[0.7777777777777778,\"#fb9f3a\"],[0.8888888888888888,\"#fdca26\"],[1.0,\"#f0f921\"]],\"type\":\"heatmapgl\"}],\"histogram\":[{\"marker\":{\"pattern\":{\"fillmode\":\"overlay\",\"size\":10,\"solidity\":0.2}},\"type\":\"histogram\"}],\"histogram2d\":[{\"colorbar\":{\"outlinewidth\":0,\"ticks\":\"\"},\"colorscale\":[[0.0,\"#0d0887\"],[0.1111111111111111,\"#46039f\"],[0.2222222222222222,\"#7201a8\"],[0.3333333333333333,\"#9c179e\"],[0.4444444444444444,\"#bd3786\"],[0.5555555555555556,\"#d8576b\"],[0.6666666666666666,\"#ed7953\"],[0.7777777777777778,\"#fb9f3a\"],[0.8888888888888888,\"#fdca26\"],[1.0,\"#f0f921\"]],\"type\":\"histogram2d\"}],\"histogram2dcontour\":[{\"colorbar\":{\"outlinewidth\":0,\"ticks\":\"\"},\"colorscale\":[[0.0,\"#0d0887\"],[0.1111111111111111,\"#46039f\"],[0.2222222222222222,\"#7201a8\"],[0.3333333333333333,\"#9c179e\"],[0.4444444444444444,\"#bd3786\"],[0.5555555555555556,\"#d8576b\"],[0.6666666666666666,\"#ed7953\"],[0.7777777777777778,\"#fb9f3a\"],[0.8888888888888888,\"#fdca26\"],[1.0,\"#f0f921\"]],\"type\":\"histogram2dcontour\"}],\"mesh3d\":[{\"colorbar\":{\"outlinewidth\":0,\"ticks\":\"\"},\"type\":\"mesh3d\"}],\"parcoords\":[{\"line\":{\"colorbar\":{\"outlinewidth\":0,\"ticks\":\"\"}},\"type\":\"parcoords\"}],\"pie\":[{\"automargin\":true,\"type\":\"pie\"}],\"scatter\":[{\"marker\":{\"colorbar\":{\"outlinewidth\":0,\"ticks\":\"\"}},\"type\":\"scatter\"}],\"scatter3d\":[{\"line\":{\"colorbar\":{\"outlinewidth\":0,\"ticks\":\"\"}},\"marker\":{\"colorbar\":{\"outlinewidth\":0,\"ticks\":\"\"}},\"type\":\"scatter3d\"}],\"scattercarpet\":[{\"marker\":{\"colorbar\":{\"outlinewidth\":0,\"ticks\":\"\"}},\"type\":\"scattercarpet\"}],\"scattergeo\":[{\"marker\":{\"colorbar\":{\"outlinewidth\":0,\"ticks\":\"\"}},\"type\":\"scattergeo\"}],\"scattergl\":[{\"marker\":{\"colorbar\":{\"outlinewidth\":0,\"ticks\":\"\"}},\"type\":\"scattergl\"}],\"scattermapbox\":[{\"marker\":{\"colorbar\":{\"outlinewidth\":0,\"ticks\":\"\"}},\"type\":\"scattermapbox\"}],\"scatterpolar\":[{\"marker\":{\"colorbar\":{\"outlinewidth\":0,\"ticks\":\"\"}},\"type\":\"scatterpolar\"}],\"scatterpolargl\":[{\"marker\":{\"colorbar\":{\"outlinewidth\":0,\"ticks\":\"\"}},\"type\":\"scatterpolargl\"}],\"scatterternary\":[{\"marker\":{\"colorbar\":{\"outlinewidth\":0,\"ticks\":\"\"}},\"type\":\"scatterternary\"}],\"surface\":[{\"colorbar\":{\"outlinewidth\":0,\"ticks\":\"\"},\"colorscale\":[[0.0,\"#0d0887\"],[0.1111111111111111,\"#46039f\"],[0.2222222222222222,\"#7201a8\"],[0.3333333333333333,\"#9c179e\"],[0.4444444444444444,\"#bd3786\"],[0.5555555555555556,\"#d8576b\"],[0.6666666666666666,\"#ed7953\"],[0.7777777777777778,\"#fb9f3a\"],[0.8888888888888888,\"#fdca26\"],[1.0,\"#f0f921\"]],\"type\":\"surface\"}],\"table\":[{\"cells\":{\"fill\":{\"color\":\"#EBF0F8\"},\"line\":{\"color\":\"white\"}},\"header\":{\"fill\":{\"color\":\"#C8D4E3\"},\"line\":{\"color\":\"white\"}},\"type\":\"table\"}]},\"layout\":{\"annotationdefaults\":{\"arrowcolor\":\"#2a3f5f\",\"arrowhead\":0,\"arrowwidth\":1},\"autotypenumbers\":\"strict\",\"coloraxis\":{\"colorbar\":{\"outlinewidth\":0,\"ticks\":\"\"}},\"colorscale\":{\"diverging\":[[0,\"#8e0152\"],[0.1,\"#c51b7d\"],[0.2,\"#de77ae\"],[0.3,\"#f1b6da\"],[0.4,\"#fde0ef\"],[0.5,\"#f7f7f7\"],[0.6,\"#e6f5d0\"],[0.7,\"#b8e186\"],[0.8,\"#7fbc41\"],[0.9,\"#4d9221\"],[1,\"#276419\"]],\"sequential\":[[0.0,\"#0d0887\"],[0.1111111111111111,\"#46039f\"],[0.2222222222222222,\"#7201a8\"],[0.3333333333333333,\"#9c179e\"],[0.4444444444444444,\"#bd3786\"],[0.5555555555555556,\"#d8576b\"],[0.6666666666666666,\"#ed7953\"],[0.7777777777777778,\"#fb9f3a\"],[0.8888888888888888,\"#fdca26\"],[1.0,\"#f0f921\"]],\"sequentialminus\":[[0.0,\"#0d0887\"],[0.1111111111111111,\"#46039f\"],[0.2222222222222222,\"#7201a8\"],[0.3333333333333333,\"#9c179e\"],[0.4444444444444444,\"#bd3786\"],[0.5555555555555556,\"#d8576b\"],[0.6666666666666666,\"#ed7953\"],[0.7777777777777778,\"#fb9f3a\"],[0.8888888888888888,\"#fdca26\"],[1.0,\"#f0f921\"]]},\"colorway\":[\"#636efa\",\"#EF553B\",\"#00cc96\",\"#ab63fa\",\"#FFA15A\",\"#19d3f3\",\"#FF6692\",\"#B6E880\",\"#FF97FF\",\"#FECB52\"],\"font\":{\"color\":\"#2a3f5f\"},\"geo\":{\"bgcolor\":\"white\",\"lakecolor\":\"white\",\"landcolor\":\"#E5ECF6\",\"showlakes\":true,\"showland\":true,\"subunitcolor\":\"white\"},\"hoverlabel\":{\"align\":\"left\"},\"hovermode\":\"closest\",\"mapbox\":{\"style\":\"light\"},\"paper_bgcolor\":\"white\",\"plot_bgcolor\":\"#E5ECF6\",\"polar\":{\"angularaxis\":{\"gridcolor\":\"white\",\"linecolor\":\"white\",\"ticks\":\"\"},\"bgcolor\":\"#E5ECF6\",\"radialaxis\":{\"gridcolor\":\"white\",\"linecolor\":\"white\",\"ticks\":\"\"}},\"scene\":{\"xaxis\":{\"backgroundcolor\":\"#E5ECF6\",\"gridcolor\":\"white\",\"gridwidth\":2,\"linecolor\":\"white\",\"showbackground\":true,\"ticks\":\"\",\"zerolinecolor\":\"white\"},\"yaxis\":{\"backgroundcolor\":\"#E5ECF6\",\"gridcolor\":\"white\",\"gridwidth\":2,\"linecolor\":\"white\",\"showbackground\":true,\"ticks\":\"\",\"zerolinecolor\":\"white\"},\"zaxis\":{\"backgroundcolor\":\"#E5ECF6\",\"gridcolor\":\"white\",\"gridwidth\":2,\"linecolor\":\"white\",\"showbackground\":true,\"ticks\":\"\",\"zerolinecolor\":\"white\"}},\"shapedefaults\":{\"line\":{\"color\":\"#2a3f5f\"}},\"ternary\":{\"aaxis\":{\"gridcolor\":\"white\",\"linecolor\":\"white\",\"ticks\":\"\"},\"baxis\":{\"gridcolor\":\"white\",\"linecolor\":\"white\",\"ticks\":\"\"},\"bgcolor\":\"#E5ECF6\",\"caxis\":{\"gridcolor\":\"white\",\"linecolor\":\"white\",\"ticks\":\"\"}},\"title\":{\"x\":0.05},\"xaxis\":{\"automargin\":true,\"gridcolor\":\"white\",\"linecolor\":\"white\",\"ticks\":\"\",\"title\":{\"standoff\":15},\"zerolinecolor\":\"white\",\"zerolinewidth\":2},\"yaxis\":{\"automargin\":true,\"gridcolor\":\"white\",\"linecolor\":\"white\",\"ticks\":\"\",\"title\":{\"standoff\":15},\"zerolinecolor\":\"white\",\"zerolinewidth\":2}}},\"xaxis\":{\"anchor\":\"y\",\"domain\":[0.0,1.0],\"title\":{\"text\":\"index\"}},\"yaxis\":{\"anchor\":\"x\",\"domain\":[0.0,1.0],\"title\":{\"text\":\"bad_flag\"}},\"legend\":{\"tracegroupgap\":0},\"title\":{\"text\":\"Good Bad Customers\"},\"barmode\":\"relative\"},                        {\"responsive\": true}                    ).then(function(){\n",
              "                            \n",
              "var gd = document.getElementById('11f70767-486d-4143-a39e-345f9e5d098e');\n",
              "var x = new MutationObserver(function (mutations, observer) {{\n",
              "        var display = window.getComputedStyle(gd).display;\n",
              "        if (!display || display === 'none') {{\n",
              "            console.log([gd, 'removed!']);\n",
              "            Plotly.purge(gd);\n",
              "            observer.disconnect();\n",
              "        }}\n",
              "}});\n",
              "\n",
              "// Listen for the removal of the full notebook cells\n",
              "var notebookContainer = gd.closest('#notebook-container');\n",
              "if (notebookContainer) {{\n",
              "    x.observe(notebookContainer, {childList: true});\n",
              "}}\n",
              "\n",
              "// Listen for the clearing of the current output cell\n",
              "var outputEl = gd.closest('.output');\n",
              "if (outputEl) {{\n",
              "    x.observe(outputEl, {childList: true});\n",
              "}}\n",
              "\n",
              "                        })                };                            </script>        </div>\n",
              "</body>\n",
              "</html>"
            ]
          },
          "metadata": {}
        }
      ],
      "source": [
        "# finding count of good and bad customers\n",
        "good_bad_count = data['bad_flag'].value_counts().reset_index()\n",
        "\n",
        "#barplot\n",
        "fig = px.bar(good_bad_count, x=\"index\", y=\"bad_flag\" ,title=\"Good Bad Customers\")\n",
        "fig.show()"
      ],
      "id": "7wbJEo0gr-Us"
    },
    {
      "cell_type": "code",
      "source": [
        "ax = sns.countplot(x=\"term_int\", hue=\"bad_flag\", data=data)"
      ],
      "metadata": {
        "colab": {
          "base_uri": "https://localhost:8080/",
          "height": 285
        },
        "id": "nejnjYBHEEQw",
        "outputId": "7856ddbb-abed-47b9-d04e-622d5916bd0c"
      },
      "execution_count": null,
      "outputs": [
        {
          "output_type": "display_data",
          "data": {
            "text/plain": [
              "<Figure size 432x288 with 1 Axes>"
            ],
            "image/png": "[encoded data removed]"
          },
          "metadata": {}
        }
      ],
      "id": "nejnjYBHEEQw"
    },
    {
      "cell_type": "code",
      "source": [
        "#Binning\n",
        "interval_range = pd.interval_range(start=0, freq=10000, end=40000)\n",
        "data['loan_amnt_bin'] = pd.cut(data['loan_amnt'], bins=interval_range)"
      ],
      "metadata": {
        "id": "d9-XNVLvoxyb"
      },
      "execution_count": null,
      "outputs": [],
      "id": "d9-XNVLvoxyb"
    },
    {
      "cell_type": "code",
      "source": [
        "g = sns.catplot(x=\"loan_amnt_bin\", hue=\"bad_flag\", \n",
        "                data=data, kind=\"count\",\n",
        "                height=5, aspect=2);\n"
      ],
      "metadata": {
        "colab": {
          "base_uri": "https://localhost:8080/",
          "height": 365
        },
        "id": "wDALnHYom2Jc",
        "outputId": "2b7e94d1-4282-45f1-a4b7-c2b20a3e0f60"
      },
      "id": "wDALnHYom2Jc",
      "execution_count": null,
      "outputs": [
        {
          "output_type": "display_data",
          "data": {
            "text/plain": [
              "<Figure size 780.3x360 with 1 Axes>"
            ],
            "image/png": "[encoded data removed]"
          },
          "metadata": {}
        }
      ]
    },
    {
      "cell_type": "code",
      "source": [
        "ax = sns.countplot(x=\"home_ownership\", hue=\"bad_flag\", data=data)"
      ],
      "metadata": {
        "colab": {
          "base_uri": "https://localhost:8080/",
          "height": 285
        },
        "id": "SfPPTBykGIWb",
        "outputId": "a3205856-13a5-4a2f-db60-900208d3aa6f"
      },
      "execution_count": null,
      "outputs": [
        {
          "output_type": "display_data",
          "data": {
            "text/plain": [
              "<Figure size 432x288 with 1 Axes>"
            ],
            "image/png": "[encoded data removed]"
          },
          "metadata": {}
        }
      ],
      "id": "SfPPTBykGIWb"
    },
    {
      "cell_type": "code",
      "source": [
        "interval_range = pd.interval_range(start=0, freq=5, end=30)\n",
        "data['int_rate_bin'] = pd.cut(data['int_rate'], bins=interval_range)"
      ],
      "metadata": {
        "id": "Tyyxe2xllu6v"
      },
      "execution_count": null,
      "outputs": [],
      "id": "Tyyxe2xllu6v"
    },
    {
      "cell_type": "code",
      "source": [
        "ax = sns.countplot(x=\"int_rate_bin\", hue=\"bad_flag\", data=data)"
      ],
      "metadata": {
        "colab": {
          "base_uri": "https://localhost:8080/",
          "height": 285
        },
        "id": "4fdf6J4HGMuI",
        "outputId": "27473eec-7e41-49e0-8973-aa6bd5be40a3"
      },
      "execution_count": null,
      "outputs": [
        {
          "output_type": "display_data",
          "data": {
            "text/plain": [
              "<Figure size 432x288 with 1 Axes>"
            ],
            "image/png": "[encoded data removed]"
          },
          "metadata": {}
        }
      ],
      "id": "4fdf6J4HGMuI"
    },
    {
      "cell_type": "code",
      "source": [
        "#binning\n",
        "interval_range = pd.interval_range(start=0, freq=10000, end=60000)\n",
        "data['total_pymnt_inv_bin'] = pd.cut(data['total_pymnt_inv'], bins=interval_range)"
      ],
      "metadata": {
        "id": "L5ge_M13mo0u"
      },
      "execution_count": null,
      "outputs": [],
      "id": "L5ge_M13mo0u"
    },
    {
      "cell_type": "code",
      "source": [
        "g = sns.catplot(x=\"total_pymnt_inv_bin\", hue=\"bad_flag\", \n",
        "                data=data, kind=\"count\",\n",
        "                height=5, aspect=2);"
      ],
      "metadata": {
        "colab": {
          "base_uri": "https://localhost:8080/",
          "height": 365
        },
        "id": "zclVxML6otnf",
        "outputId": "eb35ff6e-54c3-43ef-c5d0-886c911dc980"
      },
      "id": "zclVxML6otnf",
      "execution_count": null,
      "outputs": [
        {
          "output_type": "display_data",
          "data": {
            "text/plain": [
              "<Figure size 780.3x360 with 1 Axes>"
            ],
            "image/png": "[encoded data removed]"
          },
          "metadata": {}
        }
      ]
    },
    {
      "cell_type": "code",
      "source": [
        "#binning\n",
        "interval_range = pd.interval_range(start=0, freq=10000, end=60000)\n",
        "data['total_pymnt_bin'] = pd.cut(data['total_pymnt'], bins=interval_range)"
      ],
      "metadata": {
        "id": "2e-SFONXnCeE"
      },
      "execution_count": null,
      "outputs": [],
      "id": "2e-SFONXnCeE"
    },
    {
      "cell_type": "code",
      "source": [
        "g = sns.catplot(x=\"total_pymnt_bin\", hue=\"bad_flag\", \n",
        "                data=data, kind=\"count\",\n",
        "                height=5, aspect=2);"
      ],
      "metadata": {
        "colab": {
          "base_uri": "https://localhost:8080/",
          "height": 365
        },
        "id": "g51-CSlio27V",
        "outputId": "ab64400f-ff79-4dc9-9330-26aba1a0120c"
      },
      "id": "g51-CSlio27V",
      "execution_count": null,
      "outputs": [
        {
          "output_type": "display_data",
          "data": {
            "text/plain": [
              "<Figure size 780.3x360 with 1 Axes>"
            ],
            "image/png": "[encoded data removed]"
          },
          "metadata": {}
        }
      ]
    },
    {
      "cell_type": "code",
      "source": [
        "#binning\n",
        "interval_range = pd.interval_range(start=0, freq=10000, end=60000)\n",
        "data['last_pymnt_amnt_bin'] = pd.cut(data['last_pymnt_amnt'], bins=interval_range)"
      ],
      "metadata": {
        "id": "L7CmvisEnG_J"
      },
      "execution_count": null,
      "outputs": [],
      "id": "L7CmvisEnG_J"
    },
    {
      "cell_type": "code",
      "source": [
        "g = sns.catplot(x=\"last_pymnt_amnt_bin\", hue=\"bad_flag\", \n",
        "                data=data, kind=\"count\",\n",
        "                height=5, aspect=2);"
      ],
      "metadata": {
        "colab": {
          "base_uri": "https://localhost:8080/",
          "height": 365
        },
        "id": "fuMTHFVOo9lK",
        "outputId": "8f001133-ca1b-4bcb-9062-27bca1b49ee1"
      },
      "id": "fuMTHFVOo9lK",
      "execution_count": null,
      "outputs": [
        {
          "output_type": "display_data",
          "data": {
            "text/plain": [
              "<Figure size 780.3x360 with 1 Axes>"
            ],
            "image/png": "[encoded data removed]"
          },
          "metadata": {}
        }
      ]
    },
    {
      "cell_type": "code",
      "source": [
        "ax = sns.countplot(x=\"grade\", hue=\"bad_flag\", data=data)"
      ],
      "metadata": {
        "colab": {
          "base_uri": "https://localhost:8080/",
          "height": 285
        },
        "id": "danugmViGUw5",
        "outputId": "282e654b-ca91-4bb5-a91e-6d0939a5c927"
      },
      "execution_count": null,
      "outputs": [
        {
          "output_type": "display_data",
          "data": {
            "text/plain": [
              "<Figure size 432x288 with 1 Axes>"
            ],
            "image/png": "[encoded data removed]"
          },
          "metadata": {}
        }
      ],
      "id": "danugmViGUw5"
    },
    {
      "cell_type": "code",
      "source": [
        "data = data.drop(columns=['loan_amnt_bin','int_rate_bin','total_pymnt_inv_bin','total_pymnt_bin','last_pymnt_amnt_bin'])"
      ],
      "metadata": {
        "id": "d8UUURMEPtyp"
      },
      "execution_count": null,
      "outputs": [],
      "id": "d8UUURMEPtyp"
    },
    {
      "cell_type": "markdown",
      "id": "f35f6fc5-19b4-47b5-83c6-410a296a3561",
      "metadata": {
        "id": "f35f6fc5-19b4-47b5-83c6-410a296a3561"
      },
      "source": [
        "### Correlation Check"
      ]
    },
    {
      "cell_type": "code",
      "execution_count": null,
      "id": "d13dd53d-fdbf-4a55-b2c3-9c175e027a32",
      "metadata": {
        "colab": {
          "base_uri": "https://localhost:8080/",
          "height": 1000
        },
        "id": "d13dd53d-fdbf-4a55-b2c3-9c175e027a32",
        "outputId": "7a64c4d5-23ca-4b02-8f5e-b98f715174dd"
      },
      "outputs": [
        {
          "output_type": "execute_result",
          "data": {
            "text/plain": [
              "<matplotlib.axes._subplots.AxesSubplot at 0x7f1061c8c950>"
            ]
          },
          "metadata": {},
          "execution_count": 71
        },
        {
          "output_type": "display_data",
          "data": {
            "text/plain": [
              "<Figure size 1440x1440 with 2 Axes>"
            ],
            "image/png": "[encoded data removed]"
          },
          "metadata": {}
        }
      ],
      "source": [
        "plt.figure(figsize=(20,20))\n",
        "sns.heatmap(data.corr())"
      ]
    },
    {
      "cell_type": "markdown",
      "id": "79ee2ff5-f2a5-4ab1-b286-5bcca623bb2b",
      "metadata": {
        "id": "79ee2ff5-f2a5-4ab1-b286-5bcca623bb2b"
      },
      "source": [
        "Di sini, jika ada pasangan fitur-fitur yang memiliki korelasi tinggi maka akan diambil salah satu saja. Nilai korelasi yang dijadikan patokan sebagai korelasi tinggi tidak pasti, umumnya digunakan angka 0.7."
      ]
    },
    {
      "cell_type": "code",
      "execution_count": null,
      "id": "c0dc104b-10be-425f-a192-7ed77ef73805",
      "metadata": {
        "colab": {
          "base_uri": "https://localhost:8080/"
        },
        "id": "c0dc104b-10be-425f-a192-7ed77ef73805",
        "outputId": "889f6e7f-96fe-44b5-cb65-9edcb7f88530"
      },
      "outputs": [
        {
          "output_type": "stream",
          "name": "stderr",
          "text": [
            "/usr/local/lib/python3.7/dist-packages/ipykernel_launcher.py:2: DeprecationWarning:\n",
            "\n",
            "`np.bool` is a deprecated alias for the builtin `bool`. To silence this warning, use `bool` by itself. Doing this will not modify any behavior and is safe. If you specifically wanted the numpy scalar type, use `np.bool_` here.\n",
            "Deprecated in NumPy 1.20; for more details and guidance: https://numpy.org/devdocs/release/1.20.0-notes.html#deprecations\n",
            "\n"
          ]
        }
      ],
      "source": [
        "corr_matrix = data.corr().abs()\n",
        "upper = corr_matrix.where(np.triu(np.ones(corr_matrix.shape), k=1).astype(np.bool))\n",
        "to_drop_hicorr = [column for column in upper.columns if any(upper[column] > 0.7)]"
      ]
    },
    {
      "cell_type": "code",
      "execution_count": null,
      "id": "e113849b-e0fb-4b08-8d26-68d5436d2480",
      "metadata": {
        "colab": {
          "base_uri": "https://localhost:8080/"
        },
        "id": "e113849b-e0fb-4b08-8d26-68d5436d2480",
        "outputId": "18a5a5b5-a344-4e0b-d440-ff05dcf5acbb"
      },
      "outputs": [
        {
          "output_type": "execute_result",
          "data": {
            "text/plain": [
              "['funded_amnt',\n",
              " 'funded_amnt_inv',\n",
              " 'installment',\n",
              " 'out_prncp_inv',\n",
              " 'total_pymnt',\n",
              " 'total_pymnt_inv',\n",
              " 'total_rec_prncp',\n",
              " 'total_rec_int',\n",
              " 'collection_recovery_fee',\n",
              " 'last_pymnt_amnt',\n",
              " 'mths_since_last_major_derog',\n",
              " 'total_rev_hi_lim',\n",
              " 'mths_since_last_pymnt_d',\n",
              " 'mths_since_next_pymnt_d',\n",
              " 'mths_since_last_credit_pull_d']"
            ]
          },
          "metadata": {},
          "execution_count": 73
        }
      ],
      "source": [
        "to_drop_hicorr"
      ]
    },
    {
      "cell_type": "code",
      "execution_count": null,
      "id": "b150ab38-812e-468b-aa67-99d39a9a3fbb",
      "metadata": {
        "id": "b150ab38-812e-468b-aa67-99d39a9a3fbb"
      },
      "outputs": [],
      "source": [
        "data.drop(to_drop_hicorr, axis=1, inplace=True)"
      ]
    },
    {
      "cell_type": "markdown",
      "id": "6bb5b4b0-bab4-400d-b3ce-464273308583",
      "metadata": {
        "id": "6bb5b4b0-bab4-400d-b3ce-464273308583"
      },
      "source": [
        "### Check Categorical Features"
      ]
    },
    {
      "cell_type": "code",
      "execution_count": null,
      "id": "1652040d-321a-46b2-890a-c1a44cb8417f",
      "metadata": {
        "colab": {
          "base_uri": "https://localhost:8080/"
        },
        "id": "1652040d-321a-46b2-890a-c1a44cb8417f",
        "outputId": "a8c1d94a-e2cf-4646-c3d1-44568f1ed544"
      },
      "outputs": [
        {
          "output_type": "execute_result",
          "data": {
            "text/plain": [
              "grade                       7\n",
              "emp_title              205475\n",
              "home_ownership              6\n",
              "verification_status         3\n",
              "pymnt_plan                  2\n",
              "purpose                    14\n",
              "title                   63099\n",
              "addr_state                 50\n",
              "initial_list_status         2\n",
              "application_type            1\n",
              "dtype: int64"
            ]
          },
          "metadata": {},
          "execution_count": 75
        }
      ],
      "source": [
        "data.select_dtypes(include='object').nunique()"
      ]
    },
    {
      "cell_type": "markdown",
      "id": "6666c857-7105-4038-a02d-0e930aba210f",
      "metadata": {
        "id": "6666c857-7105-4038-a02d-0e930aba210f"
      },
      "source": [
        "Pada tahap ini dilakukan pembuangan fitur yang memiliki nilai unik yang sangat tinggi (high cardinality) dan fitur yang hanya memiliki satu nilai unik saja."
      ]
    },
    {
      "cell_type": "code",
      "execution_count": null,
      "id": "db7d858a-8b92-4f2b-bfb5-534161faeda0",
      "metadata": {
        "id": "db7d858a-8b92-4f2b-bfb5-534161faeda0"
      },
      "outputs": [],
      "source": [
        "data.drop(['emp_title', 'title', 'application_type'], axis=1, inplace=True)"
      ]
    },
    {
      "cell_type": "code",
      "execution_count": null,
      "id": "c8d4b6e7-40d3-4558-9136-bf2ed6eba493",
      "metadata": {
        "colab": {
          "base_uri": "https://localhost:8080/"
        },
        "id": "c8d4b6e7-40d3-4558-9136-bf2ed6eba493",
        "outputId": "06635728-3429-4a96-c5e9-1f1e44942936"
      },
      "outputs": [
        {
          "output_type": "execute_result",
          "data": {
            "text/plain": [
              "loan_amnt                        1352\n",
              "int_rate                          506\n",
              "annual_inc                      31901\n",
              "dti                              3997\n",
              "delinq_2yrs                        24\n",
              "inq_last_6mths                     28\n",
              "mths_since_last_delinq            145\n",
              "mths_since_last_record            123\n",
              "open_acc                           62\n",
              "pub_rec                            26\n",
              "revol_bal                       58142\n",
              "revol_util                       1269\n",
              "total_acc                         112\n",
              "out_prncp                      135665\n",
              "total_rec_late_fee               5808\n",
              "recoveries                      22773\n",
              "collections_12_mths_ex_med          9\n",
              "policy_code                         1\n",
              "acc_now_delinq                      6\n",
              "tot_coll_amt                     6321\n",
              "tot_cur_bal                    220690\n",
              "bad_flag                            2\n",
              "emp_length_int                     11\n",
              "term_int                            2\n",
              "mths_since_earliest_cr_line       515\n",
              "mths_since_issue_d                 91\n",
              "dtype: int64"
            ]
          },
          "metadata": {},
          "execution_count": 77
        }
      ],
      "source": [
        "data.select_dtypes(exclude='object').nunique()"
      ]
    },
    {
      "cell_type": "markdown",
      "id": "ed85b594-0a47-4fb4-9f07-9e7a3a530709",
      "metadata": {
        "id": "ed85b594-0a47-4fb4-9f07-9e7a3a530709"
      },
      "source": [
        "Ternyata, pada tipe data selain `object` juga terdapat fitur yang hanya memiliki satu nilai unik saja, maka akan ikut dibuang juga."
      ]
    },
    {
      "cell_type": "code",
      "execution_count": null,
      "id": "0554d26d-dec2-40fd-8eae-b58ecc295a20",
      "metadata": {
        "id": "0554d26d-dec2-40fd-8eae-b58ecc295a20"
      },
      "outputs": [],
      "source": [
        "data.drop(['policy_code'], axis=1, inplace=True)"
      ]
    },
    {
      "cell_type": "code",
      "execution_count": null,
      "id": "dcb23327-e01d-49e2-99ed-8ddf1a59b554",
      "metadata": {
        "tags": [],
        "colab": {
          "base_uri": "https://localhost:8080/"
        },
        "id": "dcb23327-e01d-49e2-99ed-8ddf1a59b554",
        "outputId": "7723026b-c998-45b4-ce2b-c343b45360e2"
      },
      "outputs": [
        {
          "output_type": "stream",
          "name": "stdout",
          "text": [
            "B    29.365946\n",
            "C    26.870476\n",
            "D    16.489486\n",
            "A    16.056060\n",
            "E     7.668486\n",
            "F     2.837106\n",
            "G     0.712440\n",
            "Name: grade, dtype: float64\n",
            "\n",
            "\n",
            "MORTGAGE    50.586015\n",
            "RENT        40.420129\n",
            "OWN          8.943886\n",
            "OTHER        0.039032\n",
            "NONE         0.010723\n",
            "ANY          0.000214\n",
            "Name: home_ownership, dtype: float64\n",
            "\n",
            "\n",
            "Verified           36.041262\n",
            "Source Verified    32.167666\n",
            "Not Verified       31.791072\n",
            "Name: verification_status, dtype: float64\n",
            "\n",
            "\n",
            "n    99.99807\n",
            "y     0.00193\n",
            "Name: pymnt_plan, dtype: float64\n",
            "\n",
            "\n",
            "debt_consolidation    58.804165\n",
            "credit_card           22.337626\n",
            "home_improvement       5.691155\n",
            "other                  5.080584\n",
            "major_purchase         2.107724\n",
            "small_business         1.504016\n",
            "car                    1.157447\n",
            "medical                0.986950\n",
            "moving                 0.642097\n",
            "vacation               0.533365\n",
            "wedding                0.502482\n",
            "house                  0.486612\n",
            "educational            0.090503\n",
            "renewable_energy       0.075276\n",
            "Name: purpose, dtype: float64\n",
            "\n",
            "\n",
            "CA    15.323247\n",
            "NY     8.630344\n",
            "TX     7.814748\n",
            "FL     6.784906\n",
            "IL     3.991550\n",
            "NJ     3.873382\n",
            "PA     3.522309\n",
            "OH     3.267744\n",
            "GA     3.211555\n",
            "VA     3.050066\n",
            "NC     2.719796\n",
            "MI     2.476811\n",
            "MA     2.374513\n",
            "MD     2.353496\n",
            "AZ     2.297307\n",
            "WA     2.255488\n",
            "CO     2.088637\n",
            "MN     1.749574\n",
            "MO     1.610174\n",
            "CT     1.544978\n",
            "IN     1.399359\n",
            "NV     1.398072\n",
            "TN     1.283335\n",
            "OR     1.275829\n",
            "WI     1.267680\n",
            "AL     1.255241\n",
            "SC     1.197336\n",
            "LA     1.177177\n",
            "KY     0.951778\n",
            "KS     0.898592\n",
            "OK     0.882936\n",
            "AR     0.748040\n",
            "UT     0.735173\n",
            "NM     0.555025\n",
            "HI     0.533365\n",
            "WV     0.517280\n",
            "NH     0.478677\n",
            "RI     0.439645\n",
            "DC     0.305822\n",
            "MT     0.299388\n",
            "DE     0.272795\n",
            "AK     0.268291\n",
            "MS     0.262929\n",
            "WY     0.241912\n",
            "SD     0.210172\n",
            "VT     0.194087\n",
            "IA     0.003002\n",
            "NE     0.003002\n",
            "ID     0.002574\n",
            "ME     0.000858\n",
            "Name: addr_state, dtype: float64\n",
            "\n",
            "\n",
            "f    64.982789\n",
            "w    35.017211\n",
            "Name: initial_list_status, dtype: float64\n",
            "\n",
            "\n"
          ]
        }
      ],
      "source": [
        "for col in data.select_dtypes(include='object').columns.tolist():\n",
        "    print(data[col].value_counts(normalize=True)*100)\n",
        "    print('\\n')"
      ]
    },
    {
      "cell_type": "markdown",
      "id": "69075c25-4d3e-486a-9120-b453a67e6894",
      "metadata": {
        "id": "69075c25-4d3e-486a-9120-b453a67e6894"
      },
      "source": [
        "Fitur yang sangat didominasi oleh salah satu nilai saja akan dibuang pada tahap ini."
      ]
    },
    {
      "cell_type": "code",
      "execution_count": null,
      "id": "d01b0ed0-2223-4cd6-a7d4-b4ad40373c31",
      "metadata": {
        "id": "d01b0ed0-2223-4cd6-a7d4-b4ad40373c31"
      },
      "outputs": [],
      "source": [
        "data.drop('pymnt_plan', axis=1, inplace=True)"
      ]
    },
    {
      "cell_type": "markdown",
      "metadata": {
        "id": "1101903e-08e6-4d64-8b5e-89977b5b9131"
      },
      "source": [
        "### Missing Value Checking"
      ],
      "id": "1101903e-08e6-4d64-8b5e-89977b5b9131"
    },
    {
      "cell_type": "code",
      "execution_count": null,
      "metadata": {
        "tags": [],
        "colab": {
          "base_uri": "https://localhost:8080/"
        },
        "id": "5cdcfdbc-4b86-4660-8cab-a6af9c28c972",
        "outputId": "9b5cdb22-c62f-45ef-f35d-7249a90697af"
      },
      "outputs": [
        {
          "output_type": "execute_result",
          "data": {
            "text/plain": [
              "mths_since_last_record         86.566585\n",
              "mths_since_last_delinq         53.690554\n",
              "tot_coll_amt                   15.071469\n",
              "tot_cur_bal                    15.071469\n",
              "emp_length_int                  4.505399\n",
              "revol_util                      0.072917\n",
              "collections_12_mths_ex_med      0.031097\n",
              "delinq_2yrs                     0.006219\n",
              "inq_last_6mths                  0.006219\n",
              "open_acc                        0.006219\n",
              "pub_rec                         0.006219\n",
              "total_acc                       0.006219\n",
              "acc_now_delinq                  0.006219\n",
              "mths_since_earliest_cr_line     0.006219\n",
              "annual_inc                      0.000858\n",
              "dtype: float64"
            ]
          },
          "metadata": {},
          "execution_count": 81
        }
      ],
      "source": [
        "check_missing = data.isnull().sum() * 100 / data.shape[0]\n",
        "check_missing[check_missing > 0].sort_values(ascending=False)"
      ],
      "id": "5cdcfdbc-4b86-4660-8cab-a6af9c28c972"
    },
    {
      "cell_type": "markdown",
      "metadata": {
        "id": "0ad9003e-ebbe-4fba-8d14-ab076156679f"
      },
      "source": [
        "Di sini, kolom-kolom dengan missing values di atas 75% dibuang"
      ],
      "id": "0ad9003e-ebbe-4fba-8d14-ab076156679f"
    },
    {
      "cell_type": "code",
      "execution_count": null,
      "metadata": {
        "id": "c90de401-3c8f-4e30-8d44-1c9454f28fbd"
      },
      "outputs": [],
      "source": [
        "data.drop('mths_since_last_record', axis=1, inplace=True)"
      ],
      "id": "c90de401-3c8f-4e30-8d44-1c9454f28fbd"
    },
    {
      "cell_type": "markdown",
      "metadata": {
        "tags": [],
        "id": "8483ce96-e8bc-4dd4-b247-d58b1d269442"
      },
      "source": [
        "# MISSING VALUES"
      ],
      "id": "8483ce96-e8bc-4dd4-b247-d58b1d269442"
    },
    {
      "cell_type": "markdown",
      "metadata": {
        "id": "517f9f50-a6a9-4256-bed5-9c7257cb7d7c"
      },
      "source": [
        "### Missing Values Filling"
      ],
      "id": "517f9f50-a6a9-4256-bed5-9c7257cb7d7c"
    },
    {
      "cell_type": "code",
      "execution_count": null,
      "metadata": {
        "id": "54d0a97a-751e-47a6-82dc-30d69f84c542"
      },
      "outputs": [],
      "source": [
        "data['annual_inc'].fillna(data['annual_inc'].mean(), inplace=True)\n",
        "data['mths_since_earliest_cr_line'].fillna(0, inplace=True)\n",
        "data['acc_now_delinq'].fillna(0, inplace=True)\n",
        "data['total_acc'].fillna(0, inplace=True)\n",
        "data['pub_rec'].fillna(0, inplace=True)\n",
        "data['open_acc'].fillna(0, inplace=True)\n",
        "data['inq_last_6mths'].fillna(0, inplace=True)\n",
        "data['delinq_2yrs'].fillna(0, inplace=True)\n",
        "data['collections_12_mths_ex_med'].fillna(0, inplace=True)\n",
        "data['revol_util'].fillna(0, inplace=True)\n",
        "data['emp_length_int'].fillna(0, inplace=True)\n",
        "data['tot_cur_bal'].fillna(0, inplace=True)\n",
        "data['tot_coll_amt'].fillna(0, inplace=True)\n",
        "data['mths_since_last_delinq'].fillna(-1, inplace=True)"
      ],
      "id": "54d0a97a-751e-47a6-82dc-30d69f84c542"
    },
    {
      "cell_type": "markdown",
      "id": "c28ecfd6-bfd0-4d45-b34e-42317e867501",
      "metadata": {
        "id": "c28ecfd6-bfd0-4d45-b34e-42317e867501"
      },
      "source": [
        "# FEATURE SCALING AND TRANSFORMATION"
      ]
    },
    {
      "cell_type": "markdown",
      "id": "ab3c322d-1522-4a5c-9dcf-c1a886b39682",
      "metadata": {
        "id": "ab3c322d-1522-4a5c-9dcf-c1a886b39682"
      },
      "source": [
        "### One Hot Encoding"
      ]
    },
    {
      "cell_type": "markdown",
      "id": "991d3330-8cca-499e-9954-1c808d3b2f34",
      "metadata": {
        "id": "991d3330-8cca-499e-9954-1c808d3b2f34"
      },
      "source": [
        "Semua kolom kategorikal dilakukan One Hot Encoding."
      ]
    },
    {
      "cell_type": "code",
      "execution_count": null,
      "id": "bb2303a2-31ef-43ab-b56e-768549a03cc3",
      "metadata": {
        "id": "bb2303a2-31ef-43ab-b56e-768549a03cc3"
      },
      "outputs": [],
      "source": [
        "categorical_cols = [col for col in data.select_dtypes(include='object').columns.tolist()]"
      ]
    },
    {
      "cell_type": "code",
      "execution_count": null,
      "id": "cfa85b8b-37e4-4340-bac5-195823e6e826",
      "metadata": {
        "id": "cfa85b8b-37e4-4340-bac5-195823e6e826"
      },
      "outputs": [],
      "source": [
        "onehot = pd.get_dummies(data[categorical_cols], drop_first=True)"
      ]
    },
    {
      "cell_type": "code",
      "execution_count": null,
      "id": "1b03ef73-68fa-4cf1-a818-30c351da5371",
      "metadata": {
        "colab": {
          "base_uri": "https://localhost:8080/"
        },
        "id": "1b03ef73-68fa-4cf1-a818-30c351da5371",
        "outputId": "c473cd80-0830-46f0-ab75-1f3583224d49"
      },
      "outputs": [
        {
          "output_type": "execute_result",
          "data": {
            "text/plain": [
              "   grade_B  grade_C  grade_D  grade_E  grade_F  grade_G  \\\n",
              "0        1        0        0        0        0        0   \n",
              "1        0        1        0        0        0        0   \n",
              "2        0        1        0        0        0        0   \n",
              "3        0        1        0        0        0        0   \n",
              "4        1        0        0        0        0        0   \n",
              "\n",
              "   home_ownership_MORTGAGE  home_ownership_NONE  home_ownership_OTHER  \\\n",
              "0                        0                    0                     0   \n",
              "1                        0                    0                     0   \n",
              "2                        0                    0                     0   \n",
              "3                        0                    0                     0   \n",
              "4                        0                    0                     0   \n",
              "\n",
              "   home_ownership_OWN  home_ownership_RENT  \\\n",
              "0                   0                    1   \n",
              "1                   0                    1   \n",
              "2                   0                    1   \n",
              "3                   0                    1   \n",
              "4                   0                    1   \n",
              "\n",
              "   verification_status_Source Verified  verification_status_Verified  \\\n",
              "0                                    0                             1   \n",
              "1                                    1                             0   \n",
              "2                                    0                             0   \n",
              "3                                    1                             0   \n",
              "4                                    1                             0   \n",
              "\n",
              "   purpose_credit_card  purpose_debt_consolidation  purpose_educational  \\\n",
              "0                    1                           0                    0   \n",
              "1                    0                           0                    0   \n",
              "2                    0                           0                    0   \n",
              "3                    0                           0                    0   \n",
              "4                    0                           0                    0   \n",
              "\n",
              "   purpose_home_improvement  purpose_house  purpose_major_purchase  \\\n",
              "0                         0              0                       0   \n",
              "1                         0              0                       0   \n",
              "2                         0              0                       0   \n",
              "3                         0              0                       0   \n",
              "4                         0              0                       0   \n",
              "\n",
              "   purpose_medical  purpose_moving  purpose_other  purpose_renewable_energy  \\\n",
              "0                0               0              0                         0   \n",
              "1                0               0              0                         0   \n",
              "2                0               0              0                         0   \n",
              "3                0               0              1                         0   \n",
              "4                0               0              1                         0   \n",
              "\n",
              "   purpose_small_business  purpose_vacation  purpose_wedding  addr_state_AL  \\\n",
              "0                       0                 0                0              0   \n",
              "1                       0                 0                0              0   \n",
              "2                       1                 0                0              0   \n",
              "3                       0                 0                0              0   \n",
              "4                       0                 0                0              0   \n",
              "\n",
              "   addr_state_AR  addr_state_AZ  addr_state_CA  addr_state_CO  addr_state_CT  \\\n",
              "0              0              1              0              0              0   \n",
              "1              0              0              0              0              0   \n",
              "2              0              0              0              0              0   \n",
              "3              0              0              1              0              0   \n",
              "4              0              0              0              0              0   \n",
              "\n",
              "   addr_state_DC  addr_state_DE  addr_state_FL  addr_state_GA  addr_state_HI  \\\n",
              "0              0              0              0              0              0   \n",
              "1              0              0              0              1              0   \n",
              "2              0              0              0              0              0   \n",
              "3              0              0              0              0              0   \n",
              "4              0              0              0              0              0   \n",
              "\n",
              "   addr_state_IA  addr_state_ID  addr_state_IL  addr_state_IN  addr_state_KS  \\\n",
              "0              0              0              0              0              0   \n",
              "1              0              0              0              0              0   \n",
              "2              0              0              1              0              0   \n",
              "3              0              0              0              0              0   \n",
              "4              0              0              0              0              0   \n",
              "\n",
              "   addr_state_KY  addr_state_LA  addr_state_MA  addr_state_MD  addr_state_ME  \\\n",
              "0              0              0              0              0              0   \n",
              "1              0              0              0              0              0   \n",
              "2              0              0              0              0              0   \n",
              "3              0              0              0              0              0   \n",
              "4              0              0              0              0              0   \n",
              "\n",
              "   addr_state_MI  addr_state_MN  addr_state_MO  addr_state_MS  addr_state_MT  \\\n",
              "0              0              0              0              0              0   \n",
              "1              0              0              0              0              0   \n",
              "2              0              0              0              0              0   \n",
              "3              0              0              0              0              0   \n",
              "4              0              0              0              0              0   \n",
              "\n",
              "   addr_state_NC  addr_state_NE  addr_state_NH  addr_state_NJ  addr_state_NM  \\\n",
              "0              0              0              0              0              0   \n",
              "1              0              0              0              0              0   \n",
              "2              0              0              0              0              0   \n",
              "3              0              0              0              0              0   \n",
              "4              0              0              0              0              0   \n",
              "\n",
              "   addr_state_NV  addr_state_NY  addr_state_OH  addr_state_OK  addr_state_OR  \\\n",
              "0              0              0              0              0              0   \n",
              "1              0              0              0              0              0   \n",
              "2              0              0              0              0              0   \n",
              "3              0              0              0              0              0   \n",
              "4              0              0              0              0              1   \n",
              "\n",
              "   addr_state_PA  addr_state_RI  addr_state_SC  addr_state_SD  addr_state_TN  \\\n",
              "0              0              0              0              0              0   \n",
              "1              0              0              0              0              0   \n",
              "2              0              0              0              0              0   \n",
              "3              0              0              0              0              0   \n",
              "4              0              0              0              0              0   \n",
              "\n",
              "   addr_state_TX  addr_state_UT  addr_state_VA  addr_state_VT  addr_state_WA  \\\n",
              "0              0              0              0              0              0   \n",
              "1              0              0              0              0              0   \n",
              "2              0              0              0              0              0   \n",
              "3              0              0              0              0              0   \n",
              "4              0              0              0              0              0   \n",
              "\n",
              "   addr_state_WI  addr_state_WV  addr_state_WY  initial_list_status_w  \n",
              "0              0              0              0                      0  \n",
              "1              0              0              0                      0  \n",
              "2              0              0              0                      0  \n",
              "3              0              0              0                      0  \n",
              "4              0              0              0                      0  "
            ],
            "text/html": [
              "\n",
              "  <div id=\"df-1124eb89-c5f2-4c7d-8de8-abdcf75ce9bd\">\n",
              "    <div class=\"colab-df-container\">\n",
              "      <div>\n",
              "<style scoped>\n",
              "    .dataframe tbody tr th:only-of-type {\n",
              "        vertical-align: middle;\n",
              "    }\n",
              "\n",
              "    .dataframe tbody tr th {\n",
              "        vertical-align: top;\n",
              "    }\n",
              "\n",
              "    .dataframe thead th {\n",
              "        text-align: right;\n",
              "    }\n",
              "</style>\n",
              "<table border=\"1\" class=\"dataframe\">\n",
              "  <thead>\n",
              "    <tr style=\"text-align: right;\">\n",
              "      <th></th>\n",
              "      <th>grade_B</th>\n",
              "      <th>grade_C</th>\n",
              "      <th>grade_D</th>\n",
              "      <th>grade_E</th>\n",
              "      <th>grade_F</th>\n",
              "      <th>grade_G</th>\n",
              "      <th>home_ownership_MORTGAGE</th>\n",
              "      <th>home_ownership_NONE</th>\n",
              "      <th>home_ownership_OTHER</th>\n",
              "      <th>home_ownership_OWN</th>\n",
              "      <th>home_ownership_RENT</th>\n",
              "      <th>verification_status_Source Verified</th>\n",
              "      <th>verification_status_Verified</th>\n",
              "      <th>purpose_credit_card</th>\n",
              "      <th>purpose_debt_consolidation</th>\n",
              "      <th>purpose_educational</th>\n",
              "      <th>purpose_home_improvement</th>\n",
              "      <th>purpose_house</th>\n",
              "      <th>purpose_major_purchase</th>\n",
              "      <th>purpose_medical</th>\n",
              "      <th>purpose_moving</th>\n",
              "      <th>purpose_other</th>\n",
              "      <th>purpose_renewable_energy</th>\n",
              "      <th>purpose_small_business</th>\n",
              "      <th>purpose_vacation</th>\n",
              "      <th>purpose_wedding</th>\n",
              "      <th>addr_state_AL</th>\n",
              "      <th>addr_state_AR</th>\n",
              "      <th>addr_state_AZ</th>\n",
              "      <th>addr_state_CA</th>\n",
              "      <th>addr_state_CO</th>\n",
              "      <th>addr_state_CT</th>\n",
              "      <th>addr_state_DC</th>\n",
              "      <th>addr_state_DE</th>\n",
              "      <th>addr_state_FL</th>\n",
              "      <th>addr_state_GA</th>\n",
              "      <th>addr_state_HI</th>\n",
              "      <th>addr_state_IA</th>\n",
              "      <th>addr_state_ID</th>\n",
              "      <th>addr_state_IL</th>\n",
              "      <th>addr_state_IN</th>\n",
              "      <th>addr_state_KS</th>\n",
              "      <th>addr_state_KY</th>\n",
              "      <th>addr_state_LA</th>\n",
              "      <th>addr_state_MA</th>\n",
              "      <th>addr_state_MD</th>\n",
              "      <th>addr_state_ME</th>\n",
              "      <th>addr_state_MI</th>\n",
              "      <th>addr_state_MN</th>\n",
              "      <th>addr_state_MO</th>\n",
              "      <th>addr_state_MS</th>\n",
              "      <th>addr_state_MT</th>\n",
              "      <th>addr_state_NC</th>\n",
              "      <th>addr_state_NE</th>\n",
              "      <th>addr_state_NH</th>\n",
              "      <th>addr_state_NJ</th>\n",
              "      <th>addr_state_NM</th>\n",
              "      <th>addr_state_NV</th>\n",
              "      <th>addr_state_NY</th>\n",
              "      <th>addr_state_OH</th>\n",
              "      <th>addr_state_OK</th>\n",
              "      <th>addr_state_OR</th>\n",
              "      <th>addr_state_PA</th>\n",
              "      <th>addr_state_RI</th>\n",
              "      <th>addr_state_SC</th>\n",
              "      <th>addr_state_SD</th>\n",
              "      <th>addr_state_TN</th>\n",
              "      <th>addr_state_TX</th>\n",
              "      <th>addr_state_UT</th>\n",
              "      <th>addr_state_VA</th>\n",
              "      <th>addr_state_VT</th>\n",
              "      <th>addr_state_WA</th>\n",
              "      <th>addr_state_WI</th>\n",
              "      <th>addr_state_WV</th>\n",
              "      <th>addr_state_WY</th>\n",
              "      <th>initial_list_status_w</th>\n",
              "    </tr>\n",
              "  </thead>\n",
              "  <tbody>\n",
              "    <tr>\n",
              "      <th>0</th>\n",
              "      <td>1</td>\n",
              "      <td>0</td>\n",
              "      <td>0</td>\n",
              "      <td>0</td>\n",
              "      <td>0</td>\n",
              "      <td>0</td>\n",
              "      <td>0</td>\n",
              "      <td>0</td>\n",
              "      <td>0</td>\n",
              "      <td>0</td>\n",
              "      <td>1</td>\n",
              "      <td>0</td>\n",
              "      <td>1</td>\n",
              "      <td>1</td>\n",
              "      <td>0</td>\n",
              "      <td>0</td>\n",
              "      <td>0</td>\n",
              "      <td>0</td>\n",
              "      <td>0</td>\n",
              "      <td>0</td>\n",
              "      <td>0</td>\n",
              "      <td>0</td>\n",
              "      <td>0</td>\n",
              "      <td>0</td>\n",
              "      <td>0</td>\n",
              "      <td>0</td>\n",
              "      <td>0</td>\n",
              "      <td>0</td>\n",
              "      <td>1</td>\n",
              "      <td>0</td>\n",
              "      <td>0</td>\n",
              "      <td>0</td>\n",
              "      <td>0</td>\n",
              "      <td>0</td>\n",
              "      <td>0</td>\n",
              "      <td>0</td>\n",
              "      <td>0</td>\n",
              "      <td>0</td>\n",
              "      <td>0</td>\n",
              "      <td>0</td>\n",
              "      <td>0</td>\n",
              "      <td>0</td>\n",
              "      <td>0</td>\n",
              "      <td>0</td>\n",
              "      <td>0</td>\n",
              "      <td>0</td>\n",
              "      <td>0</td>\n",
              "      <td>0</td>\n",
              "      <td>0</td>\n",
              "      <td>0</td>\n",
              "      <td>0</td>\n",
              "      <td>0</td>\n",
              "      <td>0</td>\n",
              "      <td>0</td>\n",
              "      <td>0</td>\n",
              "      <td>0</td>\n",
              "      <td>0</td>\n",
              "      <td>0</td>\n",
              "      <td>0</td>\n",
              "      <td>0</td>\n",
              "      <td>0</td>\n",
              "      <td>0</td>\n",
              "      <td>0</td>\n",
              "      <td>0</td>\n",
              "      <td>0</td>\n",
              "      <td>0</td>\n",
              "      <td>0</td>\n",
              "      <td>0</td>\n",
              "      <td>0</td>\n",
              "      <td>0</td>\n",
              "      <td>0</td>\n",
              "      <td>0</td>\n",
              "      <td>0</td>\n",
              "      <td>0</td>\n",
              "      <td>0</td>\n",
              "      <td>0</td>\n",
              "    </tr>\n",
              "    <tr>\n",
              "      <th>1</th>\n",
              "      <td>0</td>\n",
              "      <td>1</td>\n",
              "      <td>0</td>\n",
              "      <td>0</td>\n",
              "      <td>0</td>\n",
              "      <td>0</td>\n",
              "      <td>0</td>\n",
              "      <td>0</td>\n",
              "      <td>0</td>\n",
              "      <td>0</td>\n",
              "      <td>1</td>\n",
              "      <td>1</td>\n",
              "      <td>0</td>\n",
              "      <td>0</td>\n",
              "      <td>0</td>\n",
              "      <td>0</td>\n",
              "      <td>0</td>\n",
              "      <td>0</td>\n",
              "      <td>0</td>\n",
              "      <td>0</td>\n",
              "      <td>0</td>\n",
              "      <td>0</td>\n",
              "      <td>0</td>\n",
              "      <td>0</td>\n",
              "      <td>0</td>\n",
              "      <td>0</td>\n",
              "      <td>0</td>\n",
              "      <td>0</td>\n",
              "      <td>0</td>\n",
              "      <td>0</td>\n",
              "      <td>0</td>\n",
              "      <td>0</td>\n",
              "      <td>0</td>\n",
              "      <td>0</td>\n",
              "      <td>0</td>\n",
              "      <td>1</td>\n",
              "      <td>0</td>\n",
              "      <td>0</td>\n",
              "      <td>0</td>\n",
              "      <td>0</td>\n",
              "      <td>0</td>\n",
              "      <td>0</td>\n",
              "      <td>0</td>\n",
              "      <td>0</td>\n",
              "      <td>0</td>\n",
              "      <td>0</td>\n",
              "      <td>0</td>\n",
              "      <td>0</td>\n",
              "      <td>0</td>\n",
              "      <td>0</td>\n",
              "      <td>0</td>\n",
              "      <td>0</td>\n",
              "      <td>0</td>\n",
              "      <td>0</td>\n",
              "      <td>0</td>\n",
              "      <td>0</td>\n",
              "      <td>0</td>\n",
              "      <td>0</td>\n",
              "      <td>0</td>\n",
              "      <td>0</td>\n",
              "      <td>0</td>\n",
              "      <td>0</td>\n",
              "      <td>0</td>\n",
              "      <td>0</td>\n",
              "      <td>0</td>\n",
              "      <td>0</td>\n",
              "      <td>0</td>\n",
              "      <td>0</td>\n",
              "      <td>0</td>\n",
              "      <td>0</td>\n",
              "      <td>0</td>\n",
              "      <td>0</td>\n",
              "      <td>0</td>\n",
              "      <td>0</td>\n",
              "      <td>0</td>\n",
              "      <td>0</td>\n",
              "    </tr>\n",
              "    <tr>\n",
              "      <th>2</th>\n",
              "      <td>0</td>\n",
              "      <td>1</td>\n",
              "      <td>0</td>\n",
              "      <td>0</td>\n",
              "      <td>0</td>\n",
              "      <td>0</td>\n",
              "      <td>0</td>\n",
              "      <td>0</td>\n",
              "      <td>0</td>\n",
              "      <td>0</td>\n",
              "      <td>1</td>\n",
              "      <td>0</td>\n",
              "      <td>0</td>\n",
              "      <td>0</td>\n",
              "      <td>0</td>\n",
              "      <td>0</td>\n",
              "      <td>0</td>\n",
              "      <td>0</td>\n",
              "      <td>0</td>\n",
              "      <td>0</td>\n",
              "      <td>0</td>\n",
              "      <td>0</td>\n",
              "      <td>0</td>\n",
              "      <td>1</td>\n",
              "      <td>0</td>\n",
              "      <td>0</td>\n",
              "      <td>0</td>\n",
              "      <td>0</td>\n",
              "      <td>0</td>\n",
              "      <td>0</td>\n",
              "      <td>0</td>\n",
              "      <td>0</td>\n",
              "      <td>0</td>\n",
              "      <td>0</td>\n",
              "      <td>0</td>\n",
              "      <td>0</td>\n",
              "      <td>0</td>\n",
              "      <td>0</td>\n",
              "      <td>0</td>\n",
              "      <td>1</td>\n",
              "      <td>0</td>\n",
              "      <td>0</td>\n",
              "      <td>0</td>\n",
              "      <td>0</td>\n",
              "      <td>0</td>\n",
              "      <td>0</td>\n",
              "      <td>0</td>\n",
              "      <td>0</td>\n",
              "      <td>0</td>\n",
              "      <td>0</td>\n",
              "      <td>0</td>\n",
              "      <td>0</td>\n",
              "      <td>0</td>\n",
              "      <td>0</td>\n",
              "      <td>0</td>\n",
              "      <td>0</td>\n",
              "      <td>0</td>\n",
              "      <td>0</td>\n",
              "      <td>0</td>\n",
              "      <td>0</td>\n",
              "      <td>0</td>\n",
              "      <td>0</td>\n",
              "      <td>0</td>\n",
              "      <td>0</td>\n",
              "      <td>0</td>\n",
              "      <td>0</td>\n",
              "      <td>0</td>\n",
              "      <td>0</td>\n",
              "      <td>0</td>\n",
              "      <td>0</td>\n",
              "      <td>0</td>\n",
              "      <td>0</td>\n",
              "      <td>0</td>\n",
              "      <td>0</td>\n",
              "      <td>0</td>\n",
              "      <td>0</td>\n",
              "    </tr>\n",
              "    <tr>\n",
              "      <th>3</th>\n",
              "      <td>0</td>\n",
              "      <td>1</td>\n",
              "      <td>0</td>\n",
              "      <td>0</td>\n",
              "      <td>0</td>\n",
              "      <td>0</td>\n",
              "      <td>0</td>\n",
              "      <td>0</td>\n",
              "      <td>0</td>\n",
              "      <td>0</td>\n",
              "      <td>1</td>\n",
              "      <td>1</td>\n",
              "      <td>0</td>\n",
              "      <td>0</td>\n",
              "      <td>0</td>\n",
              "      <td>0</td>\n",
              "      <td>0</td>\n",
              "      <td>0</td>\n",
              "      <td>0</td>\n",
              "      <td>0</td>\n",
              "      <td>0</td>\n",
              "      <td>1</td>\n",
              "      <td>0</td>\n",
              "      <td>0</td>\n",
              "      <td>0</td>\n",
              "      <td>0</td>\n",
              "      <td>0</td>\n",
              "      <td>0</td>\n",
              "      <td>0</td>\n",
              "      <td>1</td>\n",
              "      <td>0</td>\n",
              "      <td>0</td>\n",
              "      <td>0</td>\n",
              "      <td>0</td>\n",
              "      <td>0</td>\n",
              "      <td>0</td>\n",
              "      <td>0</td>\n",
              "      <td>0</td>\n",
              "      <td>0</td>\n",
              "      <td>0</td>\n",
              "      <td>0</td>\n",
              "      <td>0</td>\n",
              "      <td>0</td>\n",
              "      <td>0</td>\n",
              "      <td>0</td>\n",
              "      <td>0</td>\n",
              "      <td>0</td>\n",
              "      <td>0</td>\n",
              "      <td>0</td>\n",
              "      <td>0</td>\n",
              "      <td>0</td>\n",
              "      <td>0</td>\n",
              "      <td>0</td>\n",
              "      <td>0</td>\n",
              "      <td>0</td>\n",
              "      <td>0</td>\n",
              "      <td>0</td>\n",
              "      <td>0</td>\n",
              "      <td>0</td>\n",
              "      <td>0</td>\n",
              "      <td>0</td>\n",
              "      <td>0</td>\n",
              "      <td>0</td>\n",
              "      <td>0</td>\n",
              "      <td>0</td>\n",
              "      <td>0</td>\n",
              "      <td>0</td>\n",
              "      <td>0</td>\n",
              "      <td>0</td>\n",
              "      <td>0</td>\n",
              "      <td>0</td>\n",
              "      <td>0</td>\n",
              "      <td>0</td>\n",
              "      <td>0</td>\n",
              "      <td>0</td>\n",
              "      <td>0</td>\n",
              "    </tr>\n",
              "    <tr>\n",
              "      <th>4</th>\n",
              "      <td>1</td>\n",
              "      <td>0</td>\n",
              "      <td>0</td>\n",
              "      <td>0</td>\n",
              "      <td>0</td>\n",
              "      <td>0</td>\n",
              "      <td>0</td>\n",
              "      <td>0</td>\n",
              "      <td>0</td>\n",
              "      <td>0</td>\n",
              "      <td>1</td>\n",
              "      <td>1</td>\n",
              "      <td>0</td>\n",
              "      <td>0</td>\n",
              "      <td>0</td>\n",
              "      <td>0</td>\n",
              "      <td>0</td>\n",
              "      <td>0</td>\n",
              "      <td>0</td>\n",
              "      <td>0</td>\n",
              "      <td>0</td>\n",
              "      <td>1</td>\n",
              "      <td>0</td>\n",
              "      <td>0</td>\n",
              "      <td>0</td>\n",
              "      <td>0</td>\n",
              "      <td>0</td>\n",
              "      <td>0</td>\n",
              "      <td>0</td>\n",
              "      <td>0</td>\n",
              "      <td>0</td>\n",
              "      <td>0</td>\n",
              "      <td>0</td>\n",
              "      <td>0</td>\n",
              "      <td>0</td>\n",
              "      <td>0</td>\n",
              "      <td>0</td>\n",
              "      <td>0</td>\n",
              "      <td>0</td>\n",
              "      <td>0</td>\n",
              "      <td>0</td>\n",
              "      <td>0</td>\n",
              "      <td>0</td>\n",
              "      <td>0</td>\n",
              "      <td>0</td>\n",
              "      <td>0</td>\n",
              "      <td>0</td>\n",
              "      <td>0</td>\n",
              "      <td>0</td>\n",
              "      <td>0</td>\n",
              "      <td>0</td>\n",
              "      <td>0</td>\n",
              "      <td>0</td>\n",
              "      <td>0</td>\n",
              "      <td>0</td>\n",
              "      <td>0</td>\n",
              "      <td>0</td>\n",
              "      <td>0</td>\n",
              "      <td>0</td>\n",
              "      <td>0</td>\n",
              "      <td>0</td>\n",
              "      <td>1</td>\n",
              "      <td>0</td>\n",
              "      <td>0</td>\n",
              "      <td>0</td>\n",
              "      <td>0</td>\n",
              "      <td>0</td>\n",
              "      <td>0</td>\n",
              "      <td>0</td>\n",
              "      <td>0</td>\n",
              "      <td>0</td>\n",
              "      <td>0</td>\n",
              "      <td>0</td>\n",
              "      <td>0</td>\n",
              "      <td>0</td>\n",
              "      <td>0</td>\n",
              "    </tr>\n",
              "  </tbody>\n",
              "</table>\n",
              "</div>\n",
              "      <button class=\"colab-df-convert\" onclick=\"convertToInteractive('df-1124eb89-c5f2-4c7d-8de8-abdcf75ce9bd')\"\n",
              "              title=\"Convert this dataframe to an interactive table.\"\n",
              "              style=\"display:none;\">\n",
              "        \n",
              "  <svg xmlns=\"http://www.w3.org/2000/svg\" height=\"24px\"viewBox=\"0 0 24 24\"\n",
              "       width=\"24px\">\n",
              "    <path d=\"M0 0h24v24H0V0z\" fill=\"none\"/>\n",
              "    <path d=\"M18.56 5.44l.94 2.06.94-2.06 2.06-.94-2.06-.94-.94-2.06-.94 2.06-2.06.94zm-11 1L8.5 8.5l.94-2.06 2.06-.94-2.06-.94L8.5 2.5l-.94 2.06-2.06.94zm10 10l.94 2.06.94-2.06 2.06-.94-2.06-.94-.94-2.06-.94 2.06-2.06.94z\"/><path d=\"M17.41 7.96l-1.37-1.37c-.4-.4-.92-.59-1.43-.59-.52 0-1.04.2-1.43.59L10.3 9.45l-7.72 7.72c-.78.78-.78 2.05 0 2.83L4 21.41c.39.39.9.59 1.41.59.51 0 1.02-.2 1.41-.59l7.78-7.78 2.81-2.81c.8-.78.8-2.07 0-2.86zM5.41 20L4 18.59l7.72-7.72 1.47 1.35L5.41 20z\"/>\n",
              "  </svg>\n",
              "      </button>\n",
              "      \n",
              "  <style>\n",
              "    .colab-df-container {\n",
              "      display:flex;\n",
              "      flex-wrap:wrap;\n",
              "      gap: 12px;\n",
              "    }\n",
              "\n",
              "    .colab-df-convert {\n",
              "      background-color: #E8F0FE;\n",
              "      border: none;\n",
              "      border-radius: 50%;\n",
              "      cursor: pointer;\n",
              "      display: none;\n",
              "      fill: #1967D2;\n",
              "      height: 32px;\n",
              "      padding: 0 0 0 0;\n",
              "      width: 32px;\n",
              "    }\n",
              "\n",
              "    .colab-df-convert:hover {\n",
              "      background-color: #E2EBFA;\n",
              "      box-shadow: 0px 1px 2px rgba(60, 64, 67, 0.3), 0px 1px 3px 1px rgba(60, 64, 67, 0.15);\n",
              "      fill: #174EA6;\n",
              "    }\n",
              "\n",
              "    [theme=dark] .colab-df-convert {\n",
              "      background-color: #3B4455;\n",
              "      fill: #D2E3FC;\n",
              "    }\n",
              "\n",
              "    [theme=dark] .colab-df-convert:hover {\n",
              "      background-color: #434B5C;\n",
              "      box-shadow: 0px 1px 3px 1px rgba(0, 0, 0, 0.15);\n",
              "      filter: drop-shadow(0px 1px 2px rgba(0, 0, 0, 0.3));\n",
              "      fill: #FFFFFF;\n",
              "    }\n",
              "  </style>\n",
              "\n",
              "      <script>\n",
              "        const buttonEl =\n",
              "          document.querySelector('#df-1124eb89-c5f2-4c7d-8de8-abdcf75ce9bd button.colab-df-convert');\n",
              "        buttonEl.style.display =\n",
              "          google.colab.kernel.accessAllowed ? 'block' : 'none';\n",
              "\n",
              "        async function convertToInteractive(key) {\n",
              "          const element = document.querySelector('#df-1124eb89-c5f2-4c7d-8de8-abdcf75ce9bd');\n",
              "          const dataTable =\n",
              "            await google.colab.kernel.invokeFunction('convertToInteractive',\n",
              "                                                     [key], {});\n",
              "          if (!dataTable) return;\n",
              "\n",
              "          const docLinkHtml = 'Like what you see? Visit the ' +\n",
              "            '<a target=\"_blank\" href=https://colab.research.google.com/notebooks/data_table.ipynb>data table notebook</a>'\n",
              "            + ' to learn more about interactive tables.';\n",
              "          element.innerHTML = '';\n",
              "          dataTable['output_type'] = 'display_data';\n",
              "          await google.colab.output.renderOutput(dataTable, element);\n",
              "          const docLink = document.createElement('div');\n",
              "          docLink.innerHTML = docLinkHtml;\n",
              "          element.appendChild(docLink);\n",
              "        }\n",
              "      </script>\n",
              "    </div>\n",
              "  </div>\n",
              "  "
            ]
          },
          "metadata": {},
          "execution_count": 86
        }
      ],
      "source": [
        "onehot.head()"
      ]
    },
    {
      "cell_type": "markdown",
      "id": "deb37d80-a83a-4256-837f-f3e4f66cc148",
      "metadata": {
        "id": "deb37d80-a83a-4256-837f-f3e4f66cc148"
      },
      "source": [
        "### Standardization"
      ]
    },
    {
      "cell_type": "markdown",
      "id": "6d32ab99-ff99-4984-91f2-2c8dba37ac47",
      "metadata": {
        "id": "6d32ab99-ff99-4984-91f2-2c8dba37ac47"
      },
      "source": [
        "Semua kolom numerikal dilakukan proses standarisasi dengan StandardScaler."
      ]
    },
    {
      "cell_type": "code",
      "execution_count": null,
      "id": "e46550bb-77e4-49dd-b995-4d3c8cd9bd00",
      "metadata": {
        "id": "e46550bb-77e4-49dd-b995-4d3c8cd9bd00"
      },
      "outputs": [],
      "source": [
        "numerical_cols = [col for col in data.columns.tolist() if col not in categorical_cols + ['bad_flag']]"
      ]
    },
    {
      "cell_type": "code",
      "execution_count": null,
      "id": "795b4222-6018-41c3-a655-f9fa130228c5",
      "metadata": {
        "id": "795b4222-6018-41c3-a655-f9fa130228c5"
      },
      "outputs": [],
      "source": [
        "from sklearn.preprocessing import StandardScaler\n",
        "\n",
        "ss = StandardScaler()\n",
        "std = pd.DataFrame(ss.fit_transform(data[numerical_cols]), columns=numerical_cols)"
      ]
    },
    {
      "cell_type": "code",
      "execution_count": null,
      "id": "3d5fd301-e010-42ed-bb7e-5c85165251a2",
      "metadata": {
        "colab": {
          "base_uri": "https://localhost:8080/"
        },
        "id": "3d5fd301-e010-42ed-bb7e-5c85165251a2",
        "outputId": "e36134c4-e4b5-4243-e5f7-a873b662b9c3"
      },
      "outputs": [
        {
          "output_type": "execute_result",
          "data": {
            "text/plain": [
              "   loan_amnt  int_rate  annual_inc       dti  delinq_2yrs  inq_last_6mths  \\\n",
              "0  -1.124392 -0.729587   -0.896551  1.328632    -0.357012        0.178920   \n",
              "1  -1.426088  0.330634   -0.787387 -2.065791    -0.357012        3.843328   \n",
              "2  -1.438156  0.488979   -1.110294 -1.082491    -0.357012        1.095022   \n",
              "3  -0.521001 -0.077850   -0.438063  0.354248    -0.357012        0.178920   \n",
              "4  -1.365749 -0.261438    0.122311  0.091865    -0.357012       -0.737182   \n",
              "\n",
              "   mths_since_last_delinq  open_acc  pub_rec  revol_bal  revol_util  \\\n",
              "0               -0.708792 -1.641166 -0.31429  -0.124888    1.159498   \n",
              "1               -0.708792 -1.641166 -0.31429  -0.703378   -1.965980   \n",
              "2               -0.708792 -1.841641 -0.31429  -0.642003    1.782070   \n",
              "3                0.860811 -0.237839 -0.31429  -0.514224   -1.478018   \n",
              "4                0.991612  0.764538 -0.31429   0.558748   -0.094058   \n",
              "\n",
              "   total_acc  out_prncp  total_rec_late_fee  recoveries  \\\n",
              "0  -1.384557  -0.693944           -0.123464   -0.154549   \n",
              "1  -1.815538  -0.693944           -0.123464    0.057470   \n",
              "2  -1.298361  -0.693944           -0.123464   -0.154549   \n",
              "3   1.028934  -0.693944            3.099264   -0.154549   \n",
              "4   1.115130  -0.573268           -0.123464   -0.154549   \n",
              "\n",
              "   collections_12_mths_ex_med  acc_now_delinq  tot_coll_amt  tot_cur_bal  \\\n",
              "0                   -0.083608       -0.058307     -0.012089    -0.792648   \n",
              "1                   -0.083608       -0.058307     -0.012089    -0.792648   \n",
              "2                   -0.083608       -0.058307     -0.012089    -0.792648   \n",
              "3                   -0.083608       -0.058307     -0.012089    -0.792648   \n",
              "4                   -0.083608       -0.058307     -0.012089    -0.792648   \n",
              "\n",
              "   emp_length_int  term_int  mths_since_earliest_cr_line  mths_since_issue_d  \n",
              "0        1.138605 -0.616225                     1.764941            1.446626  \n",
              "1       -1.523744  1.622784                    -0.212426            1.446626  \n",
              "2        1.138605 -0.616225                    -0.570896            1.446626  \n",
              "3        1.138605 -0.616225                     0.226989            1.446626  \n",
              "4       -1.257509  1.622784                     0.238553            1.446626  "
            ],
            "text/html": [
              "\n",
              "  <div id=\"df-51111a2d-b0bb-417c-93b5-cbd8fb502f80\">\n",
              "    <div class=\"colab-df-container\">\n",
              "      <div>\n",
              "<style scoped>\n",
              "    .dataframe tbody tr th:only-of-type {\n",
              "        vertical-align: middle;\n",
              "    }\n",
              "\n",
              "    .dataframe tbody tr th {\n",
              "        vertical-align: top;\n",
              "    }\n",
              "\n",
              "    .dataframe thead th {\n",
              "        text-align: right;\n",
              "    }\n",
              "</style>\n",
              "<table border=\"1\" class=\"dataframe\">\n",
              "  <thead>\n",
              "    <tr style=\"text-align: right;\">\n",
              "      <th></th>\n",
              "      <th>loan_amnt</th>\n",
              "      <th>int_rate</th>\n",
              "      <th>annual_inc</th>\n",
              "      <th>dti</th>\n",
              "      <th>delinq_2yrs</th>\n",
              "      <th>inq_last_6mths</th>\n",
              "      <th>mths_since_last_delinq</th>\n",
              "      <th>open_acc</th>\n",
              "      <th>pub_rec</th>\n",
              "      <th>revol_bal</th>\n",
              "      <th>revol_util</th>\n",
              "      <th>total_acc</th>\n",
              "      <th>out_prncp</th>\n",
              "      <th>total_rec_late_fee</th>\n",
              "      <th>recoveries</th>\n",
              "      <th>collections_12_mths_ex_med</th>\n",
              "      <th>acc_now_delinq</th>\n",
              "      <th>tot_coll_amt</th>\n",
              "      <th>tot_cur_bal</th>\n",
              "      <th>emp_length_int</th>\n",
              "      <th>term_int</th>\n",
              "      <th>mths_since_earliest_cr_line</th>\n",
              "      <th>mths_since_issue_d</th>\n",
              "    </tr>\n",
              "  </thead>\n",
              "  <tbody>\n",
              "    <tr>\n",
              "      <th>0</th>\n",
              "      <td>-1.124392</td>\n",
              "      <td>-0.729587</td>\n",
              "      <td>-0.896551</td>\n",
              "      <td>1.328632</td>\n",
              "      <td>-0.357012</td>\n",
              "      <td>0.178920</td>\n",
              "      <td>-0.708792</td>\n",
              "      <td>-1.641166</td>\n",
              "      <td>-0.31429</td>\n",
              "      <td>-0.124888</td>\n",
              "      <td>1.159498</td>\n",
              "      <td>-1.384557</td>\n",
              "      <td>-0.693944</td>\n",
              "      <td>-0.123464</td>\n",
              "      <td>-0.154549</td>\n",
              "      <td>-0.083608</td>\n",
              "      <td>-0.058307</td>\n",
              "      <td>-0.012089</td>\n",
              "      <td>-0.792648</td>\n",
              "      <td>1.138605</td>\n",
              "      <td>-0.616225</td>\n",
              "      <td>1.764941</td>\n",
              "      <td>1.446626</td>\n",
              "    </tr>\n",
              "    <tr>\n",
              "      <th>1</th>\n",
              "      <td>-1.426088</td>\n",
              "      <td>0.330634</td>\n",
              "      <td>-0.787387</td>\n",
              "      <td>-2.065791</td>\n",
              "      <td>-0.357012</td>\n",
              "      <td>3.843328</td>\n",
              "      <td>-0.708792</td>\n",
              "      <td>-1.641166</td>\n",
              "      <td>-0.31429</td>\n",
              "      <td>-0.703378</td>\n",
              "      <td>-1.965980</td>\n",
              "      <td>-1.815538</td>\n",
              "      <td>-0.693944</td>\n",
              "      <td>-0.123464</td>\n",
              "      <td>0.057470</td>\n",
              "      <td>-0.083608</td>\n",
              "      <td>-0.058307</td>\n",
              "      <td>-0.012089</td>\n",
              "      <td>-0.792648</td>\n",
              "      <td>-1.523744</td>\n",
              "      <td>1.622784</td>\n",
              "      <td>-0.212426</td>\n",
              "      <td>1.446626</td>\n",
              "    </tr>\n",
              "    <tr>\n",
              "      <th>2</th>\n",
              "      <td>-1.438156</td>\n",
              "      <td>0.488979</td>\n",
              "      <td>-1.110294</td>\n",
              "      <td>-1.082491</td>\n",
              "      <td>-0.357012</td>\n",
              "      <td>1.095022</td>\n",
              "      <td>-0.708792</td>\n",
              "      <td>-1.841641</td>\n",
              "      <td>-0.31429</td>\n",
              "      <td>-0.642003</td>\n",
              "      <td>1.782070</td>\n",
              "      <td>-1.298361</td>\n",
              "      <td>-0.693944</td>\n",
              "      <td>-0.123464</td>\n",
              "      <td>-0.154549</td>\n",
              "      <td>-0.083608</td>\n",
              "      <td>-0.058307</td>\n",
              "      <td>-0.012089</td>\n",
              "      <td>-0.792648</td>\n",
              "      <td>1.138605</td>\n",
              "      <td>-0.616225</td>\n",
              "      <td>-0.570896</td>\n",
              "      <td>1.446626</td>\n",
              "    </tr>\n",
              "    <tr>\n",
              "      <th>3</th>\n",
              "      <td>-0.521001</td>\n",
              "      <td>-0.077850</td>\n",
              "      <td>-0.438063</td>\n",
              "      <td>0.354248</td>\n",
              "      <td>-0.357012</td>\n",
              "      <td>0.178920</td>\n",
              "      <td>0.860811</td>\n",
              "      <td>-0.237839</td>\n",
              "      <td>-0.31429</td>\n",
              "      <td>-0.514224</td>\n",
              "      <td>-1.478018</td>\n",
              "      <td>1.028934</td>\n",
              "      <td>-0.693944</td>\n",
              "      <td>3.099264</td>\n",
              "      <td>-0.154549</td>\n",
              "      <td>-0.083608</td>\n",
              "      <td>-0.058307</td>\n",
              "      <td>-0.012089</td>\n",
              "      <td>-0.792648</td>\n",
              "      <td>1.138605</td>\n",
              "      <td>-0.616225</td>\n",
              "      <td>0.226989</td>\n",
              "      <td>1.446626</td>\n",
              "    </tr>\n",
              "    <tr>\n",
              "      <th>4</th>\n",
              "      <td>-1.365749</td>\n",
              "      <td>-0.261438</td>\n",
              "      <td>0.122311</td>\n",
              "      <td>0.091865</td>\n",
              "      <td>-0.357012</td>\n",
              "      <td>-0.737182</td>\n",
              "      <td>0.991612</td>\n",
              "      <td>0.764538</td>\n",
              "      <td>-0.31429</td>\n",
              "      <td>0.558748</td>\n",
              "      <td>-0.094058</td>\n",
              "      <td>1.115130</td>\n",
              "      <td>-0.573268</td>\n",
              "      <td>-0.123464</td>\n",
              "      <td>-0.154549</td>\n",
              "      <td>-0.083608</td>\n",
              "      <td>-0.058307</td>\n",
              "      <td>-0.012089</td>\n",
              "      <td>-0.792648</td>\n",
              "      <td>-1.257509</td>\n",
              "      <td>1.622784</td>\n",
              "      <td>0.238553</td>\n",
              "      <td>1.446626</td>\n",
              "    </tr>\n",
              "  </tbody>\n",
              "</table>\n",
              "</div>\n",
              "      <button class=\"colab-df-convert\" onclick=\"convertToInteractive('df-51111a2d-b0bb-417c-93b5-cbd8fb502f80')\"\n",
              "              title=\"Convert this dataframe to an interactive table.\"\n",
              "              style=\"display:none;\">\n",
              "        \n",
              "  <svg xmlns=\"http://www.w3.org/2000/svg\" height=\"24px\"viewBox=\"0 0 24 24\"\n",
              "       width=\"24px\">\n",
              "    <path d=\"M0 0h24v24H0V0z\" fill=\"none\"/>\n",
              "    <path d=\"M18.56 5.44l.94 2.06.94-2.06 2.06-.94-2.06-.94-.94-2.06-.94 2.06-2.06.94zm-11 1L8.5 8.5l.94-2.06 2.06-.94-2.06-.94L8.5 2.5l-.94 2.06-2.06.94zm10 10l.94 2.06.94-2.06 2.06-.94-2.06-.94-.94-2.06-.94 2.06-2.06.94z\"/><path d=\"M17.41 7.96l-1.37-1.37c-.4-.4-.92-.59-1.43-.59-.52 0-1.04.2-1.43.59L10.3 9.45l-7.72 7.72c-.78.78-.78 2.05 0 2.83L4 21.41c.39.39.9.59 1.41.59.51 0 1.02-.2 1.41-.59l7.78-7.78 2.81-2.81c.8-.78.8-2.07 0-2.86zM5.41 20L4 18.59l7.72-7.72 1.47 1.35L5.41 20z\"/>\n",
              "  </svg>\n",
              "      </button>\n",
              "      \n",
              "  <style>\n",
              "    .colab-df-container {\n",
              "      display:flex;\n",
              "      flex-wrap:wrap;\n",
              "      gap: 12px;\n",
              "    }\n",
              "\n",
              "    .colab-df-convert {\n",
              "      background-color: #E8F0FE;\n",
              "      border: none;\n",
              "      border-radius: 50%;\n",
              "      cursor: pointer;\n",
              "      display: none;\n",
              "      fill: #1967D2;\n",
              "      height: 32px;\n",
              "      padding: 0 0 0 0;\n",
              "      width: 32px;\n",
              "    }\n",
              "\n",
              "    .colab-df-convert:hover {\n",
              "      background-color: #E2EBFA;\n",
              "      box-shadow: 0px 1px 2px rgba(60, 64, 67, 0.3), 0px 1px 3px 1px rgba(60, 64, 67, 0.15);\n",
              "      fill: #174EA6;\n",
              "    }\n",
              "\n",
              "    [theme=dark] .colab-df-convert {\n",
              "      background-color: #3B4455;\n",
              "      fill: #D2E3FC;\n",
              "    }\n",
              "\n",
              "    [theme=dark] .colab-df-convert:hover {\n",
              "      background-color: #434B5C;\n",
              "      box-shadow: 0px 1px 3px 1px rgba(0, 0, 0, 0.15);\n",
              "      filter: drop-shadow(0px 1px 2px rgba(0, 0, 0, 0.3));\n",
              "      fill: #FFFFFF;\n",
              "    }\n",
              "  </style>\n",
              "\n",
              "      <script>\n",
              "        const buttonEl =\n",
              "          document.querySelector('#df-51111a2d-b0bb-417c-93b5-cbd8fb502f80 button.colab-df-convert');\n",
              "        buttonEl.style.display =\n",
              "          google.colab.kernel.accessAllowed ? 'block' : 'none';\n",
              "\n",
              "        async function convertToInteractive(key) {\n",
              "          const element = document.querySelector('#df-51111a2d-b0bb-417c-93b5-cbd8fb502f80');\n",
              "          const dataTable =\n",
              "            await google.colab.kernel.invokeFunction('convertToInteractive',\n",
              "                                                     [key], {});\n",
              "          if (!dataTable) return;\n",
              "\n",
              "          const docLinkHtml = 'Like what you see? Visit the ' +\n",
              "            '<a target=\"_blank\" href=https://colab.research.google.com/notebooks/data_table.ipynb>data table notebook</a>'\n",
              "            + ' to learn more about interactive tables.';\n",
              "          element.innerHTML = '';\n",
              "          dataTable['output_type'] = 'display_data';\n",
              "          await google.colab.output.renderOutput(dataTable, element);\n",
              "          const docLink = document.createElement('div');\n",
              "          docLink.innerHTML = docLinkHtml;\n",
              "          element.appendChild(docLink);\n",
              "        }\n",
              "      </script>\n",
              "    </div>\n",
              "  </div>\n",
              "  "
            ]
          },
          "metadata": {},
          "execution_count": 89
        }
      ],
      "source": [
        "std.head()"
      ]
    },
    {
      "cell_type": "markdown",
      "id": "fe95f2f6-6372-46bf-8b8b-58f9ef3f823b",
      "metadata": {
        "id": "fe95f2f6-6372-46bf-8b8b-58f9ef3f823b"
      },
      "source": [
        "### Transformed Dataframe"
      ]
    },
    {
      "cell_type": "markdown",
      "id": "379b69f2-ab72-460d-a566-f4fbd88d697f",
      "metadata": {
        "id": "379b69f2-ab72-460d-a566-f4fbd88d697f"
      },
      "source": [
        "Menggabungkan kembali kolom-kolom hasil transformasi "
      ]
    },
    {
      "cell_type": "code",
      "execution_count": null,
      "id": "fc2ace56-2789-4a19-9a70-bdb72ee3d680",
      "metadata": {
        "id": "fc2ace56-2789-4a19-9a70-bdb72ee3d680"
      },
      "outputs": [],
      "source": [
        "data_model = pd.concat([onehot, std, data[['bad_flag']]], axis=1)"
      ]
    },
    {
      "cell_type": "markdown",
      "id": "e0b46ea7-3070-4865-beef-9df79ffbc289",
      "metadata": {
        "tags": [],
        "id": "e0b46ea7-3070-4865-beef-9df79ffbc289"
      },
      "source": [
        "# MODELING RANDOM FOREST CLASSIFICATION"
      ]
    },
    {
      "cell_type": "code",
      "source": [
        "sns.set(rc={'figure.figsize':(5,5)})\n",
        "plt.pie(data['bad_flag'].value_counts(normalize=True)*100,labels=['good loan','bad loan'],explode=(0,0.05),autopct='%1.f%%')\n",
        "plt.title('bad_flag Variable - good loan Vs bad loan')\n",
        "plt.show()"
      ],
      "metadata": {
        "colab": {
          "base_uri": "https://localhost:8080/"
        },
        "id": "-OcWjuIkrMgm",
        "outputId": "9c0970ad-5a7d-4317-bd7f-18f498c7189d"
      },
      "id": "-OcWjuIkrMgm",
      "execution_count": null,
      "outputs": [
        {
          "output_type": "display_data",
          "data": {
            "text/plain": [
              "<Figure size 360x360 with 1 Axes>"
            ],
            "image/png": "[encoded data removed]"
          },
          "metadata": {}
        }
      ]
    },
    {
      "cell_type": "markdown",
      "id": "0b0e6c1a-d336-4f67-b67e-3a8e8a1da5f8",
      "metadata": {
        "id": "0b0e6c1a-d336-4f67-b67e-3a8e8a1da5f8"
      },
      "source": [
        "### Train-Test Split"
      ]
    },
    {
      "cell_type": "code",
      "execution_count": null,
      "id": "84d129a3-759f-4ccd-8522-0a80712a271a",
      "metadata": {
        "id": "84d129a3-759f-4ccd-8522-0a80712a271a"
      },
      "outputs": [],
      "source": [
        "from sklearn.model_selection import train_test_split"
      ]
    },
    {
      "cell_type": "code",
      "execution_count": null,
      "id": "ce1fdd10-2163-415b-8eb4-987721fa7154",
      "metadata": {
        "id": "ce1fdd10-2163-415b-8eb4-987721fa7154"
      },
      "outputs": [],
      "source": [
        "X = data_model.drop('bad_flag', axis=1)\n",
        "y = data_model['bad_flag']\n",
        "\n",
        "X_train, X_test, y_train, y_test = train_test_split(X, y, test_size=0.2, random_state=42)"
      ]
    },
    {
      "cell_type": "code",
      "execution_count": null,
      "id": "712fafef-a848-4b65-9ce9-3c007d9cef56",
      "metadata": {
        "colab": {
          "base_uri": "https://localhost:8080/"
        },
        "id": "712fafef-a848-4b65-9ce9-3c007d9cef56",
        "outputId": "1d78d7e3-94f4-4e9a-934b-8a0f56182792"
      },
      "outputs": [
        {
          "output_type": "execute_result",
          "data": {
            "text/plain": [
              "((373028, 99), (93257, 99))"
            ]
          },
          "metadata": {},
          "execution_count": 94
        }
      ],
      "source": [
        "X_train.shape, X_test.shape"
      ]
    },
    {
      "cell_type": "markdown",
      "id": "822eb53e-57c5-4126-821b-07d50274b39c",
      "metadata": {
        "id": "822eb53e-57c5-4126-821b-07d50274b39c"
      },
      "source": [
        "### Training"
      ]
    },
    {
      "cell_type": "code",
      "execution_count": null,
      "id": "a9409d9a-52c8-4bcb-a08b-e41fcd699285",
      "metadata": {
        "id": "a9409d9a-52c8-4bcb-a08b-e41fcd699285"
      },
      "outputs": [],
      "source": [
        "from sklearn.ensemble import RandomForestClassifier"
      ]
    },
    {
      "cell_type": "code",
      "execution_count": null,
      "id": "87d787ae-b9ce-48bf-aef1-a906ce6157c9",
      "metadata": {
        "colab": {
          "base_uri": "https://localhost:8080/"
        },
        "id": "87d787ae-b9ce-48bf-aef1-a906ce6157c9",
        "outputId": "1aedb47a-37b1-4f10-a4a3-2a531adecf9c"
      },
      "outputs": [
        {
          "output_type": "execute_result",
          "data": {
            "text/plain": [
              "RandomForestClassifier(max_depth=4)"
            ]
          },
          "metadata": {},
          "execution_count": 96
        }
      ],
      "source": [
        "rfc = RandomForestClassifier(max_depth=4)\n",
        "rfc.fit(X_train, y_train)"
      ]
    },
    {
      "cell_type": "markdown",
      "id": "b9885137-7b1c-4abd-bc4e-793dbb509493",
      "metadata": {
        "tags": [],
        "id": "b9885137-7b1c-4abd-bc4e-793dbb509493"
      },
      "source": [
        "### Validation"
      ]
    },
    {
      "cell_type": "markdown",
      "id": "9172461d-9baa-4929-9abe-c2ade127f9c8",
      "metadata": {
        "id": "9172461d-9baa-4929-9abe-c2ade127f9c8"
      },
      "source": [
        "Untuk mengukur performa model, dua metrik yang umum dipakai dalam dunia credit risk adalah AUC dan KS."
      ]
    },
    {
      "cell_type": "code",
      "execution_count": null,
      "id": "8ed8e2b1-f26d-4dc8-a2cd-2a3681add028",
      "metadata": {
        "id": "8ed8e2b1-f26d-4dc8-a2cd-2a3681add028"
      },
      "outputs": [],
      "source": [
        "y_pred_proba = rfc.predict_proba(X_test)[:][:,1]\n",
        "\n",
        "df_actual_predicted = pd.concat([pd.DataFrame(np.array(y_test), columns=['y_actual']), pd.DataFrame(y_pred_proba, columns=['y_pred_proba'])], axis=1)\n",
        "df_actual_predicted.index = y_test.index"
      ]
    },
    {
      "cell_type": "markdown",
      "id": "bd4dd566-220e-4f72-b735-ad87d6372f0d",
      "metadata": {
        "id": "bd4dd566-220e-4f72-b735-ad87d6372f0d"
      },
      "source": [
        "#### AUC "
      ]
    },
    {
      "cell_type": "code",
      "execution_count": null,
      "id": "ad888543-db48-4be0-8135-abfd3e662b59",
      "metadata": {
        "id": "ad888543-db48-4be0-8135-abfd3e662b59"
      },
      "outputs": [],
      "source": [
        "from sklearn.metrics import roc_curve, roc_auc_score"
      ]
    },
    {
      "cell_type": "code",
      "execution_count": null,
      "id": "3caca03b-ef02-4875-9825-4b612447cd49",
      "metadata": {
        "colab": {
          "base_uri": "https://localhost:8080/"
        },
        "id": "3caca03b-ef02-4875-9825-4b612447cd49",
        "outputId": "ee44f708-da2e-4428-9c28-85642c05143c"
      },
      "outputs": [
        {
          "output_type": "execute_result",
          "data": {
            "text/plain": [
              "<matplotlib.legend.Legend at 0x7f10328a0e10>"
            ]
          },
          "metadata": {},
          "execution_count": 99
        },
        {
          "output_type": "display_data",
          "data": {
            "text/plain": [
              "<Figure size 360x360 with 1 Axes>"
            ],
            "image/png": "[encoded data removed]"
          },
          "metadata": {}
        }
      ],
      "source": [
        "fpr, tpr, tr = roc_curve(df_actual_predicted['y_actual'], df_actual_predicted['y_pred_proba'])\n",
        "auc = roc_auc_score(df_actual_predicted['y_actual'], df_actual_predicted['y_pred_proba'])\n",
        "\n",
        "plt.plot(fpr, tpr, label='AUC = %0.4f' %auc)\n",
        "plt.plot(fpr, fpr, linestyle = '--', color='k')\n",
        "plt.xlabel('False Positive Rate')\n",
        "plt.ylabel('True Positive Rate')\n",
        "plt.title('ROC Curve')\n",
        "plt.legend()"
      ]
    },
    {
      "cell_type": "markdown",
      "id": "926486bb-b1a0-4829-bea2-649735bd5b92",
      "metadata": {
        "id": "926486bb-b1a0-4829-bea2-649735bd5b92"
      },
      "source": [
        "#### KS "
      ]
    },
    {
      "cell_type": "code",
      "execution_count": null,
      "id": "7a2263f0-f5e3-4e07-add1-896f859bd584",
      "metadata": {
        "id": "7a2263f0-f5e3-4e07-add1-896f859bd584"
      },
      "outputs": [],
      "source": [
        "df_actual_predicted = df_actual_predicted.sort_values('y_pred_proba')\n",
        "df_actual_predicted = df_actual_predicted.reset_index()\n",
        "\n",
        "df_actual_predicted['Cumulative N Population'] = df_actual_predicted.index + 1\n",
        "df_actual_predicted['Cumulative N Bad'] = df_actual_predicted['y_actual'].cumsum()\n",
        "df_actual_predicted['Cumulative N Good'] = df_actual_predicted['Cumulative N Population'] - df_actual_predicted['Cumulative N Bad']\n",
        "df_actual_predicted['Cumulative Perc Population'] = df_actual_predicted['Cumulative N Population'] / df_actual_predicted.shape[0]\n",
        "df_actual_predicted['Cumulative Perc Bad'] = df_actual_predicted['Cumulative N Bad'] / df_actual_predicted['y_actual'].sum()\n",
        "df_actual_predicted['Cumulative Perc Good'] = df_actual_predicted['Cumulative N Good'] / (df_actual_predicted.shape[0] - df_actual_predicted['y_actual'].sum())"
      ]
    },
    {
      "cell_type": "code",
      "execution_count": null,
      "id": "2d5b2b28-601b-470f-a6fd-6031143bd3ab",
      "metadata": {
        "colab": {
          "base_uri": "https://localhost:8080/"
        },
        "id": "2d5b2b28-601b-470f-a6fd-6031143bd3ab",
        "outputId": "a706f804-ec9f-4ba1-fef1-090cbf402b62"
      },
      "outputs": [
        {
          "output_type": "execute_result",
          "data": {
            "text/plain": [
              "    index  y_actual  y_pred_proba  Cumulative N Population  Cumulative N Bad  \\\n",
              "0  354309         0      0.045433                        1                 0   \n",
              "1  318621         0      0.046158                        2                 0   \n",
              "2  279378         0      0.046229                        3                 0   \n",
              "3  377732         0      0.046364                        4                 0   \n",
              "4  361919         0      0.046473                        5                 0   \n",
              "\n",
              "   Cumulative N Good  Cumulative Perc Population  Cumulative Perc Bad  \\\n",
              "0                  1                    0.000011                  0.0   \n",
              "1                  2                    0.000021                  0.0   \n",
              "2                  3                    0.000032                  0.0   \n",
              "3                  4                    0.000043                  0.0   \n",
              "4                  5                    0.000054                  0.0   \n",
              "\n",
              "   Cumulative Perc Good  \n",
              "0              0.000012  \n",
              "1              0.000024  \n",
              "2              0.000036  \n",
              "3              0.000048  \n",
              "4              0.000060  "
            ],
            "text/html": [
              "\n",
              "  <div id=\"df-c63404cd-9bda-403d-8035-1b9c5caf27b0\">\n",
              "    <div class=\"colab-df-container\">\n",
              "      <div>\n",
              "<style scoped>\n",
              "    .dataframe tbody tr th:only-of-type {\n",
              "        vertical-align: middle;\n",
              "    }\n",
              "\n",
              "    .dataframe tbody tr th {\n",
              "        vertical-align: top;\n",
              "    }\n",
              "\n",
              "    .dataframe thead th {\n",
              "        text-align: right;\n",
              "    }\n",
              "</style>\n",
              "<table border=\"1\" class=\"dataframe\">\n",
              "  <thead>\n",
              "    <tr style=\"text-align: right;\">\n",
              "      <th></th>\n",
              "      <th>index</th>\n",
              "      <th>y_actual</th>\n",
              "      <th>y_pred_proba</th>\n",
              "      <th>Cumulative N Population</th>\n",
              "      <th>Cumulative N Bad</th>\n",
              "      <th>Cumulative N Good</th>\n",
              "      <th>Cumulative Perc Population</th>\n",
              "      <th>Cumulative Perc Bad</th>\n",
              "      <th>Cumulative Perc Good</th>\n",
              "    </tr>\n",
              "  </thead>\n",
              "  <tbody>\n",
              "    <tr>\n",
              "      <th>0</th>\n",
              "      <td>354309</td>\n",
              "      <td>0</td>\n",
              "      <td>0.045433</td>\n",
              "      <td>1</td>\n",
              "      <td>0</td>\n",
              "      <td>1</td>\n",
              "      <td>0.000011</td>\n",
              "      <td>0.0</td>\n",
              "      <td>0.000012</td>\n",
              "    </tr>\n",
              "    <tr>\n",
              "      <th>1</th>\n",
              "      <td>318621</td>\n",
              "      <td>0</td>\n",
              "      <td>0.046158</td>\n",
              "      <td>2</td>\n",
              "      <td>0</td>\n",
              "      <td>2</td>\n",
              "      <td>0.000021</td>\n",
              "      <td>0.0</td>\n",
              "      <td>0.000024</td>\n",
              "    </tr>\n",
              "    <tr>\n",
              "      <th>2</th>\n",
              "      <td>279378</td>\n",
              "      <td>0</td>\n",
              "      <td>0.046229</td>\n",
              "      <td>3</td>\n",
              "      <td>0</td>\n",
              "      <td>3</td>\n",
              "      <td>0.000032</td>\n",
              "      <td>0.0</td>\n",
              "      <td>0.000036</td>\n",
              "    </tr>\n",
              "    <tr>\n",
              "      <th>3</th>\n",
              "      <td>377732</td>\n",
              "      <td>0</td>\n",
              "      <td>0.046364</td>\n",
              "      <td>4</td>\n",
              "      <td>0</td>\n",
              "      <td>4</td>\n",
              "      <td>0.000043</td>\n",
              "      <td>0.0</td>\n",
              "      <td>0.000048</td>\n",
              "    </tr>\n",
              "    <tr>\n",
              "      <th>4</th>\n",
              "      <td>361919</td>\n",
              "      <td>0</td>\n",
              "      <td>0.046473</td>\n",
              "      <td>5</td>\n",
              "      <td>0</td>\n",
              "      <td>5</td>\n",
              "      <td>0.000054</td>\n",
              "      <td>0.0</td>\n",
              "      <td>0.000060</td>\n",
              "    </tr>\n",
              "  </tbody>\n",
              "</table>\n",
              "</div>\n",
              "      <button class=\"colab-df-convert\" onclick=\"convertToInteractive('df-c63404cd-9bda-403d-8035-1b9c5caf27b0')\"\n",
              "              title=\"Convert this dataframe to an interactive table.\"\n",
              "              style=\"display:none;\">\n",
              "        \n",
              "  <svg xmlns=\"http://www.w3.org/2000/svg\" height=\"24px\"viewBox=\"0 0 24 24\"\n",
              "       width=\"24px\">\n",
              "    <path d=\"M0 0h24v24H0V0z\" fill=\"none\"/>\n",
              "    <path d=\"M18.56 5.44l.94 2.06.94-2.06 2.06-.94-2.06-.94-.94-2.06-.94 2.06-2.06.94zm-11 1L8.5 8.5l.94-2.06 2.06-.94-2.06-.94L8.5 2.5l-.94 2.06-2.06.94zm10 10l.94 2.06.94-2.06 2.06-.94-2.06-.94-.94-2.06-.94 2.06-2.06.94z\"/><path d=\"M17.41 7.96l-1.37-1.37c-.4-.4-.92-.59-1.43-.59-.52 0-1.04.2-1.43.59L10.3 9.45l-7.72 7.72c-.78.78-.78 2.05 0 2.83L4 21.41c.39.39.9.59 1.41.59.51 0 1.02-.2 1.41-.59l7.78-7.78 2.81-2.81c.8-.78.8-2.07 0-2.86zM5.41 20L4 18.59l7.72-7.72 1.47 1.35L5.41 20z\"/>\n",
              "  </svg>\n",
              "      </button>\n",
              "      \n",
              "  <style>\n",
              "    .colab-df-container {\n",
              "      display:flex;\n",
              "      flex-wrap:wrap;\n",
              "      gap: 12px;\n",
              "    }\n",
              "\n",
              "    .colab-df-convert {\n",
              "      background-color: #E8F0FE;\n",
              "      border: none;\n",
              "      border-radius: 50%;\n",
              "      cursor: pointer;\n",
              "      display: none;\n",
              "      fill: #1967D2;\n",
              "      height: 32px;\n",
              "      padding: 0 0 0 0;\n",
              "      width: 32px;\n",
              "    }\n",
              "\n",
              "    .colab-df-convert:hover {\n",
              "      background-color: #E2EBFA;\n",
              "      box-shadow: 0px 1px 2px rgba(60, 64, 67, 0.3), 0px 1px 3px 1px rgba(60, 64, 67, 0.15);\n",
              "      fill: #174EA6;\n",
              "    }\n",
              "\n",
              "    [theme=dark] .colab-df-convert {\n",
              "      background-color: #3B4455;\n",
              "      fill: #D2E3FC;\n",
              "    }\n",
              "\n",
              "    [theme=dark] .colab-df-convert:hover {\n",
              "      background-color: #434B5C;\n",
              "      box-shadow: 0px 1px 3px 1px rgba(0, 0, 0, 0.15);\n",
              "      filter: drop-shadow(0px 1px 2px rgba(0, 0, 0, 0.3));\n",
              "      fill: #FFFFFF;\n",
              "    }\n",
              "  </style>\n",
              "\n",
              "      <script>\n",
              "        const buttonEl =\n",
              "          document.querySelector('#df-c63404cd-9bda-403d-8035-1b9c5caf27b0 button.colab-df-convert');\n",
              "        buttonEl.style.display =\n",
              "          google.colab.kernel.accessAllowed ? 'block' : 'none';\n",
              "\n",
              "        async function convertToInteractive(key) {\n",
              "          const element = document.querySelector('#df-c63404cd-9bda-403d-8035-1b9c5caf27b0');\n",
              "          const dataTable =\n",
              "            await google.colab.kernel.invokeFunction('convertToInteractive',\n",
              "                                                     [key], {});\n",
              "          if (!dataTable) return;\n",
              "\n",
              "          const docLinkHtml = 'Like what you see? Visit the ' +\n",
              "            '<a target=\"_blank\" href=https://colab.research.google.com/notebooks/data_table.ipynb>data table notebook</a>'\n",
              "            + ' to learn more about interactive tables.';\n",
              "          element.innerHTML = '';\n",
              "          dataTable['output_type'] = 'display_data';\n",
              "          await google.colab.output.renderOutput(dataTable, element);\n",
              "          const docLink = document.createElement('div');\n",
              "          docLink.innerHTML = docLinkHtml;\n",
              "          element.appendChild(docLink);\n",
              "        }\n",
              "      </script>\n",
              "    </div>\n",
              "  </div>\n",
              "  "
            ]
          },
          "metadata": {},
          "execution_count": 101
        }
      ],
      "source": [
        "df_actual_predicted.head()"
      ]
    },
    {
      "cell_type": "code",
      "execution_count": null,
      "id": "441a4f8b-c2ca-4edd-8930-66700645d818",
      "metadata": {
        "colab": {
          "base_uri": "https://localhost:8080/"
        },
        "id": "441a4f8b-c2ca-4edd-8930-66700645d818",
        "outputId": "c37fbac6-d216-4de7-f25e-670ed88cf42a"
      },
      "outputs": [
        {
          "output_type": "execute_result",
          "data": {
            "text/plain": [
              "Text(0.5, 1.0, 'Kolmogorov-Smirnov:  0.5698')"
            ]
          },
          "metadata": {},
          "execution_count": 102
        },
        {
          "output_type": "display_data",
          "data": {
            "text/plain": [
              "<Figure size 360x360 with 1 Axes>"
            ],
            "image/png": "[encoded data removed]"
          },
          "metadata": {}
        }
      ],
      "source": [
        "KS = max(df_actual_predicted['Cumulative Perc Good'] - df_actual_predicted['Cumulative Perc Bad'])\n",
        "\n",
        "plt.plot(df_actual_predicted['y_pred_proba'], df_actual_predicted['Cumulative Perc Bad'], color='r')\n",
        "plt.plot(df_actual_predicted['y_pred_proba'], df_actual_predicted['Cumulative Perc Good'], color='b')\n",
        "plt.xlabel('Estimated Probability for Being Bad')\n",
        "plt.ylabel('Cumulative %')\n",
        "plt.title('Kolmogorov-Smirnov:  %0.4f' %KS)"
      ]
    },
    {
      "cell_type": "markdown",
      "id": "1dbdd107-1b69-4e89-96aa-9cb27a093a09",
      "metadata": {
        "id": "1dbdd107-1b69-4e89-96aa-9cb27a093a09"
      },
      "source": [
        "Model RANDOM FOREST CLASSIFICATION yang dibangun menghasilkan performa `AUC = 0.8613` dan `KS = 0.5698`. "
      ]
    },
    {
      "cell_type": "markdown",
      "metadata": {
        "tags": [],
        "id": "VIAkRPoM3vna"
      },
      "source": [
        "# MODELING XGBOOST CLASSIFICATION"
      ],
      "id": "VIAkRPoM3vna"
    },
    {
      "cell_type": "markdown",
      "metadata": {
        "id": "cHAfOPSL3vnb"
      },
      "source": [
        "### Train-Test Split"
      ],
      "id": "cHAfOPSL3vnb"
    },
    {
      "cell_type": "markdown",
      "metadata": {
        "id": "Tnb9npjA3vnf"
      },
      "source": [
        "### Training"
      ],
      "id": "Tnb9npjA3vnf"
    },
    {
      "cell_type": "code",
      "source": [
        "import xgboost as xgb\n",
        "from xgboost import XGBClassifier\n",
        "from xgboost import plot_importance"
      ],
      "metadata": {
        "id": "BH4nV1nm3vng"
      },
      "execution_count": null,
      "outputs": [],
      "id": "BH4nV1nm3vng"
    },
    {
      "cell_type": "code",
      "source": [
        "XGBC = xgb.XGBClassifier(objective='binary:logistic', booster='gbtree', eval_metric='auc', use_label_encoder=False)\n",
        "XGBC.fit(X_train, y_train)"
      ],
      "metadata": {
        "id": "XWUW9w8f3vnh",
        "colab": {
          "base_uri": "https://localhost:8080/"
        },
        "outputId": "147f2d0b-41bf-4147-bbf4-b3b40fb22748"
      },
      "execution_count": null,
      "outputs": [
        {
          "output_type": "execute_result",
          "data": {
            "text/plain": [
              "XGBClassifier(eval_metric='auc', use_label_encoder=False)"
            ]
          },
          "metadata": {},
          "execution_count": 104
        }
      ],
      "id": "XWUW9w8f3vnh"
    },
    {
      "cell_type": "markdown",
      "metadata": {
        "tags": [],
        "id": "0PoqmL5v3vnh"
      },
      "source": [
        "### Validation"
      ],
      "id": "0PoqmL5v3vnh"
    },
    {
      "cell_type": "markdown",
      "metadata": {
        "id": "Glv4a5W93vnh"
      },
      "source": [
        "Untuk mengukur performa model, dua metrik yang umum dipakai dalam dunia credit risk adalah AUC dan KS."
      ],
      "id": "Glv4a5W93vnh"
    },
    {
      "cell_type": "code",
      "source": [
        "y_pred_proba_xg = XGBC.predict_proba(X_test)[:][:,1]\n",
        "\n",
        "df_actual_predicted_xg = pd.concat([pd.DataFrame(np.array(y_test), columns=['y_actual_xg']), pd.DataFrame(y_pred_proba_xg, columns=['y_pred_proba_xg'])], axis=1)\n",
        "df_actual_predicted_xg.index = y_test.index"
      ],
      "metadata": {
        "id": "I88cNC003vni"
      },
      "execution_count": null,
      "outputs": [],
      "id": "I88cNC003vni"
    },
    {
      "cell_type": "markdown",
      "metadata": {
        "id": "NM2eEe0x3vni"
      },
      "source": [
        "#### AUC "
      ],
      "id": "NM2eEe0x3vni"
    },
    {
      "cell_type": "code",
      "execution_count": null,
      "metadata": {
        "id": "7IyIcqxK3vni"
      },
      "outputs": [],
      "source": [
        "from sklearn.metrics import roc_curve, roc_auc_score"
      ],
      "id": "7IyIcqxK3vni"
    },
    {
      "cell_type": "code",
      "execution_count": null,
      "metadata": {
        "colab": {
          "base_uri": "https://localhost:8080/"
        },
        "outputId": "cb642aac-4539-459a-dd57-8fe89dc46322",
        "id": "v-4wIOle3vnj"
      },
      "outputs": [
        {
          "output_type": "execute_result",
          "data": {
            "text/plain": [
              "<matplotlib.legend.Legend at 0x7f1036c19950>"
            ]
          },
          "metadata": {},
          "execution_count": 107
        },
        {
          "output_type": "display_data",
          "data": {
            "text/plain": [
              "<Figure size 360x360 with 1 Axes>"
            ],
            "image/png": "[encoded data removed]"
          },
          "metadata": {}
        }
      ],
      "source": [
        "fpr, tpr, tr = roc_curve(df_actual_predicted_xg['y_actual_xg'], df_actual_predicted_xg['y_pred_proba_xg'])\n",
        "auc = roc_auc_score(df_actual_predicted_xg['y_actual_xg'], df_actual_predicted_xg['y_pred_proba_xg'])\n",
        "\n",
        "plt.plot(fpr, tpr, label='AUC = %0.4f' %auc)\n",
        "plt.plot(fpr, fpr, linestyle = '--', color='k')\n",
        "plt.xlabel('False Positive Rate')\n",
        "plt.ylabel('True Positive Rate')\n",
        "plt.title('ROC Curve')\n",
        "plt.legend()"
      ],
      "id": "v-4wIOle3vnj"
    },
    {
      "cell_type": "markdown",
      "metadata": {
        "id": "Rv3X9_fj3vnj"
      },
      "source": [
        "#### KS "
      ],
      "id": "Rv3X9_fj3vnj"
    },
    {
      "cell_type": "code",
      "execution_count": null,
      "metadata": {
        "id": "r6WHYjHE3vnj"
      },
      "outputs": [],
      "source": [
        "df_actual_predicted_xg = df_actual_predicted_xg.sort_values('y_pred_proba_xg')\n",
        "df_actual_predicted_xg = df_actual_predicted_xg.reset_index()\n",
        "\n",
        "df_actual_predicted_xg['Cumulative N Population'] = df_actual_predicted_xg.index + 1\n",
        "df_actual_predicted_xg['Cumulative N Bad'] = df_actual_predicted_xg['y_actual_xg'].cumsum()\n",
        "df_actual_predicted_xg['Cumulative N Good'] = df_actual_predicted_xg['Cumulative N Population'] - df_actual_predicted_xg['Cumulative N Bad']\n",
        "df_actual_predicted_xg['Cumulative Perc Population'] = df_actual_predicted_xg['Cumulative N Population'] / df_actual_predicted_xg.shape[0]\n",
        "df_actual_predicted_xg['Cumulative Perc Bad'] = df_actual_predicted_xg['Cumulative N Bad'] / df_actual_predicted_xg['y_actual_xg'].sum()\n",
        "df_actual_predicted_xg['Cumulative Perc Good'] = df_actual_predicted_xg['Cumulative N Good'] / (df_actual_predicted_xg.shape[0] - df_actual_predicted_xg['y_actual_xg'].sum())"
      ],
      "id": "r6WHYjHE3vnj"
    },
    {
      "cell_type": "code",
      "execution_count": null,
      "metadata": {
        "colab": {
          "base_uri": "https://localhost:8080/"
        },
        "outputId": "dcc442e0-1a83-4c20-de14-8d53c1b8b130",
        "id": "nPprAQOU3vnk"
      },
      "outputs": [
        {
          "output_type": "execute_result",
          "data": {
            "text/plain": [
              "    index  y_actual_xg  y_pred_proba_xg  Cumulative N Population  \\\n",
              "0  167592            0         0.006579                        1   \n",
              "1  128562            0         0.006716                        2   \n",
              "2  167632            0         0.006726                        3   \n",
              "3  380264            0         0.006828                        4   \n",
              "4   85812            0         0.006849                        5   \n",
              "\n",
              "   Cumulative N Bad  Cumulative N Good  Cumulative Perc Population  \\\n",
              "0                 0                  1                    0.000011   \n",
              "1                 0                  2                    0.000021   \n",
              "2                 0                  3                    0.000032   \n",
              "3                 0                  4                    0.000043   \n",
              "4                 0                  5                    0.000054   \n",
              "\n",
              "   Cumulative Perc Bad  Cumulative Perc Good  \n",
              "0                  0.0              0.000012  \n",
              "1                  0.0              0.000024  \n",
              "2                  0.0              0.000036  \n",
              "3                  0.0              0.000048  \n",
              "4                  0.0              0.000060  "
            ],
            "text/html": [
              "\n",
              "  <div id=\"df-b156bf05-c20f-497a-973b-568ed7b2ec5b\">\n",
              "    <div class=\"colab-df-container\">\n",
              "      <div>\n",
              "<style scoped>\n",
              "    .dataframe tbody tr th:only-of-type {\n",
              "        vertical-align: middle;\n",
              "    }\n",
              "\n",
              "    .dataframe tbody tr th {\n",
              "        vertical-align: top;\n",
              "    }\n",
              "\n",
              "    .dataframe thead th {\n",
              "        text-align: right;\n",
              "    }\n",
              "</style>\n",
              "<table border=\"1\" class=\"dataframe\">\n",
              "  <thead>\n",
              "    <tr style=\"text-align: right;\">\n",
              "      <th></th>\n",
              "      <th>index</th>\n",
              "      <th>y_actual_xg</th>\n",
              "      <th>y_pred_proba_xg</th>\n",
              "      <th>Cumulative N Population</th>\n",
              "      <th>Cumulative N Bad</th>\n",
              "      <th>Cumulative N Good</th>\n",
              "      <th>Cumulative Perc Population</th>\n",
              "      <th>Cumulative Perc Bad</th>\n",
              "      <th>Cumulative Perc Good</th>\n",
              "    </tr>\n",
              "  </thead>\n",
              "  <tbody>\n",
              "    <tr>\n",
              "      <th>0</th>\n",
              "      <td>167592</td>\n",
              "      <td>0</td>\n",
              "      <td>0.006579</td>\n",
              "      <td>1</td>\n",
              "      <td>0</td>\n",
              "      <td>1</td>\n",
              "      <td>0.000011</td>\n",
              "      <td>0.0</td>\n",
              "      <td>0.000012</td>\n",
              "    </tr>\n",
              "    <tr>\n",
              "      <th>1</th>\n",
              "      <td>128562</td>\n",
              "      <td>0</td>\n",
              "      <td>0.006716</td>\n",
              "      <td>2</td>\n",
              "      <td>0</td>\n",
              "      <td>2</td>\n",
              "      <td>0.000021</td>\n",
              "      <td>0.0</td>\n",
              "      <td>0.000024</td>\n",
              "    </tr>\n",
              "    <tr>\n",
              "      <th>2</th>\n",
              "      <td>167632</td>\n",
              "      <td>0</td>\n",
              "      <td>0.006726</td>\n",
              "      <td>3</td>\n",
              "      <td>0</td>\n",
              "      <td>3</td>\n",
              "      <td>0.000032</td>\n",
              "      <td>0.0</td>\n",
              "      <td>0.000036</td>\n",
              "    </tr>\n",
              "    <tr>\n",
              "      <th>3</th>\n",
              "      <td>380264</td>\n",
              "      <td>0</td>\n",
              "      <td>0.006828</td>\n",
              "      <td>4</td>\n",
              "      <td>0</td>\n",
              "      <td>4</td>\n",
              "      <td>0.000043</td>\n",
              "      <td>0.0</td>\n",
              "      <td>0.000048</td>\n",
              "    </tr>\n",
              "    <tr>\n",
              "      <th>4</th>\n",
              "      <td>85812</td>\n",
              "      <td>0</td>\n",
              "      <td>0.006849</td>\n",
              "      <td>5</td>\n",
              "      <td>0</td>\n",
              "      <td>5</td>\n",
              "      <td>0.000054</td>\n",
              "      <td>0.0</td>\n",
              "      <td>0.000060</td>\n",
              "    </tr>\n",
              "  </tbody>\n",
              "</table>\n",
              "</div>\n",
              "      <button class=\"colab-df-convert\" onclick=\"convertToInteractive('df-b156bf05-c20f-497a-973b-568ed7b2ec5b')\"\n",
              "              title=\"Convert this dataframe to an interactive table.\"\n",
              "              style=\"display:none;\">\n",
              "        \n",
              "  <svg xmlns=\"http://www.w3.org/2000/svg\" height=\"24px\"viewBox=\"0 0 24 24\"\n",
              "       width=\"24px\">\n",
              "    <path d=\"M0 0h24v24H0V0z\" fill=\"none\"/>\n",
              "    <path d=\"M18.56 5.44l.94 2.06.94-2.06 2.06-.94-2.06-.94-.94-2.06-.94 2.06-2.06.94zm-11 1L8.5 8.5l.94-2.06 2.06-.94-2.06-.94L8.5 2.5l-.94 2.06-2.06.94zm10 10l.94 2.06.94-2.06 2.06-.94-2.06-.94-.94-2.06-.94 2.06-2.06.94z\"/><path d=\"M17.41 7.96l-1.37-1.37c-.4-.4-.92-.59-1.43-.59-.52 0-1.04.2-1.43.59L10.3 9.45l-7.72 7.72c-.78.78-.78 2.05 0 2.83L4 21.41c.39.39.9.59 1.41.59.51 0 1.02-.2 1.41-.59l7.78-7.78 2.81-2.81c.8-.78.8-2.07 0-2.86zM5.41 20L4 18.59l7.72-7.72 1.47 1.35L5.41 20z\"/>\n",
              "  </svg>\n",
              "      </button>\n",
              "      \n",
              "  <style>\n",
              "    .colab-df-container {\n",
              "      display:flex;\n",
              "      flex-wrap:wrap;\n",
              "      gap: 12px;\n",
              "    }\n",
              "\n",
              "    .colab-df-convert {\n",
              "      background-color: #E8F0FE;\n",
              "      border: none;\n",
              "      border-radius: 50%;\n",
              "      cursor: pointer;\n",
              "      display: none;\n",
              "      fill: #1967D2;\n",
              "      height: 32px;\n",
              "      padding: 0 0 0 0;\n",
              "      width: 32px;\n",
              "    }\n",
              "\n",
              "    .colab-df-convert:hover {\n",
              "      background-color: #E2EBFA;\n",
              "      box-shadow: 0px 1px 2px rgba(60, 64, 67, 0.3), 0px 1px 3px 1px rgba(60, 64, 67, 0.15);\n",
              "      fill: #174EA6;\n",
              "    }\n",
              "\n",
              "    [theme=dark] .colab-df-convert {\n",
              "      background-color: #3B4455;\n",
              "      fill: #D2E3FC;\n",
              "    }\n",
              "\n",
              "    [theme=dark] .colab-df-convert:hover {\n",
              "      background-color: #434B5C;\n",
              "      box-shadow: 0px 1px 3px 1px rgba(0, 0, 0, 0.15);\n",
              "      filter: drop-shadow(0px 1px 2px rgba(0, 0, 0, 0.3));\n",
              "      fill: #FFFFFF;\n",
              "    }\n",
              "  </style>\n",
              "\n",
              "      <script>\n",
              "        const buttonEl =\n",
              "          document.querySelector('#df-b156bf05-c20f-497a-973b-568ed7b2ec5b button.colab-df-convert');\n",
              "        buttonEl.style.display =\n",
              "          google.colab.kernel.accessAllowed ? 'block' : 'none';\n",
              "\n",
              "        async function convertToInteractive(key) {\n",
              "          const element = document.querySelector('#df-b156bf05-c20f-497a-973b-568ed7b2ec5b');\n",
              "          const dataTable =\n",
              "            await google.colab.kernel.invokeFunction('convertToInteractive',\n",
              "                                                     [key], {});\n",
              "          if (!dataTable) return;\n",
              "\n",
              "          const docLinkHtml = 'Like what you see? Visit the ' +\n",
              "            '<a target=\"_blank\" href=https://colab.research.google.com/notebooks/data_table.ipynb>data table notebook</a>'\n",
              "            + ' to learn more about interactive tables.';\n",
              "          element.innerHTML = '';\n",
              "          dataTable['output_type'] = 'display_data';\n",
              "          await google.colab.output.renderOutput(dataTable, element);\n",
              "          const docLink = document.createElement('div');\n",
              "          docLink.innerHTML = docLinkHtml;\n",
              "          element.appendChild(docLink);\n",
              "        }\n",
              "      </script>\n",
              "    </div>\n",
              "  </div>\n",
              "  "
            ]
          },
          "metadata": {},
          "execution_count": 109
        }
      ],
      "source": [
        "df_actual_predicted_xg.head()"
      ],
      "id": "nPprAQOU3vnk"
    },
    {
      "cell_type": "code",
      "execution_count": null,
      "metadata": {
        "colab": {
          "base_uri": "https://localhost:8080/"
        },
        "outputId": "ebb84a36-b9c5-4574-a6da-358859902ed5",
        "id": "edF0XrQ13vnk"
      },
      "outputs": [
        {
          "output_type": "execute_result",
          "data": {
            "text/plain": [
              "Text(0.5, 1.0, 'Kolmogorov-Smirnov:  0.6083')"
            ]
          },
          "metadata": {},
          "execution_count": 110
        },
        {
          "output_type": "display_data",
          "data": {
            "text/plain": [
              "<Figure size 360x360 with 1 Axes>"
            ],
            "image/png": "[encoded data removed]"
          },
          "metadata": {}
        }
      ],
      "source": [
        "KS = max(df_actual_predicted_xg['Cumulative Perc Good'] - df_actual_predicted_xg['Cumulative Perc Bad'])\n",
        "\n",
        "plt.plot(df_actual_predicted_xg['y_pred_proba_xg'], df_actual_predicted_xg['Cumulative Perc Bad'], color='r')\n",
        "plt.plot(df_actual_predicted_xg['y_pred_proba_xg'], df_actual_predicted_xg['Cumulative Perc Good'], color='b')\n",
        "plt.xlabel('Estimated Probability for Being Bad')\n",
        "plt.ylabel('Cumulative %')\n",
        "plt.title('Kolmogorov-Smirnov:  %0.4f' %KS)"
      ],
      "id": "edF0XrQ13vnk"
    },
    {
      "cell_type": "markdown",
      "metadata": {
        "id": "iJ2dfu_J3vnk"
      },
      "source": [
        "Model  XGBOOST CLASSIFICATION yang dibangun menghasilkan performa `AUC = 0.8786` dan `KS = 0.6083`. "
      ],
      "id": "iJ2dfu_J3vnk"
    },
    {
      "cell_type": "markdown",
      "source": [
        "#TUNNING"
      ],
      "metadata": {
        "id": "77kaT3u6-uID"
      },
      "id": "77kaT3u6-uID"
    },
    {
      "cell_type": "code",
      "source": [
        "## Hyper Parameter Optimization\n",
        "\n",
        "params={\n",
        " \"learning_rate\"    : [0.05, 0.10, 0.15, 0.20, 0.25, 0.30 ] ,\n",
        " \"max_depth\"        : [ 3, 4, 5, 6, 8, 10, 12, 15],\n",
        " \"min_child_weight\" : [ 1, 3, 5, 7 ],\n",
        " \"gamma\"            : [ 0.0, 0.1, 0.2 , 0.3, 0.4 ],\n",
        " \"colsample_bytree\" : [ 0.3, 0.4, 0.5 , 0.7 ]\n",
        "    \n",
        "}"
      ],
      "metadata": {
        "id": "wHj5YRd4TCEK"
      },
      "id": "wHj5YRd4TCEK",
      "execution_count": null,
      "outputs": []
    },
    {
      "cell_type": "code",
      "source": [
        "random_search=RandomizedSearchCV(XGBC,param_distributions=params,n_iter=5,scoring='roc_auc',n_jobs=-1,cv=5,verbose=3)"
      ],
      "metadata": {
        "id": "AtWCUsNxTV8C"
      },
      "id": "AtWCUsNxTV8C",
      "execution_count": null,
      "outputs": []
    },
    {
      "cell_type": "code",
      "source": [
        "random_search.fit(X_test,y_test)"
      ],
      "metadata": {
        "colab": {
          "base_uri": "https://localhost:8080/"
        },
        "id": "zW3H4CodT3xy",
        "outputId": "e76a1562-4e02-4506-b292-53f25c5c8906"
      },
      "id": "zW3H4CodT3xy",
      "execution_count": null,
      "outputs": [
        {
          "output_type": "stream",
          "name": "stdout",
          "text": [
            "Fitting 5 folds for each of 5 candidates, totalling 25 fits\n"
          ]
        },
        {
          "output_type": "execute_result",
          "data": {
            "text/plain": [
              "RandomizedSearchCV(cv=5,\n",
              "                   estimator=XGBClassifier(eval_metric='auc',\n",
              "                                           use_label_encoder=False),\n",
              "                   n_iter=5, n_jobs=-1,\n",
              "                   param_distributions={'colsample_bytree': [0.3, 0.4, 0.5,\n",
              "                                                             0.7],\n",
              "                                        'gamma': [0.0, 0.1, 0.2, 0.3, 0.4],\n",
              "                                        'learning_rate': [0.05, 0.1, 0.15, 0.2,\n",
              "                                                          0.25, 0.3],\n",
              "                                        'max_depth': [3, 4, 5, 6, 8, 10, 12,\n",
              "                                                      15],\n",
              "                                        'min_child_weight': [1, 3, 5, 7]},\n",
              "                   scoring='roc_auc', verbose=3)"
            ]
          },
          "metadata": {},
          "execution_count": 113
        }
      ]
    },
    {
      "cell_type": "code",
      "source": [
        "random_search.best_estimator_"
      ],
      "metadata": {
        "colab": {
          "base_uri": "https://localhost:8080/"
        },
        "id": "7miaYjNTUBjd",
        "outputId": "e82ce91a-9e6a-4795-9bb2-bacc0f07da0d"
      },
      "id": "7miaYjNTUBjd",
      "execution_count": null,
      "outputs": [
        {
          "output_type": "execute_result",
          "data": {
            "text/plain": [
              "XGBClassifier(colsample_bytree=0.7, eval_metric='auc', gamma=0.2,\n",
              "              learning_rate=0.25, max_depth=12, min_child_weight=7,\n",
              "              use_label_encoder=False)"
            ]
          },
          "metadata": {},
          "execution_count": 114
        }
      ]
    },
    {
      "cell_type": "code",
      "source": [
        "random_search.best_params_"
      ],
      "metadata": {
        "colab": {
          "base_uri": "https://localhost:8080/"
        },
        "id": "G8ySoX5_UGEM",
        "outputId": "e096a0a6-ee2b-4ca4-ccbf-545583278478"
      },
      "id": "G8ySoX5_UGEM",
      "execution_count": null,
      "outputs": [
        {
          "output_type": "execute_result",
          "data": {
            "text/plain": [
              "{'colsample_bytree': 0.7,\n",
              " 'gamma': 0.2,\n",
              " 'learning_rate': 0.25,\n",
              " 'max_depth': 12,\n",
              " 'min_child_weight': 7}"
            ]
          },
          "metadata": {},
          "execution_count": 115
        }
      ]
    },
    {
      "cell_type": "code",
      "source": [
        "XGBC = xgb.XGBClassifier(colsample_bytree=0.4, eval_metric='auc', gamma=0.1, max_depth=10,\n",
        "              use_label_encoder=False)\n",
        "XGBC.fit(X_train, y_train)\n",
        "#prediction = XGBC.predict(X_test)"
      ],
      "metadata": {
        "id": "qfEdqgHON6u3",
        "colab": {
          "base_uri": "https://localhost:8080/"
        },
        "outputId": "c0cfa1d0-16ac-4bff-ff8a-a0c23c690b55"
      },
      "execution_count": null,
      "outputs": [
        {
          "output_type": "execute_result",
          "data": {
            "text/plain": [
              "XGBClassifier(colsample_bytree=0.4, eval_metric='auc', gamma=0.1, max_depth=10,\n",
              "              use_label_encoder=False)"
            ]
          },
          "metadata": {},
          "execution_count": 116
        }
      ],
      "id": "qfEdqgHON6u3"
    },
    {
      "cell_type": "markdown",
      "metadata": {
        "tags": [],
        "id": "m50MoqEoN6u4"
      },
      "source": [
        "### Validation"
      ],
      "id": "m50MoqEoN6u4"
    },
    {
      "cell_type": "markdown",
      "metadata": {
        "id": "kMlYe1XWN6u4"
      },
      "source": [
        "Untuk mengukur performa model, dua metrik yang umum dipakai dalam dunia credit risk adalah AUC dan KS."
      ],
      "id": "kMlYe1XWN6u4"
    },
    {
      "cell_type": "code",
      "source": [
        "y_pred_proba_xg = XGBC.predict_proba(X_test)[:][:,1]\n",
        "\n",
        "df_actual_predicted_xg = pd.concat([pd.DataFrame(np.array(y_test), columns=['y_actual_xg']), pd.DataFrame(y_pred_proba_xg, columns=['y_pred_proba_xg'])], axis=1)\n",
        "df_actual_predicted_xg.index = y_test.index"
      ],
      "metadata": {
        "id": "kofKvPQNN6u4"
      },
      "execution_count": null,
      "outputs": [],
      "id": "kofKvPQNN6u4"
    },
    {
      "cell_type": "markdown",
      "metadata": {
        "id": "16QINkrAN6u5"
      },
      "source": [
        "#### AUC "
      ],
      "id": "16QINkrAN6u5"
    },
    {
      "cell_type": "code",
      "execution_count": null,
      "metadata": {
        "colab": {
          "base_uri": "https://localhost:8080/"
        },
        "outputId": "d3770c68-a24f-43e2-cbb3-6dfb3db81205",
        "id": "I0T_X7BGN6u5"
      },
      "outputs": [
        {
          "output_type": "execute_result",
          "data": {
            "text/plain": [
              "<matplotlib.legend.Legend at 0x7f1038d97a90>"
            ]
          },
          "metadata": {},
          "execution_count": 118
        },
        {
          "output_type": "display_data",
          "data": {
            "text/plain": [
              "<Figure size 360x360 with 1 Axes>"
            ],
            "image/png": "[encoded data removed]"
          },
          "metadata": {}
        }
      ],
      "source": [
        "fpr, tpr, tr = roc_curve(df_actual_predicted_xg['y_actual_xg'], df_actual_predicted_xg['y_pred_proba_xg'])\n",
        "auc = roc_auc_score(df_actual_predicted_xg['y_actual_xg'], df_actual_predicted_xg['y_pred_proba_xg'])\n",
        "\n",
        "plt.plot(fpr, tpr, label='AUC = %0.4f' %auc)\n",
        "plt.plot(fpr, fpr, linestyle = '--', color='k')\n",
        "plt.xlabel('False Positive Rate')\n",
        "plt.ylabel('True Positive Rate')\n",
        "plt.title('ROC Curve')\n",
        "plt.legend()"
      ],
      "id": "I0T_X7BGN6u5"
    },
    {
      "cell_type": "markdown",
      "metadata": {
        "id": "AXUWUQNiN6u6"
      },
      "source": [
        "#### KS "
      ],
      "id": "AXUWUQNiN6u6"
    },
    {
      "cell_type": "code",
      "execution_count": null,
      "metadata": {
        "id": "8z1ZdSAKN6u6"
      },
      "outputs": [],
      "source": [
        "df_actual_predicted_xg = df_actual_predicted_xg.sort_values('y_pred_proba_xg')\n",
        "df_actual_predicted_xg = df_actual_predicted_xg.reset_index()\n",
        "\n",
        "df_actual_predicted_xg['Cumulative N Population'] = df_actual_predicted_xg.index + 1\n",
        "df_actual_predicted_xg['Cumulative N Bad'] = df_actual_predicted_xg['y_actual_xg'].cumsum()\n",
        "df_actual_predicted_xg['Cumulative N Good'] = df_actual_predicted_xg['Cumulative N Population'] - df_actual_predicted_xg['Cumulative N Bad']\n",
        "df_actual_predicted_xg['Cumulative Perc Population'] = df_actual_predicted_xg['Cumulative N Population'] / df_actual_predicted_xg.shape[0]\n",
        "df_actual_predicted_xg['Cumulative Perc Bad'] = df_actual_predicted_xg['Cumulative N Bad'] / df_actual_predicted_xg['y_actual_xg'].sum()\n",
        "df_actual_predicted_xg['Cumulative Perc Good'] = df_actual_predicted_xg['Cumulative N Good'] / (df_actual_predicted_xg.shape[0] - df_actual_predicted_xg['y_actual_xg'].sum())"
      ],
      "id": "8z1ZdSAKN6u6"
    },
    {
      "cell_type": "code",
      "execution_count": null,
      "metadata": {
        "colab": {
          "base_uri": "https://localhost:8080/"
        },
        "outputId": "978cf3d6-4e51-4764-e78d-9dc43f407cfd",
        "id": "yBsWbTOwN6u6"
      },
      "outputs": [
        {
          "output_type": "execute_result",
          "data": {
            "text/plain": [
              "    index  y_actual_xg  y_pred_proba_xg  Cumulative N Population  \\\n",
              "0  167426            0         0.001508                        1   \n",
              "1   88751            0         0.001627                        2   \n",
              "2  318579            0         0.001635                        3   \n",
              "3  310684            0         0.001696                        4   \n",
              "4  149243            0         0.001720                        5   \n",
              "\n",
              "   Cumulative N Bad  Cumulative N Good  Cumulative Perc Population  \\\n",
              "0                 0                  1                    0.000011   \n",
              "1                 0                  2                    0.000021   \n",
              "2                 0                  3                    0.000032   \n",
              "3                 0                  4                    0.000043   \n",
              "4                 0                  5                    0.000054   \n",
              "\n",
              "   Cumulative Perc Bad  Cumulative Perc Good  \n",
              "0                  0.0              0.000012  \n",
              "1                  0.0              0.000024  \n",
              "2                  0.0              0.000036  \n",
              "3                  0.0              0.000048  \n",
              "4                  0.0              0.000060  "
            ],
            "text/html": [
              "\n",
              "  <div id=\"df-46fc1ad9-7421-4490-8356-e7f73eccbd33\">\n",
              "    <div class=\"colab-df-container\">\n",
              "      <div>\n",
              "<style scoped>\n",
              "    .dataframe tbody tr th:only-of-type {\n",
              "        vertical-align: middle;\n",
              "    }\n",
              "\n",
              "    .dataframe tbody tr th {\n",
              "        vertical-align: top;\n",
              "    }\n",
              "\n",
              "    .dataframe thead th {\n",
              "        text-align: right;\n",
              "    }\n",
              "</style>\n",
              "<table border=\"1\" class=\"dataframe\">\n",
              "  <thead>\n",
              "    <tr style=\"text-align: right;\">\n",
              "      <th></th>\n",
              "      <th>index</th>\n",
              "      <th>y_actual_xg</th>\n",
              "      <th>y_pred_proba_xg</th>\n",
              "      <th>Cumulative N Population</th>\n",
              "      <th>Cumulative N Bad</th>\n",
              "      <th>Cumulative N Good</th>\n",
              "      <th>Cumulative Perc Population</th>\n",
              "      <th>Cumulative Perc Bad</th>\n",
              "      <th>Cumulative Perc Good</th>\n",
              "    </tr>\n",
              "  </thead>\n",
              "  <tbody>\n",
              "    <tr>\n",
              "      <th>0</th>\n",
              "      <td>167426</td>\n",
              "      <td>0</td>\n",
              "      <td>0.001508</td>\n",
              "      <td>1</td>\n",
              "      <td>0</td>\n",
              "      <td>1</td>\n",
              "      <td>0.000011</td>\n",
              "      <td>0.0</td>\n",
              "      <td>0.000012</td>\n",
              "    </tr>\n",
              "    <tr>\n",
              "      <th>1</th>\n",
              "      <td>88751</td>\n",
              "      <td>0</td>\n",
              "      <td>0.001627</td>\n",
              "      <td>2</td>\n",
              "      <td>0</td>\n",
              "      <td>2</td>\n",
              "      <td>0.000021</td>\n",
              "      <td>0.0</td>\n",
              "      <td>0.000024</td>\n",
              "    </tr>\n",
              "    <tr>\n",
              "      <th>2</th>\n",
              "      <td>318579</td>\n",
              "      <td>0</td>\n",
              "      <td>0.001635</td>\n",
              "      <td>3</td>\n",
              "      <td>0</td>\n",
              "      <td>3</td>\n",
              "      <td>0.000032</td>\n",
              "      <td>0.0</td>\n",
              "      <td>0.000036</td>\n",
              "    </tr>\n",
              "    <tr>\n",
              "      <th>3</th>\n",
              "      <td>310684</td>\n",
              "      <td>0</td>\n",
              "      <td>0.001696</td>\n",
              "      <td>4</td>\n",
              "      <td>0</td>\n",
              "      <td>4</td>\n",
              "      <td>0.000043</td>\n",
              "      <td>0.0</td>\n",
              "      <td>0.000048</td>\n",
              "    </tr>\n",
              "    <tr>\n",
              "      <th>4</th>\n",
              "      <td>149243</td>\n",
              "      <td>0</td>\n",
              "      <td>0.001720</td>\n",
              "      <td>5</td>\n",
              "      <td>0</td>\n",
              "      <td>5</td>\n",
              "      <td>0.000054</td>\n",
              "      <td>0.0</td>\n",
              "      <td>0.000060</td>\n",
              "    </tr>\n",
              "  </tbody>\n",
              "</table>\n",
              "</div>\n",
              "      <button class=\"colab-df-convert\" onclick=\"convertToInteractive('df-46fc1ad9-7421-4490-8356-e7f73eccbd33')\"\n",
              "              title=\"Convert this dataframe to an interactive table.\"\n",
              "              style=\"display:none;\">\n",
              "        \n",
              "  <svg xmlns=\"http://www.w3.org/2000/svg\" height=\"24px\"viewBox=\"0 0 24 24\"\n",
              "       width=\"24px\">\n",
              "    <path d=\"M0 0h24v24H0V0z\" fill=\"none\"/>\n",
              "    <path d=\"M18.56 5.44l.94 2.06.94-2.06 2.06-.94-2.06-.94-.94-2.06-.94 2.06-2.06.94zm-11 1L8.5 8.5l.94-2.06 2.06-.94-2.06-.94L8.5 2.5l-.94 2.06-2.06.94zm10 10l.94 2.06.94-2.06 2.06-.94-2.06-.94-.94-2.06-.94 2.06-2.06.94z\"/><path d=\"M17.41 7.96l-1.37-1.37c-.4-.4-.92-.59-1.43-.59-.52 0-1.04.2-1.43.59L10.3 9.45l-7.72 7.72c-.78.78-.78 2.05 0 2.83L4 21.41c.39.39.9.59 1.41.59.51 0 1.02-.2 1.41-.59l7.78-7.78 2.81-2.81c.8-.78.8-2.07 0-2.86zM5.41 20L4 18.59l7.72-7.72 1.47 1.35L5.41 20z\"/>\n",
              "  </svg>\n",
              "      </button>\n",
              "      \n",
              "  <style>\n",
              "    .colab-df-container {\n",
              "      display:flex;\n",
              "      flex-wrap:wrap;\n",
              "      gap: 12px;\n",
              "    }\n",
              "\n",
              "    .colab-df-convert {\n",
              "      background-color: #E8F0FE;\n",
              "      border: none;\n",
              "      border-radius: 50%;\n",
              "      cursor: pointer;\n",
              "      display: none;\n",
              "      fill: #1967D2;\n",
              "      height: 32px;\n",
              "      padding: 0 0 0 0;\n",
              "      width: 32px;\n",
              "    }\n",
              "\n",
              "    .colab-df-convert:hover {\n",
              "      background-color: #E2EBFA;\n",
              "      box-shadow: 0px 1px 2px rgba(60, 64, 67, 0.3), 0px 1px 3px 1px rgba(60, 64, 67, 0.15);\n",
              "      fill: #174EA6;\n",
              "    }\n",
              "\n",
              "    [theme=dark] .colab-df-convert {\n",
              "      background-color: #3B4455;\n",
              "      fill: #D2E3FC;\n",
              "    }\n",
              "\n",
              "    [theme=dark] .colab-df-convert:hover {\n",
              "      background-color: #434B5C;\n",
              "      box-shadow: 0px 1px 3px 1px rgba(0, 0, 0, 0.15);\n",
              "      filter: drop-shadow(0px 1px 2px rgba(0, 0, 0, 0.3));\n",
              "      fill: #FFFFFF;\n",
              "    }\n",
              "  </style>\n",
              "\n",
              "      <script>\n",
              "        const buttonEl =\n",
              "          document.querySelector('#df-46fc1ad9-7421-4490-8356-e7f73eccbd33 button.colab-df-convert');\n",
              "        buttonEl.style.display =\n",
              "          google.colab.kernel.accessAllowed ? 'block' : 'none';\n",
              "\n",
              "        async function convertToInteractive(key) {\n",
              "          const element = document.querySelector('#df-46fc1ad9-7421-4490-8356-e7f73eccbd33');\n",
              "          const dataTable =\n",
              "            await google.colab.kernel.invokeFunction('convertToInteractive',\n",
              "                                                     [key], {});\n",
              "          if (!dataTable) return;\n",
              "\n",
              "          const docLinkHtml = 'Like what you see? Visit the ' +\n",
              "            '<a target=\"_blank\" href=https://colab.research.google.com/notebooks/data_table.ipynb>data table notebook</a>'\n",
              "            + ' to learn more about interactive tables.';\n",
              "          element.innerHTML = '';\n",
              "          dataTable['output_type'] = 'display_data';\n",
              "          await google.colab.output.renderOutput(dataTable, element);\n",
              "          const docLink = document.createElement('div');\n",
              "          docLink.innerHTML = docLinkHtml;\n",
              "          element.appendChild(docLink);\n",
              "        }\n",
              "      </script>\n",
              "    </div>\n",
              "  </div>\n",
              "  "
            ]
          },
          "metadata": {},
          "execution_count": 120
        }
      ],
      "source": [
        "df_actual_predicted_xg.head()"
      ],
      "id": "yBsWbTOwN6u6"
    },
    {
      "cell_type": "code",
      "execution_count": null,
      "metadata": {
        "colab": {
          "base_uri": "https://localhost:8080/"
        },
        "outputId": "9f13e2ed-cd1e-4d16-93a2-dbf53d2b883e",
        "id": "7hWClUetN6u6"
      },
      "outputs": [
        {
          "output_type": "execute_result",
          "data": {
            "text/plain": [
              "Text(0.5, 1.0, 'Kolmogorov-Smirnov:  0.6270')"
            ]
          },
          "metadata": {},
          "execution_count": 121
        },
        {
          "output_type": "display_data",
          "data": {
            "text/plain": [
              "<Figure size 360x360 with 1 Axes>"
            ],
            "image/png": "[encoded data removed]"
          },
          "metadata": {}
        }
      ],
      "source": [
        "KS = max(df_actual_predicted_xg['Cumulative Perc Good'] - df_actual_predicted_xg['Cumulative Perc Bad'])\n",
        "\n",
        "plt.plot(df_actual_predicted_xg['y_pred_proba_xg'], df_actual_predicted_xg['Cumulative Perc Bad'], color='r')\n",
        "plt.plot(df_actual_predicted_xg['y_pred_proba_xg'], df_actual_predicted_xg['Cumulative Perc Good'], color='b')\n",
        "plt.xlabel('Estimated Probability for Being Bad')\n",
        "plt.ylabel('Cumulative %')\n",
        "plt.title('Kolmogorov-Smirnov:  %0.4f' %KS)"
      ],
      "id": "7hWClUetN6u6"
    },
    {
      "cell_type": "markdown",
      "metadata": {
        "id": "CgI4ADWRN6u7"
      },
      "source": [
        "Model yang dibangun menghasilkan performa `AUC = 0.8963` dan `KS = 0.6270`. Pada dunia credit risk modeling, umumnya AUC di atas 0.7 dan KS di atas 0.3 sudah termasuk performa yang baik."
      ],
      "id": "CgI4ADWRN6u7"
    },
    {
      "cell_type": "markdown",
      "metadata": {
        "id": "aa049614-8711-47a4-9b5d-c354fc9441f5"
      },
      "source": [
        "#Feature Importance dapat ditampilkan."
      ],
      "id": "aa049614-8711-47a4-9b5d-c354fc9441f5"
    },
    {
      "cell_type": "code",
      "execution_count": null,
      "metadata": {
        "id": "b3b29f1c-009d-4ca0-9a9c-1a69f4bb7b9e",
        "colab": {
          "base_uri": "https://localhost:8080/"
        },
        "outputId": "f9d0c340-2d10-4a38-c12f-058687727e0e"
      },
      "outputs": [
        {
          "output_type": "execute_result",
          "data": {
            "text/plain": [
              "                                feature  importance\n",
              "90                           recoveries    0.956908\n",
              "88                            out_prncp    0.003054\n",
              "96                             term_int    0.002761\n",
              "89                   total_rec_late_fee    0.002356\n",
              "3                               grade_E    0.001496\n",
              "4                               grade_F    0.001179\n",
              "0                               grade_B    0.001115\n",
              "75                initial_list_status_w    0.001037\n",
              "98                   mths_since_issue_d    0.001004\n",
              "2                               grade_D    0.000981\n",
              "77                             int_rate    0.000909\n",
              "5                               grade_G    0.000821\n",
              "76                            loan_amnt    0.000691\n",
              "10                  home_ownership_RENT    0.000493\n",
              "78                           annual_inc    0.000483\n",
              "67                        addr_state_TX    0.000462\n",
              "81                       inq_last_6mths    0.000461\n",
              "1                               grade_C    0.000453\n",
              "94                          tot_cur_bal    0.000452\n",
              "23               purpose_small_business    0.000440\n",
              "66                        addr_state_TN    0.000429\n",
              "79                                  dti    0.000426\n",
              "6               home_ownership_MORTGAGE    0.000413\n",
              "65                        addr_state_SD    0.000393\n",
              "64                        addr_state_SC    0.000389\n",
              "58                        addr_state_NY    0.000379\n",
              "41                        addr_state_KS    0.000375\n",
              "57                        addr_state_NV    0.000372\n",
              "84                              pub_rec    0.000366\n",
              "92                       acc_now_delinq    0.000358\n",
              "30                        addr_state_CO    0.000355\n",
              "26                        addr_state_AL    0.000349\n",
              "71                        addr_state_WA    0.000344\n",
              "86                           revol_util    0.000341\n",
              "32                        addr_state_DC    0.000340\n",
              "12         verification_status_Verified    0.000337\n",
              "29                        addr_state_CA    0.000337\n",
              "62                        addr_state_PA    0.000337\n",
              "40                        addr_state_IN    0.000330\n",
              "97          mths_since_earliest_cr_line    0.000328\n",
              "51                        addr_state_MT    0.000324\n",
              "85                            revol_bal    0.000320\n",
              "56                        addr_state_NM    0.000320\n",
              "44                        addr_state_MA    0.000320\n",
              "55                        addr_state_NJ    0.000320\n",
              "47                        addr_state_MI    0.000318\n",
              "95                       emp_length_int    0.000314\n",
              "93                         tot_coll_amt    0.000313\n",
              "54                        addr_state_NH    0.000311\n",
              "61                        addr_state_OR    0.000311\n",
              "52                        addr_state_NC    0.000309\n",
              "49                        addr_state_MO    0.000307\n",
              "48                        addr_state_MN    0.000307\n",
              "20                       purpose_moving    0.000306\n",
              "74                        addr_state_WY    0.000306\n",
              "42                        addr_state_KY    0.000305\n",
              "45                        addr_state_MD    0.000302\n",
              "13                  purpose_credit_card    0.000300\n",
              "16             purpose_home_improvement    0.000300\n",
              "82               mths_since_last_delinq    0.000298\n",
              "11  verification_status_Source Verified    0.000298\n",
              "35                        addr_state_GA    0.000297\n",
              "68                        addr_state_UT    0.000293\n",
              "69                        addr_state_VA    0.000291\n",
              "31                        addr_state_CT    0.000289\n",
              "27                        addr_state_AR    0.000288\n",
              "39                        addr_state_IL    0.000286\n",
              "72                        addr_state_WI    0.000285\n",
              "91           collections_12_mths_ex_med    0.000284\n",
              "34                        addr_state_FL    0.000283\n",
              "25                      purpose_wedding    0.000283\n",
              "73                        addr_state_WV    0.000281\n",
              "21                        purpose_other    0.000280\n",
              "83                             open_acc    0.000279\n",
              "43                        addr_state_LA    0.000277\n",
              "19                      purpose_medical    0.000277\n",
              "9                    home_ownership_OWN    0.000272\n",
              "28                        addr_state_AZ    0.000272\n",
              "59                        addr_state_OH    0.000272\n",
              "60                        addr_state_OK    0.000271\n",
              "87                            total_acc    0.000269\n",
              "24                     purpose_vacation    0.000268\n",
              "80                          delinq_2yrs    0.000260\n",
              "18               purpose_major_purchase    0.000256\n",
              "50                        addr_state_MS    0.000250\n",
              "63                        addr_state_RI    0.000245\n",
              "36                        addr_state_HI    0.000241\n",
              "17                        purpose_house    0.000235\n",
              "14           purpose_debt_consolidation    0.000233\n",
              "70                        addr_state_VT    0.000219\n",
              "15                  purpose_educational    0.000196\n",
              "33                        addr_state_DE    0.000185\n",
              "8                  home_ownership_OTHER    0.000183\n",
              "7                   home_ownership_NONE    0.000174\n",
              "22             purpose_renewable_energy    0.000068\n",
              "53                        addr_state_NE    0.000000\n",
              "37                        addr_state_IA    0.000000\n",
              "38                        addr_state_ID    0.000000\n",
              "46                        addr_state_ME    0.000000"
            ],
            "text/html": [
              "\n",
              "  <div id=\"df-27a42203-2feb-4bd8-98b0-d9c4c75722ec\">\n",
              "    <div class=\"colab-df-container\">\n",
              "      <div>\n",
              "<style scoped>\n",
              "    .dataframe tbody tr th:only-of-type {\n",
              "        vertical-align: middle;\n",
              "    }\n",
              "\n",
              "    .dataframe tbody tr th {\n",
              "        vertical-align: top;\n",
              "    }\n",
              "\n",
              "    .dataframe thead th {\n",
              "        text-align: right;\n",
              "    }\n",
              "</style>\n",
              "<table border=\"1\" class=\"dataframe\">\n",
              "  <thead>\n",
              "    <tr style=\"text-align: right;\">\n",
              "      <th></th>\n",
              "      <th>feature</th>\n",
              "      <th>importance</th>\n",
              "    </tr>\n",
              "  </thead>\n",
              "  <tbody>\n",
              "    <tr>\n",
              "      <th>90</th>\n",
              "      <td>recoveries</td>\n",
              "      <td>0.956908</td>\n",
              "    </tr>\n",
              "    <tr>\n",
              "      <th>88</th>\n",
              "      <td>out_prncp</td>\n",
              "      <td>0.003054</td>\n",
              "    </tr>\n",
              "    <tr>\n",
              "      <th>96</th>\n",
              "      <td>term_int</td>\n",
              "      <td>0.002761</td>\n",
              "    </tr>\n",
              "    <tr>\n",
              "      <th>89</th>\n",
              "      <td>total_rec_late_fee</td>\n",
              "      <td>0.002356</td>\n",
              "    </tr>\n",
              "    <tr>\n",
              "      <th>3</th>\n",
              "      <td>grade_E</td>\n",
              "      <td>0.001496</td>\n",
              "    </tr>\n",
              "    <tr>\n",
              "      <th>4</th>\n",
              "      <td>grade_F</td>\n",
              "      <td>0.001179</td>\n",
              "    </tr>\n",
              "    <tr>\n",
              "      <th>0</th>\n",
              "      <td>grade_B</td>\n",
              "      <td>0.001115</td>\n",
              "    </tr>\n",
              "    <tr>\n",
              "      <th>75</th>\n",
              "      <td>initial_list_status_w</td>\n",
              "      <td>0.001037</td>\n",
              "    </tr>\n",
              "    <tr>\n",
              "      <th>98</th>\n",
              "      <td>mths_since_issue_d</td>\n",
              "      <td>0.001004</td>\n",
              "    </tr>\n",
              "    <tr>\n",
              "      <th>2</th>\n",
              "      <td>grade_D</td>\n",
              "      <td>0.000981</td>\n",
              "    </tr>\n",
              "    <tr>\n",
              "      <th>77</th>\n",
              "      <td>int_rate</td>\n",
              "      <td>0.000909</td>\n",
              "    </tr>\n",
              "    <tr>\n",
              "      <th>5</th>\n",
              "      <td>grade_G</td>\n",
              "      <td>0.000821</td>\n",
              "    </tr>\n",
              "    <tr>\n",
              "      <th>76</th>\n",
              "      <td>loan_amnt</td>\n",
              "      <td>0.000691</td>\n",
              "    </tr>\n",
              "    <tr>\n",
              "      <th>10</th>\n",
              "      <td>home_ownership_RENT</td>\n",
              "      <td>0.000493</td>\n",
              "    </tr>\n",
              "    <tr>\n",
              "      <th>78</th>\n",
              "      <td>annual_inc</td>\n",
              "      <td>0.000483</td>\n",
              "    </tr>\n",
              "    <tr>\n",
              "      <th>67</th>\n",
              "      <td>addr_state_TX</td>\n",
              "      <td>0.000462</td>\n",
              "    </tr>\n",
              "    <tr>\n",
              "      <th>81</th>\n",
              "      <td>inq_last_6mths</td>\n",
              "      <td>0.000461</td>\n",
              "    </tr>\n",
              "    <tr>\n",
              "      <th>1</th>\n",
              "      <td>grade_C</td>\n",
              "      <td>0.000453</td>\n",
              "    </tr>\n",
              "    <tr>\n",
              "      <th>94</th>\n",
              "      <td>tot_cur_bal</td>\n",
              "      <td>0.000452</td>\n",
              "    </tr>\n",
              "    <tr>\n",
              "      <th>23</th>\n",
              "      <td>purpose_small_business</td>\n",
              "      <td>0.000440</td>\n",
              "    </tr>\n",
              "    <tr>\n",
              "      <th>66</th>\n",
              "      <td>addr_state_TN</td>\n",
              "      <td>0.000429</td>\n",
              "    </tr>\n",
              "    <tr>\n",
              "      <th>79</th>\n",
              "      <td>dti</td>\n",
              "      <td>0.000426</td>\n",
              "    </tr>\n",
              "    <tr>\n",
              "      <th>6</th>\n",
              "      <td>home_ownership_MORTGAGE</td>\n",
              "      <td>0.000413</td>\n",
              "    </tr>\n",
              "    <tr>\n",
              "      <th>65</th>\n",
              "      <td>addr_state_SD</td>\n",
              "      <td>0.000393</td>\n",
              "    </tr>\n",
              "    <tr>\n",
              "      <th>64</th>\n",
              "      <td>addr_state_SC</td>\n",
              "      <td>0.000389</td>\n",
              "    </tr>\n",
              "    <tr>\n",
              "      <th>58</th>\n",
              "      <td>addr_state_NY</td>\n",
              "      <td>0.000379</td>\n",
              "    </tr>\n",
              "    <tr>\n",
              "      <th>41</th>\n",
              "      <td>addr_state_KS</td>\n",
              "      <td>0.000375</td>\n",
              "    </tr>\n",
              "    <tr>\n",
              "      <th>57</th>\n",
              "      <td>addr_state_NV</td>\n",
              "      <td>0.000372</td>\n",
              "    </tr>\n",
              "    <tr>\n",
              "      <th>84</th>\n",
              "      <td>pub_rec</td>\n",
              "      <td>0.000366</td>\n",
              "    </tr>\n",
              "    <tr>\n",
              "      <th>92</th>\n",
              "      <td>acc_now_delinq</td>\n",
              "      <td>0.000358</td>\n",
              "    </tr>\n",
              "    <tr>\n",
              "      <th>30</th>\n",
              "      <td>addr_state_CO</td>\n",
              "      <td>0.000355</td>\n",
              "    </tr>\n",
              "    <tr>\n",
              "      <th>26</th>\n",
              "      <td>addr_state_AL</td>\n",
              "      <td>0.000349</td>\n",
              "    </tr>\n",
              "    <tr>\n",
              "      <th>71</th>\n",
              "      <td>addr_state_WA</td>\n",
              "      <td>0.000344</td>\n",
              "    </tr>\n",
              "    <tr>\n",
              "      <th>86</th>\n",
              "      <td>revol_util</td>\n",
              "      <td>0.000341</td>\n",
              "    </tr>\n",
              "    <tr>\n",
              "      <th>32</th>\n",
              "      <td>addr_state_DC</td>\n",
              "      <td>0.000340</td>\n",
              "    </tr>\n",
              "    <tr>\n",
              "      <th>12</th>\n",
              "      <td>verification_status_Verified</td>\n",
              "      <td>0.000337</td>\n",
              "    </tr>\n",
              "    <tr>\n",
              "      <th>29</th>\n",
              "      <td>addr_state_CA</td>\n",
              "      <td>0.000337</td>\n",
              "    </tr>\n",
              "    <tr>\n",
              "      <th>62</th>\n",
              "      <td>addr_state_PA</td>\n",
              "      <td>0.000337</td>\n",
              "    </tr>\n",
              "    <tr>\n",
              "      <th>40</th>\n",
              "      <td>addr_state_IN</td>\n",
              "      <td>0.000330</td>\n",
              "    </tr>\n",
              "    <tr>\n",
              "      <th>97</th>\n",
              "      <td>mths_since_earliest_cr_line</td>\n",
              "      <td>0.000328</td>\n",
              "    </tr>\n",
              "    <tr>\n",
              "      <th>51</th>\n",
              "      <td>addr_state_MT</td>\n",
              "      <td>0.000324</td>\n",
              "    </tr>\n",
              "    <tr>\n",
              "      <th>85</th>\n",
              "      <td>revol_bal</td>\n",
              "      <td>0.000320</td>\n",
              "    </tr>\n",
              "    <tr>\n",
              "      <th>56</th>\n",
              "      <td>addr_state_NM</td>\n",
              "      <td>0.000320</td>\n",
              "    </tr>\n",
              "    <tr>\n",
              "      <th>44</th>\n",
              "      <td>addr_state_MA</td>\n",
              "      <td>0.000320</td>\n",
              "    </tr>\n",
              "    <tr>\n",
              "      <th>55</th>\n",
              "      <td>addr_state_NJ</td>\n",
              "      <td>0.000320</td>\n",
              "    </tr>\n",
              "    <tr>\n",
              "      <th>47</th>\n",
              "      <td>addr_state_MI</td>\n",
              "      <td>0.000318</td>\n",
              "    </tr>\n",
              "    <tr>\n",
              "      <th>95</th>\n",
              "      <td>emp_length_int</td>\n",
              "      <td>0.000314</td>\n",
              "    </tr>\n",
              "    <tr>\n",
              "      <th>93</th>\n",
              "      <td>tot_coll_amt</td>\n",
              "      <td>0.000313</td>\n",
              "    </tr>\n",
              "    <tr>\n",
              "      <th>54</th>\n",
              "      <td>addr_state_NH</td>\n",
              "      <td>0.000311</td>\n",
              "    </tr>\n",
              "    <tr>\n",
              "      <th>61</th>\n",
              "      <td>addr_state_OR</td>\n",
              "      <td>0.000311</td>\n",
              "    </tr>\n",
              "    <tr>\n",
              "      <th>52</th>\n",
              "      <td>addr_state_NC</td>\n",
              "      <td>0.000309</td>\n",
              "    </tr>\n",
              "    <tr>\n",
              "      <th>49</th>\n",
              "      <td>addr_state_MO</td>\n",
              "      <td>0.000307</td>\n",
              "    </tr>\n",
              "    <tr>\n",
              "      <th>48</th>\n",
              "      <td>addr_state_MN</td>\n",
              "      <td>0.000307</td>\n",
              "    </tr>\n",
              "    <tr>\n",
              "      <th>20</th>\n",
              "      <td>purpose_moving</td>\n",
              "      <td>0.000306</td>\n",
              "    </tr>\n",
              "    <tr>\n",
              "      <th>74</th>\n",
              "      <td>addr_state_WY</td>\n",
              "      <td>0.000306</td>\n",
              "    </tr>\n",
              "    <tr>\n",
              "      <th>42</th>\n",
              "      <td>addr_state_KY</td>\n",
              "      <td>0.000305</td>\n",
              "    </tr>\n",
              "    <tr>\n",
              "      <th>45</th>\n",
              "      <td>addr_state_MD</td>\n",
              "      <td>0.000302</td>\n",
              "    </tr>\n",
              "    <tr>\n",
              "      <th>13</th>\n",
              "      <td>purpose_credit_card</td>\n",
              "      <td>0.000300</td>\n",
              "    </tr>\n",
              "    <tr>\n",
              "      <th>16</th>\n",
              "      <td>purpose_home_improvement</td>\n",
              "      <td>0.000300</td>\n",
              "    </tr>\n",
              "    <tr>\n",
              "      <th>82</th>\n",
              "      <td>mths_since_last_delinq</td>\n",
              "      <td>0.000298</td>\n",
              "    </tr>\n",
              "    <tr>\n",
              "      <th>11</th>\n",
              "      <td>verification_status_Source Verified</td>\n",
              "      <td>0.000298</td>\n",
              "    </tr>\n",
              "    <tr>\n",
              "      <th>35</th>\n",
              "      <td>addr_state_GA</td>\n",
              "      <td>0.000297</td>\n",
              "    </tr>\n",
              "    <tr>\n",
              "      <th>68</th>\n",
              "      <td>addr_state_UT</td>\n",
              "      <td>0.000293</td>\n",
              "    </tr>\n",
              "    <tr>\n",
              "      <th>69</th>\n",
              "      <td>addr_state_VA</td>\n",
              "      <td>0.000291</td>\n",
              "    </tr>\n",
              "    <tr>\n",
              "      <th>31</th>\n",
              "      <td>addr_state_CT</td>\n",
              "      <td>0.000289</td>\n",
              "    </tr>\n",
              "    <tr>\n",
              "      <th>27</th>\n",
              "      <td>addr_state_AR</td>\n",
              "      <td>0.000288</td>\n",
              "    </tr>\n",
              "    <tr>\n",
              "      <th>39</th>\n",
              "      <td>addr_state_IL</td>\n",
              "      <td>0.000286</td>\n",
              "    </tr>\n",
              "    <tr>\n",
              "      <th>72</th>\n",
              "      <td>addr_state_WI</td>\n",
              "      <td>0.000285</td>\n",
              "    </tr>\n",
              "    <tr>\n",
              "      <th>91</th>\n",
              "      <td>collections_12_mths_ex_med</td>\n",
              "      <td>0.000284</td>\n",
              "    </tr>\n",
              "    <tr>\n",
              "      <th>34</th>\n",
              "      <td>addr_state_FL</td>\n",
              "      <td>0.000283</td>\n",
              "    </tr>\n",
              "    <tr>\n",
              "      <th>25</th>\n",
              "      <td>purpose_wedding</td>\n",
              "      <td>0.000283</td>\n",
              "    </tr>\n",
              "    <tr>\n",
              "      <th>73</th>\n",
              "      <td>addr_state_WV</td>\n",
              "      <td>0.000281</td>\n",
              "    </tr>\n",
              "    <tr>\n",
              "      <th>21</th>\n",
              "      <td>purpose_other</td>\n",
              "      <td>0.000280</td>\n",
              "    </tr>\n",
              "    <tr>\n",
              "      <th>83</th>\n",
              "      <td>open_acc</td>\n",
              "      <td>0.000279</td>\n",
              "    </tr>\n",
              "    <tr>\n",
              "      <th>43</th>\n",
              "      <td>addr_state_LA</td>\n",
              "      <td>0.000277</td>\n",
              "    </tr>\n",
              "    <tr>\n",
              "      <th>19</th>\n",
              "      <td>purpose_medical</td>\n",
              "      <td>0.000277</td>\n",
              "    </tr>\n",
              "    <tr>\n",
              "      <th>9</th>\n",
              "      <td>home_ownership_OWN</td>\n",
              "      <td>0.000272</td>\n",
              "    </tr>\n",
              "    <tr>\n",
              "      <th>28</th>\n",
              "      <td>addr_state_AZ</td>\n",
              "      <td>0.000272</td>\n",
              "    </tr>\n",
              "    <tr>\n",
              "      <th>59</th>\n",
              "      <td>addr_state_OH</td>\n",
              "      <td>0.000272</td>\n",
              "    </tr>\n",
              "    <tr>\n",
              "      <th>60</th>\n",
              "      <td>addr_state_OK</td>\n",
              "      <td>0.000271</td>\n",
              "    </tr>\n",
              "    <tr>\n",
              "      <th>87</th>\n",
              "      <td>total_acc</td>\n",
              "      <td>0.000269</td>\n",
              "    </tr>\n",
              "    <tr>\n",
              "      <th>24</th>\n",
              "      <td>purpose_vacation</td>\n",
              "      <td>0.000268</td>\n",
              "    </tr>\n",
              "    <tr>\n",
              "      <th>80</th>\n",
              "      <td>delinq_2yrs</td>\n",
              "      <td>0.000260</td>\n",
              "    </tr>\n",
              "    <tr>\n",
              "      <th>18</th>\n",
              "      <td>purpose_major_purchase</td>\n",
              "      <td>0.000256</td>\n",
              "    </tr>\n",
              "    <tr>\n",
              "      <th>50</th>\n",
              "      <td>addr_state_MS</td>\n",
              "      <td>0.000250</td>\n",
              "    </tr>\n",
              "    <tr>\n",
              "      <th>63</th>\n",
              "      <td>addr_state_RI</td>\n",
              "      <td>0.000245</td>\n",
              "    </tr>\n",
              "    <tr>\n",
              "      <th>36</th>\n",
              "      <td>addr_state_HI</td>\n",
              "      <td>0.000241</td>\n",
              "    </tr>\n",
              "    <tr>\n",
              "      <th>17</th>\n",
              "      <td>purpose_house</td>\n",
              "      <td>0.000235</td>\n",
              "    </tr>\n",
              "    <tr>\n",
              "      <th>14</th>\n",
              "      <td>purpose_debt_consolidation</td>\n",
              "      <td>0.000233</td>\n",
              "    </tr>\n",
              "    <tr>\n",
              "      <th>70</th>\n",
              "      <td>addr_state_VT</td>\n",
              "      <td>0.000219</td>\n",
              "    </tr>\n",
              "    <tr>\n",
              "      <th>15</th>\n",
              "      <td>purpose_educational</td>\n",
              "      <td>0.000196</td>\n",
              "    </tr>\n",
              "    <tr>\n",
              "      <th>33</th>\n",
              "      <td>addr_state_DE</td>\n",
              "      <td>0.000185</td>\n",
              "    </tr>\n",
              "    <tr>\n",
              "      <th>8</th>\n",
              "      <td>home_ownership_OTHER</td>\n",
              "      <td>0.000183</td>\n",
              "    </tr>\n",
              "    <tr>\n",
              "      <th>7</th>\n",
              "      <td>home_ownership_NONE</td>\n",
              "      <td>0.000174</td>\n",
              "    </tr>\n",
              "    <tr>\n",
              "      <th>22</th>\n",
              "      <td>purpose_renewable_energy</td>\n",
              "      <td>0.000068</td>\n",
              "    </tr>\n",
              "    <tr>\n",
              "      <th>53</th>\n",
              "      <td>addr_state_NE</td>\n",
              "      <td>0.000000</td>\n",
              "    </tr>\n",
              "    <tr>\n",
              "      <th>37</th>\n",
              "      <td>addr_state_IA</td>\n",
              "      <td>0.000000</td>\n",
              "    </tr>\n",
              "    <tr>\n",
              "      <th>38</th>\n",
              "      <td>addr_state_ID</td>\n",
              "      <td>0.000000</td>\n",
              "    </tr>\n",
              "    <tr>\n",
              "      <th>46</th>\n",
              "      <td>addr_state_ME</td>\n",
              "      <td>0.000000</td>\n",
              "    </tr>\n",
              "  </tbody>\n",
              "</table>\n",
              "</div>\n",
              "      <button class=\"colab-df-convert\" onclick=\"convertToInteractive('df-27a42203-2feb-4bd8-98b0-d9c4c75722ec')\"\n",
              "              title=\"Convert this dataframe to an interactive table.\"\n",
              "              style=\"display:none;\">\n",
              "        \n",
              "  <svg xmlns=\"http://www.w3.org/2000/svg\" height=\"24px\"viewBox=\"0 0 24 24\"\n",
              "       width=\"24px\">\n",
              "    <path d=\"M0 0h24v24H0V0z\" fill=\"none\"/>\n",
              "    <path d=\"M18.56 5.44l.94 2.06.94-2.06 2.06-.94-2.06-.94-.94-2.06-.94 2.06-2.06.94zm-11 1L8.5 8.5l.94-2.06 2.06-.94-2.06-.94L8.5 2.5l-.94 2.06-2.06.94zm10 10l.94 2.06.94-2.06 2.06-.94-2.06-.94-.94-2.06-.94 2.06-2.06.94z\"/><path d=\"M17.41 7.96l-1.37-1.37c-.4-.4-.92-.59-1.43-.59-.52 0-1.04.2-1.43.59L10.3 9.45l-7.72 7.72c-.78.78-.78 2.05 0 2.83L4 21.41c.39.39.9.59 1.41.59.51 0 1.02-.2 1.41-.59l7.78-7.78 2.81-2.81c.8-.78.8-2.07 0-2.86zM5.41 20L4 18.59l7.72-7.72 1.47 1.35L5.41 20z\"/>\n",
              "  </svg>\n",
              "      </button>\n",
              "      \n",
              "  <style>\n",
              "    .colab-df-container {\n",
              "      display:flex;\n",
              "      flex-wrap:wrap;\n",
              "      gap: 12px;\n",
              "    }\n",
              "\n",
              "    .colab-df-convert {\n",
              "      background-color: #E8F0FE;\n",
              "      border: none;\n",
              "      border-radius: 50%;\n",
              "      cursor: pointer;\n",
              "      display: none;\n",
              "      fill: #1967D2;\n",
              "      height: 32px;\n",
              "      padding: 0 0 0 0;\n",
              "      width: 32px;\n",
              "    }\n",
              "\n",
              "    .colab-df-convert:hover {\n",
              "      background-color: #E2EBFA;\n",
              "      box-shadow: 0px 1px 2px rgba(60, 64, 67, 0.3), 0px 1px 3px 1px rgba(60, 64, 67, 0.15);\n",
              "      fill: #174EA6;\n",
              "    }\n",
              "\n",
              "    [theme=dark] .colab-df-convert {\n",
              "      background-color: #3B4455;\n",
              "      fill: #D2E3FC;\n",
              "    }\n",
              "\n",
              "    [theme=dark] .colab-df-convert:hover {\n",
              "      background-color: #434B5C;\n",
              "      box-shadow: 0px 1px 3px 1px rgba(0, 0, 0, 0.15);\n",
              "      filter: drop-shadow(0px 1px 2px rgba(0, 0, 0, 0.3));\n",
              "      fill: #FFFFFF;\n",
              "    }\n",
              "  </style>\n",
              "\n",
              "      <script>\n",
              "        const buttonEl =\n",
              "          document.querySelector('#df-27a42203-2feb-4bd8-98b0-d9c4c75722ec button.colab-df-convert');\n",
              "        buttonEl.style.display =\n",
              "          google.colab.kernel.accessAllowed ? 'block' : 'none';\n",
              "\n",
              "        async function convertToInteractive(key) {\n",
              "          const element = document.querySelector('#df-27a42203-2feb-4bd8-98b0-d9c4c75722ec');\n",
              "          const dataTable =\n",
              "            await google.colab.kernel.invokeFunction('convertToInteractive',\n",
              "                                                     [key], {});\n",
              "          if (!dataTable) return;\n",
              "\n",
              "          const docLinkHtml = 'Like what you see? Visit the ' +\n",
              "            '<a target=\"_blank\" href=https://colab.research.google.com/notebooks/data_table.ipynb>data table notebook</a>'\n",
              "            + ' to learn more about interactive tables.';\n",
              "          element.innerHTML = '';\n",
              "          dataTable['output_type'] = 'display_data';\n",
              "          await google.colab.output.renderOutput(dataTable, element);\n",
              "          const docLink = document.createElement('div');\n",
              "          docLink.innerHTML = docLinkHtml;\n",
              "          element.appendChild(docLink);\n",
              "        }\n",
              "      </script>\n",
              "    </div>\n",
              "  </div>\n",
              "  "
            ]
          },
          "metadata": {},
          "execution_count": 122
        }
      ],
      "source": [
        "arr_feature_importances = XGBC.feature_importances_\n",
        "arr_feature_names = X_train.columns.values\n",
        "    \n",
        "df_feature_importance = pd.DataFrame(index=range(len(arr_feature_importances)), columns=['feature', 'importance'])\n",
        "df_feature_importance['feature'] = arr_feature_names\n",
        "df_feature_importance['importance'] = arr_feature_importances\n",
        "df_all_features = df_feature_importance.sort_values(by='importance', ascending=False)\n",
        "df_all_features"
      ],
      "id": "b3b29f1c-009d-4ca0-9a9c-1a69f4bb7b9e"
    }
  ],
  "metadata": {
    "kernelspec": {
      "display_name": "Python 3 (ipykernel)",
      "language": "python",
      "name": "python3"
    },
    "language_info": {
      "codemirror_mode": {
        "name": "ipython",
        "version": 3
      },
      "file_extension": ".py",
      "mimetype": "text/x-python",
      "name": "python",
      "nbconvert_exporter": "python",
      "pygments_lexer": "ipython3",
      "version": "3.9.7"
    },
    "colab": {
      "name": "Credit Risk ( Credit Rating Prediction ).ipynb",
      "provenance": [],
      "toc_visible": true
    }
  },
  "nbformat": 4,
  "nbformat_minor": 5
}